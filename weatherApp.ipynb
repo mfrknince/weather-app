{
 "cells": [
  {
   "cell_type": "code",
   "execution_count": 268,
   "id": "initial_id",
   "metadata": {
    "collapsed": true,
    "ExecuteTime": {
     "end_time": "2024-08-24T14:09:39.634718Z",
     "start_time": "2024-08-24T14:09:39.631010Z"
    }
   },
   "outputs": [],
   "source": [
    "import requests\n",
    "import pandas as pd"
   ]
  },
  {
   "cell_type": "code",
   "outputs": [],
   "source": [
    "city = input(\"Enter City:\")"
   ],
   "metadata": {
    "collapsed": false,
    "ExecuteTime": {
     "end_time": "2024-08-24T14:09:42.466012Z",
     "start_time": "2024-08-24T14:09:39.923623Z"
    }
   },
   "id": "b8e090e9bb170e13",
   "execution_count": 269
  },
  {
   "cell_type": "code",
   "outputs": [],
   "source": [
    "api_key = '2d300cd42548efadf84eb44c352f98cf'"
   ],
   "metadata": {
    "collapsed": false,
    "ExecuteTime": {
     "end_time": "2024-08-24T14:09:43.084059Z",
     "start_time": "2024-08-24T14:09:43.080377Z"
    }
   },
   "id": "60ce5f1aa652fbed",
   "execution_count": 270
  },
  {
   "cell_type": "markdown",
   "source": [
    "# Find Coordinates by Name"
   ],
   "metadata": {
    "collapsed": false
   },
   "id": "2e6b4c5f198faafd"
  },
  {
   "cell_type": "code",
   "outputs": [],
   "source": [
    "url = f'http://api.openweathermap.org/geo/1.0/direct?q={city}&appid={api_key}'"
   ],
   "metadata": {
    "collapsed": false,
    "ExecuteTime": {
     "end_time": "2024-08-24T14:09:43.664131Z",
     "start_time": "2024-08-24T14:09:43.660385Z"
    }
   },
   "id": "5ff07fe4c99d57eb",
   "execution_count": 271
  },
  {
   "cell_type": "code",
   "outputs": [],
   "source": [
    "res = requests.get(url)\n",
    "data = res.json()"
   ],
   "metadata": {
    "collapsed": false,
    "ExecuteTime": {
     "end_time": "2024-08-24T14:09:44.173045Z",
     "start_time": "2024-08-24T14:09:44.005239Z"
    }
   },
   "id": "5dfd9e0d76813453",
   "execution_count": 272
  },
  {
   "cell_type": "code",
   "outputs": [
    {
     "data": {
      "text/plain": "[{'name': 'Bursa',\n  'local_names': {'hu': 'Bursa',\n   'ug': 'بۇرسا',\n   'el': 'Προύσα',\n   'pl': 'Bursa',\n   'ml': 'ബുർസ',\n   'pt': 'Bursa',\n   'ku': 'Bursa',\n   'ko': '부르사',\n   'th': 'บูร์ซา',\n   'mk': 'Бурса',\n   'nl': 'Bursa',\n   'ur': 'بورصہ',\n   'tg': 'Бурсо',\n   'ce': 'Бурса',\n   'ar': 'بورصة',\n   'uk': 'Бурса',\n   'ne': 'बुर्सा',\n   'bn': 'বুরসা',\n   'ta': 'புர்சா',\n   'es': 'Bursa',\n   'de': 'Bursa',\n   'sv': 'Bursa',\n   'kk': 'Бурса',\n   'ru': 'Бурса',\n   'kn': 'ಬುರ್ಸಾ',\n   'tr': 'Bursa',\n   'en': 'Bursa',\n   'fr': 'Bursa',\n   'hi': 'बुर्सा',\n   'hy': 'Բուրսա',\n   'ps': 'بورصه',\n   'ka': 'ბურსა',\n   'sr': 'Бурса',\n   'os': 'Бурсæ',\n   'he': 'בורסה',\n   'fa': 'بورسا',\n   'no': 'Bursa',\n   'ja': 'ブルサ',\n   'it': 'Bursa',\n   'zh': '布尔萨',\n   'mr': 'बुर्सा'},\n  'lat': 40.182737,\n  'lon': 29.0675481,\n  'country': 'TR'}]"
     },
     "execution_count": 273,
     "metadata": {},
     "output_type": "execute_result"
    }
   ],
   "source": [
    "data"
   ],
   "metadata": {
    "collapsed": false,
    "ExecuteTime": {
     "end_time": "2024-08-24T14:09:44.209762Z",
     "start_time": "2024-08-24T14:09:44.202689Z"
    }
   },
   "id": "2b80df46cd407702",
   "execution_count": 273
  },
  {
   "cell_type": "code",
   "outputs": [],
   "source": [
    "city_name = data[0]['name']\n",
    "city_lat = data[0]['lat']\n",
    "city_lon = data[0]['lon']"
   ],
   "metadata": {
    "collapsed": false,
    "ExecuteTime": {
     "end_time": "2024-08-24T14:09:44.387561Z",
     "start_time": "2024-08-24T14:09:44.382304Z"
    }
   },
   "id": "d0063ec2d8db30bb",
   "execution_count": 274
  },
  {
   "cell_type": "markdown",
   "source": [
    "# Get Weather info"
   ],
   "metadata": {
    "collapsed": false
   },
   "id": "305b8d0aa7e7cbba"
  },
  {
   "cell_type": "code",
   "outputs": [],
   "source": [
    "\n",
    "url = f'https://api.openweathermap.org/data/3.0/onecall?lat={city_lat}&lon={city_lon}&units=metric&appid={api_key}'\n"
   ],
   "metadata": {
    "collapsed": false,
    "ExecuteTime": {
     "end_time": "2024-08-24T14:09:44.680026Z",
     "start_time": "2024-08-24T14:09:44.675471Z"
    }
   },
   "id": "1f259bc8b6abffd7",
   "execution_count": 275
  },
  {
   "cell_type": "code",
   "outputs": [],
   "source": [
    "\n",
    "res = requests.get(url)\n",
    "data = res.json()\n"
   ],
   "metadata": {
    "collapsed": false,
    "ExecuteTime": {
     "end_time": "2024-08-24T14:09:45.241816Z",
     "start_time": "2024-08-24T14:09:44.867559Z"
    }
   },
   "id": "788f50929f9a3b17",
   "execution_count": 276
  },
  {
   "cell_type": "code",
   "outputs": [
    {
     "data": {
      "text/plain": "{'lat': 40.1827,\n 'lon': 29.0675,\n 'timezone': 'Europe/Istanbul',\n 'timezone_offset': 10800,\n 'current': {'dt': 1724508588,\n  'sunrise': 1724469841,\n  'sunset': 1724518108,\n  'temp': 31,\n  'feels_like': 29.17,\n  'pressure': 1013,\n  'humidity': 22,\n  'dew_point': 6.81,\n  'uvi': 1.98,\n  'clouds': 2,\n  'visibility': 10000,\n  'wind_speed': 7.11,\n  'wind_deg': 34,\n  'wind_gust': 6.78,\n  'weather': [{'id': 800,\n    'main': 'Clear',\n    'description': 'clear sky',\n    'icon': '01d'}]},\n 'minutely': [{'dt': 1724508600, 'precipitation': 0},\n  {'dt': 1724508660, 'precipitation': 0},\n  {'dt': 1724508720, 'precipitation': 0},\n  {'dt': 1724508780, 'precipitation': 0},\n  {'dt': 1724508840, 'precipitation': 0},\n  {'dt': 1724508900, 'precipitation': 0},\n  {'dt': 1724508960, 'precipitation': 0},\n  {'dt': 1724509020, 'precipitation': 0},\n  {'dt': 1724509080, 'precipitation': 0},\n  {'dt': 1724509140, 'precipitation': 0},\n  {'dt': 1724509200, 'precipitation': 0},\n  {'dt': 1724509260, 'precipitation': 0},\n  {'dt': 1724509320, 'precipitation': 0},\n  {'dt': 1724509380, 'precipitation': 0},\n  {'dt': 1724509440, 'precipitation': 0},\n  {'dt': 1724509500, 'precipitation': 0},\n  {'dt': 1724509560, 'precipitation': 0},\n  {'dt': 1724509620, 'precipitation': 0},\n  {'dt': 1724509680, 'precipitation': 0},\n  {'dt': 1724509740, 'precipitation': 0},\n  {'dt': 1724509800, 'precipitation': 0},\n  {'dt': 1724509860, 'precipitation': 0},\n  {'dt': 1724509920, 'precipitation': 0},\n  {'dt': 1724509980, 'precipitation': 0},\n  {'dt': 1724510040, 'precipitation': 0},\n  {'dt': 1724510100, 'precipitation': 0},\n  {'dt': 1724510160, 'precipitation': 0},\n  {'dt': 1724510220, 'precipitation': 0},\n  {'dt': 1724510280, 'precipitation': 0},\n  {'dt': 1724510340, 'precipitation': 0},\n  {'dt': 1724510400, 'precipitation': 0},\n  {'dt': 1724510460, 'precipitation': 0},\n  {'dt': 1724510520, 'precipitation': 0},\n  {'dt': 1724510580, 'precipitation': 0},\n  {'dt': 1724510640, 'precipitation': 0},\n  {'dt': 1724510700, 'precipitation': 0},\n  {'dt': 1724510760, 'precipitation': 0},\n  {'dt': 1724510820, 'precipitation': 0},\n  {'dt': 1724510880, 'precipitation': 0},\n  {'dt': 1724510940, 'precipitation': 0},\n  {'dt': 1724511000, 'precipitation': 0},\n  {'dt': 1724511060, 'precipitation': 0},\n  {'dt': 1724511120, 'precipitation': 0},\n  {'dt': 1724511180, 'precipitation': 0},\n  {'dt': 1724511240, 'precipitation': 0},\n  {'dt': 1724511300, 'precipitation': 0},\n  {'dt': 1724511360, 'precipitation': 0},\n  {'dt': 1724511420, 'precipitation': 0},\n  {'dt': 1724511480, 'precipitation': 0},\n  {'dt': 1724511540, 'precipitation': 0},\n  {'dt': 1724511600, 'precipitation': 0},\n  {'dt': 1724511660, 'precipitation': 0},\n  {'dt': 1724511720, 'precipitation': 0},\n  {'dt': 1724511780, 'precipitation': 0},\n  {'dt': 1724511840, 'precipitation': 0},\n  {'dt': 1724511900, 'precipitation': 0},\n  {'dt': 1724511960, 'precipitation': 0},\n  {'dt': 1724512020, 'precipitation': 0},\n  {'dt': 1724512080, 'precipitation': 0},\n  {'dt': 1724512140, 'precipitation': 0}],\n 'hourly': [{'dt': 1724508000,\n   'temp': 31,\n   'feels_like': 29.17,\n   'pressure': 1013,\n   'humidity': 22,\n   'dew_point': 6.81,\n   'uvi': 1.98,\n   'clouds': 2,\n   'visibility': 10000,\n   'wind_speed': 7.11,\n   'wind_deg': 34,\n   'wind_gust': 6.78,\n   'weather': [{'id': 800,\n     'main': 'Clear',\n     'description': 'clear sky',\n     'icon': '01d'}],\n   'pop': 0},\n  {'dt': 1724511600,\n   'temp': 30.83,\n   'feels_like': 29.07,\n   'pressure': 1013,\n   'humidity': 23,\n   'dew_point': 7.32,\n   'uvi': 0.75,\n   'clouds': 2,\n   'visibility': 10000,\n   'wind_speed': 6.75,\n   'wind_deg': 37,\n   'wind_gust': 6.75,\n   'weather': [{'id': 800,\n     'main': 'Clear',\n     'description': 'clear sky',\n     'icon': '01d'}],\n   'pop': 0},\n  {'dt': 1724515200,\n   'temp': 29.82,\n   'feels_like': 28.34,\n   'pressure': 1013,\n   'humidity': 26,\n   'dew_point': 8.27,\n   'uvi': 0.16,\n   'clouds': 1,\n   'visibility': 10000,\n   'wind_speed': 5.26,\n   'wind_deg': 37,\n   'wind_gust': 6.73,\n   'weather': [{'id': 800,\n     'main': 'Clear',\n     'description': 'clear sky',\n     'icon': '01d'}],\n   'pop': 0},\n  {'dt': 1724518800,\n   'temp': 27.11,\n   'feels_like': 26.66,\n   'pressure': 1013,\n   'humidity': 34,\n   'dew_point': 9.91,\n   'uvi': 0,\n   'clouds': 1,\n   'visibility': 10000,\n   'wind_speed': 3.46,\n   'wind_deg': 57,\n   'wind_gust': 5.44,\n   'weather': [{'id': 800,\n     'main': 'Clear',\n     'description': 'clear sky',\n     'icon': '01n'}],\n   'pop': 0},\n  {'dt': 1724522400,\n   'temp': 24.36,\n   'feels_like': 23.95,\n   'pressure': 1014,\n   'humidity': 42,\n   'dew_point': 10.63,\n   'uvi': 0,\n   'clouds': 0,\n   'visibility': 10000,\n   'wind_speed': 3.01,\n   'wind_deg': 77,\n   'wind_gust': 3.78,\n   'weather': [{'id': 800,\n     'main': 'Clear',\n     'description': 'clear sky',\n     'icon': '01n'}],\n   'pop': 0},\n  {'dt': 1724526000,\n   'temp': 21.87,\n   'feels_like': 21.5,\n   'pressure': 1013,\n   'humidity': 53,\n   'dew_point': 10.61,\n   'uvi': 0,\n   'clouds': 3,\n   'visibility': 10000,\n   'wind_speed': 2.77,\n   'wind_deg': 93,\n   'wind_gust': 3.1,\n   'weather': [{'id': 800,\n     'main': 'Clear',\n     'description': 'clear sky',\n     'icon': '01n'}],\n   'pop': 0},\n  {'dt': 1724529600,\n   'temp': 21.4,\n   'feels_like': 21.01,\n   'pressure': 1013,\n   'humidity': 54,\n   'dew_point': 10.74,\n   'uvi': 0,\n   'clouds': 4,\n   'visibility': 10000,\n   'wind_speed': 2.39,\n   'wind_deg': 96,\n   'wind_gust': 2.6,\n   'weather': [{'id': 800,\n     'main': 'Clear',\n     'description': 'clear sky',\n     'icon': '01n'}],\n   'pop': 0},\n  {'dt': 1724533200,\n   'temp': 20.91,\n   'feels_like': 20.49,\n   'pressure': 1013,\n   'humidity': 55,\n   'dew_point': 10.47,\n   'uvi': 0,\n   'clouds': 6,\n   'visibility': 10000,\n   'wind_speed': 2.15,\n   'wind_deg': 93,\n   'wind_gust': 2.35,\n   'weather': [{'id': 800,\n     'main': 'Clear',\n     'description': 'clear sky',\n     'icon': '01n'}],\n   'pop': 0},\n  {'dt': 1724536800,\n   'temp': 20.56,\n   'feels_like': 20.13,\n   'pressure': 1013,\n   'humidity': 56,\n   'dew_point': 10.52,\n   'uvi': 0,\n   'clouds': 9,\n   'visibility': 10000,\n   'wind_speed': 2.01,\n   'wind_deg': 97,\n   'wind_gust': 2.36,\n   'weather': [{'id': 800,\n     'main': 'Clear',\n     'description': 'clear sky',\n     'icon': '01n'}],\n   'pop': 0},\n  {'dt': 1724540400,\n   'temp': 20.25,\n   'feels_like': 19.85,\n   'pressure': 1012,\n   'humidity': 58,\n   'dew_point': 10.79,\n   'uvi': 0,\n   'clouds': 10,\n   'visibility': 10000,\n   'wind_speed': 2.08,\n   'wind_deg': 83,\n   'wind_gust': 2.49,\n   'weather': [{'id': 800,\n     'main': 'Clear',\n     'description': 'clear sky',\n     'icon': '01n'}],\n   'pop': 0},\n  {'dt': 1724544000,\n   'temp': 19.97,\n   'feels_like': 19.59,\n   'pressure': 1012,\n   'humidity': 60,\n   'dew_point': 11.01,\n   'uvi': 0,\n   'clouds': 17,\n   'visibility': 10000,\n   'wind_speed': 2.18,\n   'wind_deg': 90,\n   'wind_gust': 2.69,\n   'weather': [{'id': 801,\n     'main': 'Clouds',\n     'description': 'few clouds',\n     'icon': '02n'}],\n   'pop': 0},\n  {'dt': 1724547600,\n   'temp': 19.65,\n   'feels_like': 19.29,\n   'pressure': 1012,\n   'humidity': 62,\n   'dew_point': 11.01,\n   'uvi': 0,\n   'clouds': 7,\n   'visibility': 10000,\n   'wind_speed': 1.89,\n   'wind_deg': 80,\n   'wind_gust': 2.11,\n   'weather': [{'id': 800,\n     'main': 'Clear',\n     'description': 'clear sky',\n     'icon': '01n'}],\n   'pop': 0},\n  {'dt': 1724551200,\n   'temp': 19.38,\n   'feels_like': 19.02,\n   'pressure': 1012,\n   'humidity': 63,\n   'dew_point': 11.14,\n   'uvi': 0,\n   'clouds': 3,\n   'visibility': 10000,\n   'wind_speed': 1.99,\n   'wind_deg': 89,\n   'wind_gust': 2.56,\n   'weather': [{'id': 800,\n     'main': 'Clear',\n     'description': 'clear sky',\n     'icon': '01n'}],\n   'pop': 0},\n  {'dt': 1724554800,\n   'temp': 19.32,\n   'feels_like': 18.98,\n   'pressure': 1012,\n   'humidity': 64,\n   'dew_point': 11.14,\n   'uvi': 0,\n   'clouds': 2,\n   'visibility': 10000,\n   'wind_speed': 2.06,\n   'wind_deg': 90,\n   'wind_gust': 2.6,\n   'weather': [{'id': 800,\n     'main': 'Clear',\n     'description': 'clear sky',\n     'icon': '01n'}],\n   'pop': 0},\n  {'dt': 1724558400,\n   'temp': 19.82,\n   'feels_like': 19.5,\n   'pressure': 1012,\n   'humidity': 63,\n   'dew_point': 11.49,\n   'uvi': 0.11,\n   'clouds': 1,\n   'visibility': 10000,\n   'wind_speed': 2.07,\n   'wind_deg': 77,\n   'wind_gust': 2.88,\n   'weather': [{'id': 800,\n     'main': 'Clear',\n     'description': 'clear sky',\n     'icon': '01d'}],\n   'pop': 0},\n  {'dt': 1724562000,\n   'temp': 22.86,\n   'feels_like': 22.61,\n   'pressure': 1011,\n   'humidity': 54,\n   'dew_point': 12.05,\n   'uvi': 0.55,\n   'clouds': 1,\n   'visibility': 10000,\n   'wind_speed': 1.99,\n   'wind_deg': 59,\n   'wind_gust': 3.1,\n   'weather': [{'id': 800,\n     'main': 'Clear',\n     'description': 'clear sky',\n     'icon': '01d'}],\n   'pop': 0},\n  {'dt': 1724565600,\n   'temp': 25.22,\n   'feels_like': 25.1,\n   'pressure': 1011,\n   'humidity': 50,\n   'dew_point': 12.91,\n   'uvi': 1.65,\n   'clouds': 0,\n   'visibility': 10000,\n   'wind_speed': 2.09,\n   'wind_deg': 40,\n   'wind_gust': 3.42,\n   'weather': [{'id': 800,\n     'main': 'Clear',\n     'description': 'clear sky',\n     'icon': '01d'}],\n   'pop': 0},\n  {'dt': 1724569200,\n   'temp': 27.53,\n   'feels_like': 27.52,\n   'pressure': 1011,\n   'humidity': 44,\n   'dew_point': 13.06,\n   'uvi': 3.35,\n   'clouds': 0,\n   'visibility': 10000,\n   'wind_speed': 2.47,\n   'wind_deg': 37,\n   'wind_gust': 3.79,\n   'weather': [{'id': 800,\n     'main': 'Clear',\n     'description': 'clear sky',\n     'icon': '01d'}],\n   'pop': 0},\n  {'dt': 1724572800,\n   'temp': 29.75,\n   'feels_like': 29.2,\n   'pressure': 1010,\n   'humidity': 38,\n   'dew_point': 13.03,\n   'uvi': 5.27,\n   'clouds': 0,\n   'visibility': 10000,\n   'wind_speed': 2.78,\n   'wind_deg': 37,\n   'wind_gust': 4.11,\n   'weather': [{'id': 800,\n     'main': 'Clear',\n     'description': 'clear sky',\n     'icon': '01d'}],\n   'pop': 0},\n  {'dt': 1724576400,\n   'temp': 31.67,\n   'feels_like': 31.06,\n   'pressure': 1009,\n   'humidity': 35,\n   'dew_point': 13.32,\n   'uvi': 6.76,\n   'clouds': 0,\n   'visibility': 10000,\n   'wind_speed': 3.29,\n   'wind_deg': 27,\n   'wind_gust': 4.39,\n   'weather': [{'id': 800,\n     'main': 'Clear',\n     'description': 'clear sky',\n     'icon': '01d'}],\n   'pop': 0},\n  {'dt': 1724580000,\n   'temp': 33.05,\n   'feels_like': 32.36,\n   'pressure': 1009,\n   'humidity': 32,\n   'dew_point': 13.34,\n   'uvi': 7.41,\n   'clouds': 1,\n   'visibility': 10000,\n   'wind_speed': 3.64,\n   'wind_deg': 23,\n   'wind_gust': 4.22,\n   'weather': [{'id': 800,\n     'main': 'Clear',\n     'description': 'clear sky',\n     'icon': '01d'}],\n   'pop': 0},\n  {'dt': 1724583600,\n   'temp': 34.39,\n   'feels_like': 33.63,\n   'pressure': 1008,\n   'humidity': 29,\n   'dew_point': 12.87,\n   'uvi': 6.88,\n   'clouds': 2,\n   'visibility': 10000,\n   'wind_speed': 4.52,\n   'wind_deg': 35,\n   'wind_gust': 4.49,\n   'weather': [{'id': 800,\n     'main': 'Clear',\n     'description': 'clear sky',\n     'icon': '01d'}],\n   'pop': 0},\n  {'dt': 1724587200,\n   'temp': 34.85,\n   'feels_like': 33.89,\n   'pressure': 1007,\n   'humidity': 27,\n   'dew_point': 12.09,\n   'uvi': 5.36,\n   'clouds': 4,\n   'visibility': 10000,\n   'wind_speed': 6.75,\n   'wind_deg': 36,\n   'wind_gust': 5.15,\n   'weather': [{'id': 800,\n     'main': 'Clear',\n     'description': 'clear sky',\n     'icon': '01d'}],\n   'pop': 0},\n  {'dt': 1724590800,\n   'temp': 34.62,\n   'feels_like': 33.76,\n   'pressure': 1007,\n   'humidity': 28,\n   'dew_point': 12.39,\n   'uvi': 3.56,\n   'clouds': 15,\n   'visibility': 10000,\n   'wind_speed': 7.78,\n   'wind_deg': 33,\n   'wind_gust': 6.29,\n   'weather': [{'id': 801,\n     'main': 'Clouds',\n     'description': 'few clouds',\n     'icon': '02d'}],\n   'pop': 0},\n  {'dt': 1724594400,\n   'temp': 32.78,\n   'feels_like': 32.02,\n   'pressure': 1007,\n   'humidity': 32,\n   'dew_point': 12.72,\n   'uvi': 1.7,\n   'clouds': 21,\n   'visibility': 10000,\n   'wind_speed': 8.29,\n   'wind_deg': 34,\n   'wind_gust': 7.37,\n   'weather': [{'id': 801,\n     'main': 'Clouds',\n     'description': 'few clouds',\n     'icon': '02d'}],\n   'pop': 0},\n  {'dt': 1724598000,\n   'temp': 31.31,\n   'feels_like': 30.62,\n   'pressure': 1007,\n   'humidity': 35,\n   'dew_point': 13.11,\n   'uvi': 0.59,\n   'clouds': 18,\n   'visibility': 10000,\n   'wind_speed': 7.86,\n   'wind_deg': 40,\n   'wind_gust': 7.88,\n   'weather': [{'id': 801,\n     'main': 'Clouds',\n     'description': 'few clouds',\n     'icon': '02d'}],\n   'pop': 0},\n  {'dt': 1724601600,\n   'temp': 29.27,\n   'feels_like': 28.88,\n   'pressure': 1008,\n   'humidity': 40,\n   'dew_point': 13.12,\n   'uvi': 0.11,\n   'clouds': 12,\n   'visibility': 10000,\n   'wind_speed': 5.58,\n   'wind_deg': 52,\n   'wind_gust': 8.45,\n   'weather': [{'id': 801,\n     'main': 'Clouds',\n     'description': 'few clouds',\n     'icon': '02d'}],\n   'pop': 0},\n  {'dt': 1724605200,\n   'temp': 25.86,\n   'feels_like': 25.78,\n   'pressure': 1008,\n   'humidity': 49,\n   'dew_point': 13.23,\n   'uvi': 0,\n   'clouds': 9,\n   'visibility': 10000,\n   'wind_speed': 2.92,\n   'wind_deg': 61,\n   'wind_gust': 4.79,\n   'weather': [{'id': 800,\n     'main': 'Clear',\n     'description': 'clear sky',\n     'icon': '01n'}],\n   'pop': 0},\n  {'dt': 1724608800,\n   'temp': 24.25,\n   'feels_like': 24.14,\n   'pressure': 1009,\n   'humidity': 54,\n   'dew_point': 13.16,\n   'uvi': 0,\n   'clouds': 8,\n   'visibility': 10000,\n   'wind_speed': 2.7,\n   'wind_deg': 83,\n   'wind_gust': 3.77,\n   'weather': [{'id': 800,\n     'main': 'Clear',\n     'description': 'clear sky',\n     'icon': '01n'}],\n   'pop': 0},\n  {'dt': 1724612400,\n   'temp': 23.51,\n   'feels_like': 23.38,\n   'pressure': 1009,\n   'humidity': 56,\n   'dew_point': 13.12,\n   'uvi': 0,\n   'clouds': 0,\n   'visibility': 10000,\n   'wind_speed': 2.47,\n   'wind_deg': 91,\n   'wind_gust': 2.71,\n   'weather': [{'id': 800,\n     'main': 'Clear',\n     'description': 'clear sky',\n     'icon': '01n'}],\n   'pop': 0},\n  {'dt': 1724616000,\n   'temp': 22.94,\n   'feels_like': 22.78,\n   'pressure': 1009,\n   'humidity': 57,\n   'dew_point': 12.91,\n   'uvi': 0,\n   'clouds': 0,\n   'visibility': 10000,\n   'wind_speed': 2.09,\n   'wind_deg': 99,\n   'wind_gust': 2.09,\n   'weather': [{'id': 800,\n     'main': 'Clear',\n     'description': 'clear sky',\n     'icon': '01n'}],\n   'pop': 0},\n  {'dt': 1724619600,\n   'temp': 22.35,\n   'feels_like': 22.16,\n   'pressure': 1009,\n   'humidity': 58,\n   'dew_point': 12.56,\n   'uvi': 0,\n   'clouds': 0,\n   'visibility': 10000,\n   'wind_speed': 1.78,\n   'wind_deg': 104,\n   'wind_gust': 1.79,\n   'weather': [{'id': 800,\n     'main': 'Clear',\n     'description': 'clear sky',\n     'icon': '01n'}],\n   'pop': 0},\n  {'dt': 1724623200,\n   'temp': 22.03,\n   'feels_like': 21.75,\n   'pressure': 1009,\n   'humidity': 56,\n   'dew_point': 11.95,\n   'uvi': 0,\n   'clouds': 0,\n   'visibility': 10000,\n   'wind_speed': 1.52,\n   'wind_deg': 106,\n   'wind_gust': 1.25,\n   'weather': [{'id': 800,\n     'main': 'Clear',\n     'description': 'clear sky',\n     'icon': '01n'}],\n   'pop': 0},\n  {'dt': 1724626800,\n   'temp': 21.67,\n   'feels_like': 21.35,\n   'pressure': 1008,\n   'humidity': 56,\n   'dew_point': 11.49,\n   'uvi': 0,\n   'clouds': 0,\n   'visibility': 10000,\n   'wind_speed': 1.31,\n   'wind_deg': 101,\n   'wind_gust': 1.1,\n   'weather': [{'id': 800,\n     'main': 'Clear',\n     'description': 'clear sky',\n     'icon': '01n'}],\n   'pop': 0},\n  {'dt': 1724630400,\n   'temp': 21.3,\n   'feels_like': 20.95,\n   'pressure': 1008,\n   'humidity': 56,\n   'dew_point': 11.26,\n   'uvi': 0,\n   'clouds': 0,\n   'visibility': 10000,\n   'wind_speed': 1.13,\n   'wind_deg': 105,\n   'wind_gust': 0.81,\n   'weather': [{'id': 800,\n     'main': 'Clear',\n     'description': 'clear sky',\n     'icon': '01n'}],\n   'pop': 0},\n  {'dt': 1724634000,\n   'temp': 20.78,\n   'feels_like': 20.43,\n   'pressure': 1008,\n   'humidity': 58,\n   'dew_point': 11.25,\n   'uvi': 0,\n   'clouds': 0,\n   'visibility': 10000,\n   'wind_speed': 0.98,\n   'wind_deg': 87,\n   'wind_gust': 0.98,\n   'weather': [{'id': 800,\n     'main': 'Clear',\n     'description': 'clear sky',\n     'icon': '01n'}],\n   'pop': 0},\n  {'dt': 1724637600,\n   'temp': 20.46,\n   'feels_like': 20.1,\n   'pressure': 1008,\n   'humidity': 59,\n   'dew_point': 11.25,\n   'uvi': 0,\n   'clouds': 0,\n   'visibility': 10000,\n   'wind_speed': 1.04,\n   'wind_deg': 96,\n   'wind_gust': 0.92,\n   'weather': [{'id': 800,\n     'main': 'Clear',\n     'description': 'clear sky',\n     'icon': '01n'}],\n   'pop': 0},\n  {'dt': 1724641200,\n   'temp': 20.28,\n   'feels_like': 19.93,\n   'pressure': 1009,\n   'humidity': 60,\n   'dew_point': 11.26,\n   'uvi': 0,\n   'clouds': 1,\n   'visibility': 10000,\n   'wind_speed': 1.13,\n   'wind_deg': 97,\n   'wind_gust': 0.94,\n   'weather': [{'id': 800,\n     'main': 'Clear',\n     'description': 'clear sky',\n     'icon': '01n'}],\n   'pop': 0},\n  {'dt': 1724644800,\n   'temp': 20.87,\n   'feels_like': 20.55,\n   'pressure': 1009,\n   'humidity': 59,\n   'dew_point': 11.55,\n   'uvi': 0.1,\n   'clouds': 2,\n   'visibility': 10000,\n   'wind_speed': 1.34,\n   'wind_deg': 90,\n   'wind_gust': 1.45,\n   'weather': [{'id': 800,\n     'main': 'Clear',\n     'description': 'clear sky',\n     'icon': '01d'}],\n   'pop': 0},\n  {'dt': 1724648400,\n   'temp': 23.72,\n   'feels_like': 23.51,\n   'pressure': 1009,\n   'humidity': 52,\n   'dew_point': 12.17,\n   'uvi': 0.57,\n   'clouds': 2,\n   'visibility': 10000,\n   'wind_speed': 1.42,\n   'wind_deg': 57,\n   'wind_gust': 2.24,\n   'weather': [{'id': 800,\n     'main': 'Clear',\n     'description': 'clear sky',\n     'icon': '01d'}],\n   'pop': 0},\n  {'dt': 1724652000,\n   'temp': 26.15,\n   'feels_like': 26.15,\n   'pressure': 1009,\n   'humidity': 48,\n   'dew_point': 13.02,\n   'uvi': 1.63,\n   'clouds': 2,\n   'visibility': 10000,\n   'wind_speed': 1.62,\n   'wind_deg': 35,\n   'wind_gust': 2.56,\n   'weather': [{'id': 800,\n     'main': 'Clear',\n     'description': 'clear sky',\n     'icon': '01d'}],\n   'pop': 0},\n  {'dt': 1724655600,\n   'temp': 28.41,\n   'feels_like': 28.19,\n   'pressure': 1009,\n   'humidity': 42,\n   'dew_point': 13.37,\n   'uvi': 3.25,\n   'clouds': 26,\n   'visibility': 10000,\n   'wind_speed': 1.96,\n   'wind_deg': 32,\n   'wind_gust': 3.07,\n   'weather': [{'id': 802,\n     'main': 'Clouds',\n     'description': 'scattered clouds',\n     'icon': '03d'}],\n   'pop': 0},\n  {'dt': 1724659200,\n   'temp': 30.65,\n   'feels_like': 29.86,\n   'pressure': 1009,\n   'humidity': 35,\n   'dew_point': 12.55,\n   'uvi': 5.09,\n   'clouds': 42,\n   'visibility': 10000,\n   'wind_speed': 2.6,\n   'wind_deg': 27,\n   'wind_gust': 3.4,\n   'weather': [{'id': 802,\n     'main': 'Clouds',\n     'description': 'scattered clouds',\n     'icon': '03d'}],\n   'pop': 0},\n  {'dt': 1724662800,\n   'temp': 32.37,\n   'feels_like': 31.37,\n   'pressure': 1008,\n   'humidity': 31,\n   'dew_point': 11.97,\n   'uvi': 6.58,\n   'clouds': 32,\n   'visibility': 10000,\n   'wind_speed': 3.37,\n   'wind_deg': 17,\n   'wind_gust': 3.55,\n   'weather': [{'id': 802,\n     'main': 'Clouds',\n     'description': 'scattered clouds',\n     'icon': '03d'}],\n   'pop': 0},\n  {'dt': 1724666400,\n   'temp': 33.7,\n   'feels_like': 32.58,\n   'pressure': 1007,\n   'humidity': 28,\n   'dew_point': 11.68,\n   'uvi': 7.15,\n   'clouds': 33,\n   'visibility': 10000,\n   'wind_speed': 4.11,\n   'wind_deg': 14,\n   'wind_gust': 3.66,\n   'weather': [{'id': 802,\n     'main': 'Clouds',\n     'description': 'scattered clouds',\n     'icon': '03d'}],\n   'pop': 0},\n  {'dt': 1724670000,\n   'temp': 34.1,\n   'feels_like': 33.08,\n   'pressure': 1007,\n   'humidity': 28,\n   'dew_point': 12.06,\n   'uvi': 6.66,\n   'clouds': 35,\n   'visibility': 10000,\n   'wind_speed': 5.92,\n   'wind_deg': 20,\n   'wind_gust': 4.75,\n   'weather': [{'id': 802,\n     'main': 'Clouds',\n     'description': 'scattered clouds',\n     'icon': '03d'}],\n   'pop': 0},\n  {'dt': 1724673600,\n   'temp': 33.88,\n   'feels_like': 32.96,\n   'pressure': 1006,\n   'humidity': 29,\n   'dew_point': 12.63,\n   'uvi': 5.3,\n   'clouds': 29,\n   'visibility': 10000,\n   'wind_speed': 6.25,\n   'wind_deg': 12,\n   'wind_gust': 5.2,\n   'weather': [{'id': 802,\n     'main': 'Clouds',\n     'description': 'scattered clouds',\n     'icon': '03d'}],\n   'pop': 0},\n  {'dt': 1724677200,\n   'temp': 32.92,\n   'feels_like': 32.04,\n   'pressure': 1006,\n   'humidity': 31,\n   'dew_point': 12.69,\n   'uvi': 3.15,\n   'clouds': 38,\n   'visibility': 10000,\n   'wind_speed': 7.18,\n   'wind_deg': 11,\n   'wind_gust': 4.86,\n   'weather': [{'id': 802,\n     'main': 'Clouds',\n     'description': 'scattered clouds',\n     'icon': '03d'}],\n   'pop': 0}],\n 'daily': [{'dt': 1724493600,\n   'sunrise': 1724469841,\n   'sunset': 1724518108,\n   'moonrise': 1724527080,\n   'moonset': 1724489640,\n   'moon_phase': 0.68,\n   'summary': 'There will be clear sky today',\n   'temp': {'day': 32.86,\n    'min': 21.4,\n    'max': 32.86,\n    'night': 21.4,\n    'eve': 29.82,\n    'morn': 21.82},\n   'feels_like': {'day': 31.57, 'night': 21.01, 'eve': 28.34, 'morn': 21.68},\n   'pressure': 1013,\n   'humidity': 28,\n   'dew_point': 11.96,\n   'wind_speed': 7.29,\n   'wind_deg': 26,\n   'wind_gust': 6.82,\n   'weather': [{'id': 800,\n     'main': 'Clear',\n     'description': 'clear sky',\n     'icon': '01d'}],\n   'clouds': 1,\n   'pop': 0,\n   'uvi': 7.8},\n  {'dt': 1724580000,\n   'sunrise': 1724556299,\n   'sunset': 1724604418,\n   'moonrise': 1724615520,\n   'moonset': 1724580600,\n   'moon_phase': 0.71,\n   'summary': 'Expect a day of partly cloudy with clear spells',\n   'temp': {'day': 33.05,\n    'min': 19.32,\n    'max': 34.85,\n    'night': 22.94,\n    'eve': 29.27,\n    'morn': 19.82},\n   'feels_like': {'day': 32.36, 'night': 22.78, 'eve': 28.88, 'morn': 19.5},\n   'pressure': 1009,\n   'humidity': 32,\n   'dew_point': 13.34,\n   'wind_speed': 8.29,\n   'wind_deg': 34,\n   'wind_gust': 8.45,\n   'weather': [{'id': 800,\n     'main': 'Clear',\n     'description': 'clear sky',\n     'icon': '01d'}],\n   'clouds': 1,\n   'pop': 0,\n   'uvi': 7.41},\n  {'dt': 1724666400,\n   'sunrise': 1724642756,\n   'sunset': 1724690727,\n   'moonrise': 1724704380,\n   'moonset': 1724671440,\n   'moon_phase': 0.75,\n   'summary': 'Expect a day of partly cloudy with rain',\n   'temp': {'day': 33.7,\n    'min': 20.28,\n    'max': 34.1,\n    'night': 22.91,\n    'eve': 28.56,\n    'morn': 20.87},\n   'feels_like': {'day': 32.58, 'night': 22.9, 'eve': 28.51, 'morn': 20.55},\n   'pressure': 1007,\n   'humidity': 28,\n   'dew_point': 11.68,\n   'wind_speed': 7.18,\n   'wind_deg': 11,\n   'wind_gust': 5.79,\n   'weather': [{'id': 500,\n     'main': 'Rain',\n     'description': 'light rain',\n     'icon': '10d'}],\n   'clouds': 33,\n   'pop': 0.33,\n   'rain': 0.29,\n   'uvi': 7.15},\n  {'dt': 1724752800,\n   'sunrise': 1724729214,\n   'sunset': 1724777036,\n   'moonrise': 0,\n   'moonset': 1724762040,\n   'moon_phase': 0.78,\n   'summary': 'Expect a day of partly cloudy with rain',\n   'temp': {'day': 31.88,\n    'min': 20.1,\n    'max': 31.88,\n    'night': 23.29,\n    'eve': 29.26,\n    'morn': 20.79},\n   'feels_like': {'day': 31.77, 'night': 23.58, 'eve': 29.63, 'morn': 20.99},\n   'pressure': 1009,\n   'humidity': 38,\n   'dew_point': 15,\n   'wind_speed': 6.23,\n   'wind_deg': 320,\n   'wind_gust': 4.39,\n   'weather': [{'id': 500,\n     'main': 'Rain',\n     'description': 'light rain',\n     'icon': '10d'}],\n   'clouds': 12,\n   'pop': 0.77,\n   'rain': 2.15,\n   'uvi': 7.09},\n  {'dt': 1724839200,\n   'sunrise': 1724815671,\n   'sunset': 1724863343,\n   'moonrise': 1724793660,\n   'moonset': 1724852100,\n   'moon_phase': 0.82,\n   'summary': 'You can expect clear sky in the morning, with partly cloudy in the afternoon',\n   'temp': {'day': 30.69,\n    'min': 20.03,\n    'max': 31.9,\n    'night': 24.14,\n    'eve': 30.17,\n    'morn': 20.03},\n   'feels_like': {'day': 29.8, 'night': 24.18, 'eve': 29.89, 'morn': 20.36},\n   'pressure': 1013,\n   'humidity': 34,\n   'dew_point': 12.14,\n   'wind_speed': 5.78,\n   'wind_deg': 321,\n   'wind_gust': 4.19,\n   'weather': [{'id': 800,\n     'main': 'Clear',\n     'description': 'clear sky',\n     'icon': '01d'}],\n   'clouds': 0,\n   'pop': 0,\n   'uvi': 7.33},\n  {'dt': 1724925600,\n   'sunrise': 1724902129,\n   'sunset': 1724949650,\n   'moonrise': 1724883540,\n   'moonset': 1724941620,\n   'moon_phase': 0.85,\n   'summary': 'There will be clear sky today',\n   'temp': {'day': 31.36,\n    'min': 20.89,\n    'max': 32.95,\n    'night': 24.74,\n    'eve': 30.69,\n    'morn': 20.89},\n   'feels_like': {'day': 30.11, 'night': 24.65, 'eve': 29.91, 'morn': 20.81},\n   'pressure': 1012,\n   'humidity': 30,\n   'dew_point': 10.78,\n   'wind_speed': 5.98,\n   'wind_deg': 328,\n   'wind_gust': 4.24,\n   'weather': [{'id': 800,\n     'main': 'Clear',\n     'description': 'clear sky',\n     'icon': '01d'}],\n   'clouds': 0,\n   'pop': 0,\n   'uvi': 8},\n  {'dt': 1725012000,\n   'sunrise': 1724988586,\n   'sunset': 1725035956,\n   'moonrise': 1724973660,\n   'moonset': 1725030420,\n   'moon_phase': 0.88,\n   'summary': 'Expect a day of partly cloudy with clear spells',\n   'temp': {'day': 31.6,\n    'min': 20.73,\n    'max': 32.66,\n    'night': 24.13,\n    'eve': 30.71,\n    'morn': 20.73},\n   'feels_like': {'day': 30.37, 'night': 24.19, 'eve': 30.04, 'morn': 20.58},\n   'pressure': 1011,\n   'humidity': 30,\n   'dew_point': 10.73,\n   'wind_speed': 5.78,\n   'wind_deg': 9,\n   'wind_gust': 5.1,\n   'weather': [{'id': 800,\n     'main': 'Clear',\n     'description': 'clear sky',\n     'icon': '01d'}],\n   'clouds': 2,\n   'pop': 0,\n   'uvi': 8},\n  {'dt': 1725098400,\n   'sunrise': 1725075043,\n   'sunset': 1725122262,\n   'moonrise': 1725064080,\n   'moonset': 1725118800,\n   'moon_phase': 0.92,\n   'summary': 'You can expect clear sky in the morning, with partly cloudy in the afternoon',\n   'temp': {'day': 30.16,\n    'min': 20.07,\n    'max': 30.16,\n    'night': 21.42,\n    'eve': 25.91,\n    'morn': 20.07},\n   'feels_like': {'day': 29.88, 'night': 21.81, 'eve': 26.18, 'morn': 20.3},\n   'pressure': 1009,\n   'humidity': 40,\n   'dew_point': 14.09,\n   'wind_speed': 5.16,\n   'wind_deg': 306,\n   'wind_gust': 4.05,\n   'weather': [{'id': 800,\n     'main': 'Clear',\n     'description': 'clear sky',\n     'icon': '01d'}],\n   'clouds': 0,\n   'pop': 0.15,\n   'uvi': 8}]}"
     },
     "execution_count": 277,
     "metadata": {},
     "output_type": "execute_result"
    }
   ],
   "source": [
    "data"
   ],
   "metadata": {
    "collapsed": false,
    "ExecuteTime": {
     "end_time": "2024-08-24T14:09:45.265424Z",
     "start_time": "2024-08-24T14:09:45.242865Z"
    }
   },
   "id": "bb21939d1c1f6d52",
   "execution_count": 277
  },
  {
   "cell_type": "code",
   "outputs": [],
   "source": [
    "df = data['current']"
   ],
   "metadata": {
    "collapsed": false,
    "ExecuteTime": {
     "end_time": "2024-08-24T14:09:45.271925Z",
     "start_time": "2024-08-24T14:09:45.267700Z"
    }
   },
   "id": "b1d5b6c1f33997d9",
   "execution_count": 278
  },
  {
   "cell_type": "code",
   "outputs": [],
   "source": [
    "df_curr = pd.DataFrame(data['current'])\n",
    "df_daily = pd.DataFrame(data['daily'])"
   ],
   "metadata": {
    "collapsed": false,
    "ExecuteTime": {
     "end_time": "2024-08-24T14:09:45.596587Z",
     "start_time": "2024-08-24T14:09:45.588819Z"
    }
   },
   "id": "47071179e6cc4758",
   "execution_count": 279
  },
  {
   "cell_type": "code",
   "outputs": [],
   "source": [
    "df_curr = df_curr[['dt', 'temp', 'wind_speed', 'humidity']]\n",
    "df_daily = df_daily[['dt', 'temp', 'wind_speed', 'humidity']]"
   ],
   "metadata": {
    "collapsed": false,
    "ExecuteTime": {
     "end_time": "2024-08-24T14:09:45.973938Z",
     "start_time": "2024-08-24T14:09:45.968139Z"
    }
   },
   "id": "2d122da19910ab21",
   "execution_count": 280
  },
  {
   "cell_type": "code",
   "outputs": [
    {
     "data": {
      "text/plain": "           dt                                               temp  wind_speed  \\\n0  1724493600  {'day': 32.86, 'min': 21.4, 'max': 32.86, 'nig...        7.29   \n1  1724580000  {'day': 33.05, 'min': 19.32, 'max': 34.85, 'ni...        8.29   \n2  1724666400  {'day': 33.7, 'min': 20.28, 'max': 34.1, 'nigh...        7.18   \n3  1724752800  {'day': 31.88, 'min': 20.1, 'max': 31.88, 'nig...        6.23   \n4  1724839200  {'day': 30.69, 'min': 20.03, 'max': 31.9, 'nig...        5.78   \n5  1724925600  {'day': 31.36, 'min': 20.89, 'max': 32.95, 'ni...        5.98   \n6  1725012000  {'day': 31.6, 'min': 20.73, 'max': 32.66, 'nig...        5.78   \n7  1725098400  {'day': 30.16, 'min': 20.07, 'max': 30.16, 'ni...        5.16   \n\n   humidity  \n0        28  \n1        32  \n2        28  \n3        38  \n4        34  \n5        30  \n6        30  \n7        40  ",
      "text/html": "<div>\n<style scoped>\n    .dataframe tbody tr th:only-of-type {\n        vertical-align: middle;\n    }\n\n    .dataframe tbody tr th {\n        vertical-align: top;\n    }\n\n    .dataframe thead th {\n        text-align: right;\n    }\n</style>\n<table border=\"1\" class=\"dataframe\">\n  <thead>\n    <tr style=\"text-align: right;\">\n      <th></th>\n      <th>dt</th>\n      <th>temp</th>\n      <th>wind_speed</th>\n      <th>humidity</th>\n    </tr>\n  </thead>\n  <tbody>\n    <tr>\n      <th>0</th>\n      <td>1724493600</td>\n      <td>{'day': 32.86, 'min': 21.4, 'max': 32.86, 'nig...</td>\n      <td>7.29</td>\n      <td>28</td>\n    </tr>\n    <tr>\n      <th>1</th>\n      <td>1724580000</td>\n      <td>{'day': 33.05, 'min': 19.32, 'max': 34.85, 'ni...</td>\n      <td>8.29</td>\n      <td>32</td>\n    </tr>\n    <tr>\n      <th>2</th>\n      <td>1724666400</td>\n      <td>{'day': 33.7, 'min': 20.28, 'max': 34.1, 'nigh...</td>\n      <td>7.18</td>\n      <td>28</td>\n    </tr>\n    <tr>\n      <th>3</th>\n      <td>1724752800</td>\n      <td>{'day': 31.88, 'min': 20.1, 'max': 31.88, 'nig...</td>\n      <td>6.23</td>\n      <td>38</td>\n    </tr>\n    <tr>\n      <th>4</th>\n      <td>1724839200</td>\n      <td>{'day': 30.69, 'min': 20.03, 'max': 31.9, 'nig...</td>\n      <td>5.78</td>\n      <td>34</td>\n    </tr>\n    <tr>\n      <th>5</th>\n      <td>1724925600</td>\n      <td>{'day': 31.36, 'min': 20.89, 'max': 32.95, 'ni...</td>\n      <td>5.98</td>\n      <td>30</td>\n    </tr>\n    <tr>\n      <th>6</th>\n      <td>1725012000</td>\n      <td>{'day': 31.6, 'min': 20.73, 'max': 32.66, 'nig...</td>\n      <td>5.78</td>\n      <td>30</td>\n    </tr>\n    <tr>\n      <th>7</th>\n      <td>1725098400</td>\n      <td>{'day': 30.16, 'min': 20.07, 'max': 30.16, 'ni...</td>\n      <td>5.16</td>\n      <td>40</td>\n    </tr>\n  </tbody>\n</table>\n</div>"
     },
     "execution_count": 281,
     "metadata": {},
     "output_type": "execute_result"
    }
   ],
   "source": [
    "df_daily"
   ],
   "metadata": {
    "collapsed": false,
    "ExecuteTime": {
     "end_time": "2024-08-24T14:09:46.313533Z",
     "start_time": "2024-08-24T14:09:46.302604Z"
    }
   },
   "id": "5914848c720db465",
   "execution_count": 281
  },
  {
   "cell_type": "code",
   "outputs": [
    {
     "data": {
      "text/plain": "           dt  temp  wind_speed  humidity\n0  1724508588    31        7.11        22",
      "text/html": "<div>\n<style scoped>\n    .dataframe tbody tr th:only-of-type {\n        vertical-align: middle;\n    }\n\n    .dataframe tbody tr th {\n        vertical-align: top;\n    }\n\n    .dataframe thead th {\n        text-align: right;\n    }\n</style>\n<table border=\"1\" class=\"dataframe\">\n  <thead>\n    <tr style=\"text-align: right;\">\n      <th></th>\n      <th>dt</th>\n      <th>temp</th>\n      <th>wind_speed</th>\n      <th>humidity</th>\n    </tr>\n  </thead>\n  <tbody>\n    <tr>\n      <th>0</th>\n      <td>1724508588</td>\n      <td>31</td>\n      <td>7.11</td>\n      <td>22</td>\n    </tr>\n  </tbody>\n</table>\n</div>"
     },
     "execution_count": 282,
     "metadata": {},
     "output_type": "execute_result"
    }
   ],
   "source": [
    "df_curr"
   ],
   "metadata": {
    "collapsed": false,
    "ExecuteTime": {
     "end_time": "2024-08-24T14:09:47.155494Z",
     "start_time": "2024-08-24T14:09:47.146721Z"
    }
   },
   "id": "cbb867c9d1f29852",
   "execution_count": 282
  },
  {
   "cell_type": "code",
   "outputs": [],
   "source": [],
   "metadata": {
    "collapsed": false,
    "ExecuteTime": {
     "end_time": "2024-08-24T14:09:47.863658Z",
     "start_time": "2024-08-24T14:09:47.860920Z"
    }
   },
   "id": "86feebf910f567cf",
   "execution_count": 282
  },
  {
   "cell_type": "code",
   "outputs": [],
   "source": [],
   "metadata": {
    "collapsed": false,
    "ExecuteTime": {
     "end_time": "2024-08-24T14:09:48.079742Z",
     "start_time": "2024-08-24T14:09:48.076872Z"
    }
   },
   "id": "97f9a01e157ebc41",
   "execution_count": 282
  },
  {
   "cell_type": "code",
   "outputs": [],
   "source": [],
   "metadata": {
    "collapsed": false,
    "ExecuteTime": {
     "end_time": "2024-08-24T14:09:48.247205Z",
     "start_time": "2024-08-24T14:09:48.244044Z"
    }
   },
   "id": "2ab027545f0ab9da",
   "execution_count": 282
  },
  {
   "cell_type": "code",
   "outputs": [
    {
     "ename": "AttributeError",
     "evalue": "'Timestamp' object has no attribute 'dt'",
     "output_type": "error",
     "traceback": [
      "\u001B[1;31m---------------------------------------------------------------------------\u001B[0m",
      "\u001B[1;31mAttributeError\u001B[0m                            Traceback (most recent call last)",
      "Cell \u001B[1;32mIn[283], line 3\u001B[0m\n\u001B[0;32m      1\u001B[0m df[\u001B[38;5;124m'\u001B[39m\u001B[38;5;124mcity\u001B[39m\u001B[38;5;124m'\u001B[39m] \u001B[38;5;241m=\u001B[39m city_name\n\u001B[0;32m      2\u001B[0m df[\u001B[38;5;124m'\u001B[39m\u001B[38;5;124mdatetime\u001B[39m\u001B[38;5;124m'\u001B[39m] \u001B[38;5;241m=\u001B[39m pd\u001B[38;5;241m.\u001B[39mto_datetime(df[\u001B[38;5;124m'\u001B[39m\u001B[38;5;124mdt\u001B[39m\u001B[38;5;124m'\u001B[39m],unit\u001B[38;5;241m=\u001B[39m\u001B[38;5;124m'\u001B[39m\u001B[38;5;124ms\u001B[39m\u001B[38;5;124m'\u001B[39m)\n\u001B[1;32m----> 3\u001B[0m df[\u001B[38;5;124m'\u001B[39m\u001B[38;5;124mdatetime\u001B[39m\u001B[38;5;124m'\u001B[39m] \u001B[38;5;241m=\u001B[39m \u001B[43mdf\u001B[49m\u001B[43m[\u001B[49m\u001B[38;5;124;43m'\u001B[39;49m\u001B[38;5;124;43mdatetime\u001B[39;49m\u001B[38;5;124;43m'\u001B[39;49m\u001B[43m]\u001B[49m\u001B[38;5;241;43m.\u001B[39;49m\u001B[43mdt\u001B[49m\u001B[38;5;241m.\u001B[39mstrftime(\u001B[38;5;124m'\u001B[39m\u001B[38;5;124m%\u001B[39m\u001B[38;5;124mY-\u001B[39m\u001B[38;5;124m%\u001B[39m\u001B[38;5;124mm-\u001B[39m\u001B[38;5;132;01m%d\u001B[39;00m\u001B[38;5;124m'\u001B[39m)\n",
      "\u001B[1;31mAttributeError\u001B[0m: 'Timestamp' object has no attribute 'dt'"
     ]
    }
   ],
   "source": [
    "df['city'] = city_name\n",
    "df['datetime'] = pd.to_datetime(df['dt'],unit='s')\n",
    "df['datetime'] = df['datetime'].dt.strftime('%Y-%m-%d')"
   ],
   "metadata": {
    "collapsed": false,
    "ExecuteTime": {
     "end_time": "2024-08-24T14:09:48.446934Z",
     "start_time": "2024-08-24T14:09:48.428533Z"
    }
   },
   "id": "b7b4a0cea7f78d3",
   "execution_count": 283
  },
  {
   "cell_type": "code",
   "outputs": [
    {
     "data": {
      "text/plain": "{'dt': 1724508588,\n 'sunrise': 1724469841,\n 'sunset': 1724518108,\n 'temp': 31,\n 'feels_like': 29.17,\n 'pressure': 1013,\n 'humidity': 22,\n 'dew_point': 6.81,\n 'uvi': 1.98,\n 'clouds': 2,\n 'visibility': 10000,\n 'wind_speed': 7.11,\n 'wind_deg': 34,\n 'wind_gust': 6.78,\n 'weather': [{'id': 800,\n   'main': 'Clear',\n   'description': 'clear sky',\n   'icon': '01d'}],\n 'city': 'Bursa',\n 'datetime': Timestamp('2024-08-24 14:09:48')}"
     },
     "execution_count": 284,
     "metadata": {},
     "output_type": "execute_result"
    }
   ],
   "source": [
    "df"
   ],
   "metadata": {
    "collapsed": false,
    "ExecuteTime": {
     "end_time": "2024-08-24T14:09:48.710136Z",
     "start_time": "2024-08-24T14:09:48.703671Z"
    }
   },
   "id": "7386065cfff064a2",
   "execution_count": 284
  },
  {
   "cell_type": "markdown",
   "source": [
    "# Upload to influxDB"
   ],
   "metadata": {
    "collapsed": false
   },
   "id": "61467ddee9178ad"
  },
  {
   "cell_type": "code",
   "outputs": [],
   "source": [],
   "metadata": {
    "collapsed": false,
    "ExecuteTime": {
     "end_time": "2024-08-24T14:09:54.558557Z",
     "start_time": "2024-08-24T14:09:54.555809Z"
    }
   },
   "id": "22efdb9bc24ed15c",
   "execution_count": 284
  },
  {
   "cell_type": "code",
   "outputs": [
    {
     "ename": "AttributeError",
     "evalue": "'dict' object has no attribute 'to_json'",
     "output_type": "error",
     "traceback": [
      "\u001B[1;31m---------------------------------------------------------------------------\u001B[0m",
      "\u001B[1;31mAttributeError\u001B[0m                            Traceback (most recent call last)",
      "Cell \u001B[1;32mIn[285], line 2\u001B[0m\n\u001B[0;32m      1\u001B[0m \u001B[38;5;28;01mimport\u001B[39;00m \u001B[38;5;21;01mjson\u001B[39;00m\n\u001B[1;32m----> 2\u001B[0m data_json \u001B[38;5;241m=\u001B[39m \u001B[43mdf\u001B[49m\u001B[38;5;241;43m.\u001B[39;49m\u001B[43mto_json\u001B[49m(orient\u001B[38;5;241m=\u001B[39m\u001B[38;5;124m'\u001B[39m\u001B[38;5;124mrecords\u001B[39m\u001B[38;5;124m'\u001B[39m)\n\u001B[0;32m      4\u001B[0m data_dict \u001B[38;5;241m=\u001B[39m json\u001B[38;5;241m.\u001B[39mloads(data_json)\n\u001B[0;32m      6\u001B[0m data \u001B[38;5;241m=\u001B[39m {\n\u001B[0;32m      7\u001B[0m     \u001B[38;5;124m\"\u001B[39m\u001B[38;5;124mcity\u001B[39m\u001B[38;5;124m\"\u001B[39m: [],\n\u001B[0;32m      8\u001B[0m     \u001B[38;5;124m\"\u001B[39m\u001B[38;5;124mday\u001B[39m\u001B[38;5;124m\"\u001B[39m: [],\n\u001B[1;32m   (...)\u001B[0m\n\u001B[0;32m     13\u001B[0m     \u001B[38;5;124m\"\u001B[39m\u001B[38;5;124mwind_speed\u001B[39m\u001B[38;5;124m\"\u001B[39m: []\n\u001B[0;32m     14\u001B[0m }\n",
      "\u001B[1;31mAttributeError\u001B[0m: 'dict' object has no attribute 'to_json'"
     ]
    }
   ],
   "source": [
    "import json\n",
    "data_json = df.to_json(orient='records')\n",
    "\n",
    "data_dict = json.loads(data_json)\n",
    "\n",
    "data = {\n",
    "    \"city\": [],\n",
    "    \"day\": [],\n",
    "    \"humidity\": [],\n",
    "    \"max\": [],\n",
    "    \"min\": [],\n",
    "    \"time\": [],\n",
    "    \"wind_speed\": []\n",
    "}\n",
    "\n",
    "for entry in data_dict:\n",
    "    data[\"city\"].append(entry['city'])\n",
    "    data[\"day\"].append(entry['temp']['day'])\n",
    "    data[\"humidity\"].append(entry['humidity'])\n",
    "    data[\"max\"].append(entry['temp']['max'])\n",
    "    data[\"min\"].append(entry['temp']['min'])\n",
    "    data[\"time\"].append(f\"{entry['datetime']}T10:00:00Z\")  #\n",
    "    data[\"wind_speed\"].append(entry['wind_speed'])"
   ],
   "metadata": {
    "collapsed": false,
    "ExecuteTime": {
     "end_time": "2024-08-24T14:09:54.819859Z",
     "start_time": "2024-08-24T14:09:54.799309Z"
    }
   },
   "id": "cda0c2a811b71492",
   "execution_count": 285
  },
  {
   "cell_type": "code",
   "outputs": [
    {
     "data": {
      "text/plain": "{'lat': 40.1827,\n 'lon': 29.0675,\n 'timezone': 'Europe/Istanbul',\n 'timezone_offset': 10800,\n 'current': {'dt': 1724508588,\n  'sunrise': 1724469841,\n  'sunset': 1724518108,\n  'temp': 31,\n  'feels_like': 29.17,\n  'pressure': 1013,\n  'humidity': 22,\n  'dew_point': 6.81,\n  'uvi': 1.98,\n  'clouds': 2,\n  'visibility': 10000,\n  'wind_speed': 7.11,\n  'wind_deg': 34,\n  'wind_gust': 6.78,\n  'weather': [{'id': 800,\n    'main': 'Clear',\n    'description': 'clear sky',\n    'icon': '01d'}],\n  'city': 'Bursa',\n  'datetime': Timestamp('2024-08-24 14:09:48')},\n 'minutely': [{'dt': 1724508600, 'precipitation': 0},\n  {'dt': 1724508660, 'precipitation': 0},\n  {'dt': 1724508720, 'precipitation': 0},\n  {'dt': 1724508780, 'precipitation': 0},\n  {'dt': 1724508840, 'precipitation': 0},\n  {'dt': 1724508900, 'precipitation': 0},\n  {'dt': 1724508960, 'precipitation': 0},\n  {'dt': 1724509020, 'precipitation': 0},\n  {'dt': 1724509080, 'precipitation': 0},\n  {'dt': 1724509140, 'precipitation': 0},\n  {'dt': 1724509200, 'precipitation': 0},\n  {'dt': 1724509260, 'precipitation': 0},\n  {'dt': 1724509320, 'precipitation': 0},\n  {'dt': 1724509380, 'precipitation': 0},\n  {'dt': 1724509440, 'precipitation': 0},\n  {'dt': 1724509500, 'precipitation': 0},\n  {'dt': 1724509560, 'precipitation': 0},\n  {'dt': 1724509620, 'precipitation': 0},\n  {'dt': 1724509680, 'precipitation': 0},\n  {'dt': 1724509740, 'precipitation': 0},\n  {'dt': 1724509800, 'precipitation': 0},\n  {'dt': 1724509860, 'precipitation': 0},\n  {'dt': 1724509920, 'precipitation': 0},\n  {'dt': 1724509980, 'precipitation': 0},\n  {'dt': 1724510040, 'precipitation': 0},\n  {'dt': 1724510100, 'precipitation': 0},\n  {'dt': 1724510160, 'precipitation': 0},\n  {'dt': 1724510220, 'precipitation': 0},\n  {'dt': 1724510280, 'precipitation': 0},\n  {'dt': 1724510340, 'precipitation': 0},\n  {'dt': 1724510400, 'precipitation': 0},\n  {'dt': 1724510460, 'precipitation': 0},\n  {'dt': 1724510520, 'precipitation': 0},\n  {'dt': 1724510580, 'precipitation': 0},\n  {'dt': 1724510640, 'precipitation': 0},\n  {'dt': 1724510700, 'precipitation': 0},\n  {'dt': 1724510760, 'precipitation': 0},\n  {'dt': 1724510820, 'precipitation': 0},\n  {'dt': 1724510880, 'precipitation': 0},\n  {'dt': 1724510940, 'precipitation': 0},\n  {'dt': 1724511000, 'precipitation': 0},\n  {'dt': 1724511060, 'precipitation': 0},\n  {'dt': 1724511120, 'precipitation': 0},\n  {'dt': 1724511180, 'precipitation': 0},\n  {'dt': 1724511240, 'precipitation': 0},\n  {'dt': 1724511300, 'precipitation': 0},\n  {'dt': 1724511360, 'precipitation': 0},\n  {'dt': 1724511420, 'precipitation': 0},\n  {'dt': 1724511480, 'precipitation': 0},\n  {'dt': 1724511540, 'precipitation': 0},\n  {'dt': 1724511600, 'precipitation': 0},\n  {'dt': 1724511660, 'precipitation': 0},\n  {'dt': 1724511720, 'precipitation': 0},\n  {'dt': 1724511780, 'precipitation': 0},\n  {'dt': 1724511840, 'precipitation': 0},\n  {'dt': 1724511900, 'precipitation': 0},\n  {'dt': 1724511960, 'precipitation': 0},\n  {'dt': 1724512020, 'precipitation': 0},\n  {'dt': 1724512080, 'precipitation': 0},\n  {'dt': 1724512140, 'precipitation': 0}],\n 'hourly': [{'dt': 1724508000,\n   'temp': 31,\n   'feels_like': 29.17,\n   'pressure': 1013,\n   'humidity': 22,\n   'dew_point': 6.81,\n   'uvi': 1.98,\n   'clouds': 2,\n   'visibility': 10000,\n   'wind_speed': 7.11,\n   'wind_deg': 34,\n   'wind_gust': 6.78,\n   'weather': [{'id': 800,\n     'main': 'Clear',\n     'description': 'clear sky',\n     'icon': '01d'}],\n   'pop': 0},\n  {'dt': 1724511600,\n   'temp': 30.83,\n   'feels_like': 29.07,\n   'pressure': 1013,\n   'humidity': 23,\n   'dew_point': 7.32,\n   'uvi': 0.75,\n   'clouds': 2,\n   'visibility': 10000,\n   'wind_speed': 6.75,\n   'wind_deg': 37,\n   'wind_gust': 6.75,\n   'weather': [{'id': 800,\n     'main': 'Clear',\n     'description': 'clear sky',\n     'icon': '01d'}],\n   'pop': 0},\n  {'dt': 1724515200,\n   'temp': 29.82,\n   'feels_like': 28.34,\n   'pressure': 1013,\n   'humidity': 26,\n   'dew_point': 8.27,\n   'uvi': 0.16,\n   'clouds': 1,\n   'visibility': 10000,\n   'wind_speed': 5.26,\n   'wind_deg': 37,\n   'wind_gust': 6.73,\n   'weather': [{'id': 800,\n     'main': 'Clear',\n     'description': 'clear sky',\n     'icon': '01d'}],\n   'pop': 0},\n  {'dt': 1724518800,\n   'temp': 27.11,\n   'feels_like': 26.66,\n   'pressure': 1013,\n   'humidity': 34,\n   'dew_point': 9.91,\n   'uvi': 0,\n   'clouds': 1,\n   'visibility': 10000,\n   'wind_speed': 3.46,\n   'wind_deg': 57,\n   'wind_gust': 5.44,\n   'weather': [{'id': 800,\n     'main': 'Clear',\n     'description': 'clear sky',\n     'icon': '01n'}],\n   'pop': 0},\n  {'dt': 1724522400,\n   'temp': 24.36,\n   'feels_like': 23.95,\n   'pressure': 1014,\n   'humidity': 42,\n   'dew_point': 10.63,\n   'uvi': 0,\n   'clouds': 0,\n   'visibility': 10000,\n   'wind_speed': 3.01,\n   'wind_deg': 77,\n   'wind_gust': 3.78,\n   'weather': [{'id': 800,\n     'main': 'Clear',\n     'description': 'clear sky',\n     'icon': '01n'}],\n   'pop': 0},\n  {'dt': 1724526000,\n   'temp': 21.87,\n   'feels_like': 21.5,\n   'pressure': 1013,\n   'humidity': 53,\n   'dew_point': 10.61,\n   'uvi': 0,\n   'clouds': 3,\n   'visibility': 10000,\n   'wind_speed': 2.77,\n   'wind_deg': 93,\n   'wind_gust': 3.1,\n   'weather': [{'id': 800,\n     'main': 'Clear',\n     'description': 'clear sky',\n     'icon': '01n'}],\n   'pop': 0},\n  {'dt': 1724529600,\n   'temp': 21.4,\n   'feels_like': 21.01,\n   'pressure': 1013,\n   'humidity': 54,\n   'dew_point': 10.74,\n   'uvi': 0,\n   'clouds': 4,\n   'visibility': 10000,\n   'wind_speed': 2.39,\n   'wind_deg': 96,\n   'wind_gust': 2.6,\n   'weather': [{'id': 800,\n     'main': 'Clear',\n     'description': 'clear sky',\n     'icon': '01n'}],\n   'pop': 0},\n  {'dt': 1724533200,\n   'temp': 20.91,\n   'feels_like': 20.49,\n   'pressure': 1013,\n   'humidity': 55,\n   'dew_point': 10.47,\n   'uvi': 0,\n   'clouds': 6,\n   'visibility': 10000,\n   'wind_speed': 2.15,\n   'wind_deg': 93,\n   'wind_gust': 2.35,\n   'weather': [{'id': 800,\n     'main': 'Clear',\n     'description': 'clear sky',\n     'icon': '01n'}],\n   'pop': 0},\n  {'dt': 1724536800,\n   'temp': 20.56,\n   'feels_like': 20.13,\n   'pressure': 1013,\n   'humidity': 56,\n   'dew_point': 10.52,\n   'uvi': 0,\n   'clouds': 9,\n   'visibility': 10000,\n   'wind_speed': 2.01,\n   'wind_deg': 97,\n   'wind_gust': 2.36,\n   'weather': [{'id': 800,\n     'main': 'Clear',\n     'description': 'clear sky',\n     'icon': '01n'}],\n   'pop': 0},\n  {'dt': 1724540400,\n   'temp': 20.25,\n   'feels_like': 19.85,\n   'pressure': 1012,\n   'humidity': 58,\n   'dew_point': 10.79,\n   'uvi': 0,\n   'clouds': 10,\n   'visibility': 10000,\n   'wind_speed': 2.08,\n   'wind_deg': 83,\n   'wind_gust': 2.49,\n   'weather': [{'id': 800,\n     'main': 'Clear',\n     'description': 'clear sky',\n     'icon': '01n'}],\n   'pop': 0},\n  {'dt': 1724544000,\n   'temp': 19.97,\n   'feels_like': 19.59,\n   'pressure': 1012,\n   'humidity': 60,\n   'dew_point': 11.01,\n   'uvi': 0,\n   'clouds': 17,\n   'visibility': 10000,\n   'wind_speed': 2.18,\n   'wind_deg': 90,\n   'wind_gust': 2.69,\n   'weather': [{'id': 801,\n     'main': 'Clouds',\n     'description': 'few clouds',\n     'icon': '02n'}],\n   'pop': 0},\n  {'dt': 1724547600,\n   'temp': 19.65,\n   'feels_like': 19.29,\n   'pressure': 1012,\n   'humidity': 62,\n   'dew_point': 11.01,\n   'uvi': 0,\n   'clouds': 7,\n   'visibility': 10000,\n   'wind_speed': 1.89,\n   'wind_deg': 80,\n   'wind_gust': 2.11,\n   'weather': [{'id': 800,\n     'main': 'Clear',\n     'description': 'clear sky',\n     'icon': '01n'}],\n   'pop': 0},\n  {'dt': 1724551200,\n   'temp': 19.38,\n   'feels_like': 19.02,\n   'pressure': 1012,\n   'humidity': 63,\n   'dew_point': 11.14,\n   'uvi': 0,\n   'clouds': 3,\n   'visibility': 10000,\n   'wind_speed': 1.99,\n   'wind_deg': 89,\n   'wind_gust': 2.56,\n   'weather': [{'id': 800,\n     'main': 'Clear',\n     'description': 'clear sky',\n     'icon': '01n'}],\n   'pop': 0},\n  {'dt': 1724554800,\n   'temp': 19.32,\n   'feels_like': 18.98,\n   'pressure': 1012,\n   'humidity': 64,\n   'dew_point': 11.14,\n   'uvi': 0,\n   'clouds': 2,\n   'visibility': 10000,\n   'wind_speed': 2.06,\n   'wind_deg': 90,\n   'wind_gust': 2.6,\n   'weather': [{'id': 800,\n     'main': 'Clear',\n     'description': 'clear sky',\n     'icon': '01n'}],\n   'pop': 0},\n  {'dt': 1724558400,\n   'temp': 19.82,\n   'feels_like': 19.5,\n   'pressure': 1012,\n   'humidity': 63,\n   'dew_point': 11.49,\n   'uvi': 0.11,\n   'clouds': 1,\n   'visibility': 10000,\n   'wind_speed': 2.07,\n   'wind_deg': 77,\n   'wind_gust': 2.88,\n   'weather': [{'id': 800,\n     'main': 'Clear',\n     'description': 'clear sky',\n     'icon': '01d'}],\n   'pop': 0},\n  {'dt': 1724562000,\n   'temp': 22.86,\n   'feels_like': 22.61,\n   'pressure': 1011,\n   'humidity': 54,\n   'dew_point': 12.05,\n   'uvi': 0.55,\n   'clouds': 1,\n   'visibility': 10000,\n   'wind_speed': 1.99,\n   'wind_deg': 59,\n   'wind_gust': 3.1,\n   'weather': [{'id': 800,\n     'main': 'Clear',\n     'description': 'clear sky',\n     'icon': '01d'}],\n   'pop': 0},\n  {'dt': 1724565600,\n   'temp': 25.22,\n   'feels_like': 25.1,\n   'pressure': 1011,\n   'humidity': 50,\n   'dew_point': 12.91,\n   'uvi': 1.65,\n   'clouds': 0,\n   'visibility': 10000,\n   'wind_speed': 2.09,\n   'wind_deg': 40,\n   'wind_gust': 3.42,\n   'weather': [{'id': 800,\n     'main': 'Clear',\n     'description': 'clear sky',\n     'icon': '01d'}],\n   'pop': 0},\n  {'dt': 1724569200,\n   'temp': 27.53,\n   'feels_like': 27.52,\n   'pressure': 1011,\n   'humidity': 44,\n   'dew_point': 13.06,\n   'uvi': 3.35,\n   'clouds': 0,\n   'visibility': 10000,\n   'wind_speed': 2.47,\n   'wind_deg': 37,\n   'wind_gust': 3.79,\n   'weather': [{'id': 800,\n     'main': 'Clear',\n     'description': 'clear sky',\n     'icon': '01d'}],\n   'pop': 0},\n  {'dt': 1724572800,\n   'temp': 29.75,\n   'feels_like': 29.2,\n   'pressure': 1010,\n   'humidity': 38,\n   'dew_point': 13.03,\n   'uvi': 5.27,\n   'clouds': 0,\n   'visibility': 10000,\n   'wind_speed': 2.78,\n   'wind_deg': 37,\n   'wind_gust': 4.11,\n   'weather': [{'id': 800,\n     'main': 'Clear',\n     'description': 'clear sky',\n     'icon': '01d'}],\n   'pop': 0},\n  {'dt': 1724576400,\n   'temp': 31.67,\n   'feels_like': 31.06,\n   'pressure': 1009,\n   'humidity': 35,\n   'dew_point': 13.32,\n   'uvi': 6.76,\n   'clouds': 0,\n   'visibility': 10000,\n   'wind_speed': 3.29,\n   'wind_deg': 27,\n   'wind_gust': 4.39,\n   'weather': [{'id': 800,\n     'main': 'Clear',\n     'description': 'clear sky',\n     'icon': '01d'}],\n   'pop': 0},\n  {'dt': 1724580000,\n   'temp': 33.05,\n   'feels_like': 32.36,\n   'pressure': 1009,\n   'humidity': 32,\n   'dew_point': 13.34,\n   'uvi': 7.41,\n   'clouds': 1,\n   'visibility': 10000,\n   'wind_speed': 3.64,\n   'wind_deg': 23,\n   'wind_gust': 4.22,\n   'weather': [{'id': 800,\n     'main': 'Clear',\n     'description': 'clear sky',\n     'icon': '01d'}],\n   'pop': 0},\n  {'dt': 1724583600,\n   'temp': 34.39,\n   'feels_like': 33.63,\n   'pressure': 1008,\n   'humidity': 29,\n   'dew_point': 12.87,\n   'uvi': 6.88,\n   'clouds': 2,\n   'visibility': 10000,\n   'wind_speed': 4.52,\n   'wind_deg': 35,\n   'wind_gust': 4.49,\n   'weather': [{'id': 800,\n     'main': 'Clear',\n     'description': 'clear sky',\n     'icon': '01d'}],\n   'pop': 0},\n  {'dt': 1724587200,\n   'temp': 34.85,\n   'feels_like': 33.89,\n   'pressure': 1007,\n   'humidity': 27,\n   'dew_point': 12.09,\n   'uvi': 5.36,\n   'clouds': 4,\n   'visibility': 10000,\n   'wind_speed': 6.75,\n   'wind_deg': 36,\n   'wind_gust': 5.15,\n   'weather': [{'id': 800,\n     'main': 'Clear',\n     'description': 'clear sky',\n     'icon': '01d'}],\n   'pop': 0},\n  {'dt': 1724590800,\n   'temp': 34.62,\n   'feels_like': 33.76,\n   'pressure': 1007,\n   'humidity': 28,\n   'dew_point': 12.39,\n   'uvi': 3.56,\n   'clouds': 15,\n   'visibility': 10000,\n   'wind_speed': 7.78,\n   'wind_deg': 33,\n   'wind_gust': 6.29,\n   'weather': [{'id': 801,\n     'main': 'Clouds',\n     'description': 'few clouds',\n     'icon': '02d'}],\n   'pop': 0},\n  {'dt': 1724594400,\n   'temp': 32.78,\n   'feels_like': 32.02,\n   'pressure': 1007,\n   'humidity': 32,\n   'dew_point': 12.72,\n   'uvi': 1.7,\n   'clouds': 21,\n   'visibility': 10000,\n   'wind_speed': 8.29,\n   'wind_deg': 34,\n   'wind_gust': 7.37,\n   'weather': [{'id': 801,\n     'main': 'Clouds',\n     'description': 'few clouds',\n     'icon': '02d'}],\n   'pop': 0},\n  {'dt': 1724598000,\n   'temp': 31.31,\n   'feels_like': 30.62,\n   'pressure': 1007,\n   'humidity': 35,\n   'dew_point': 13.11,\n   'uvi': 0.59,\n   'clouds': 18,\n   'visibility': 10000,\n   'wind_speed': 7.86,\n   'wind_deg': 40,\n   'wind_gust': 7.88,\n   'weather': [{'id': 801,\n     'main': 'Clouds',\n     'description': 'few clouds',\n     'icon': '02d'}],\n   'pop': 0},\n  {'dt': 1724601600,\n   'temp': 29.27,\n   'feels_like': 28.88,\n   'pressure': 1008,\n   'humidity': 40,\n   'dew_point': 13.12,\n   'uvi': 0.11,\n   'clouds': 12,\n   'visibility': 10000,\n   'wind_speed': 5.58,\n   'wind_deg': 52,\n   'wind_gust': 8.45,\n   'weather': [{'id': 801,\n     'main': 'Clouds',\n     'description': 'few clouds',\n     'icon': '02d'}],\n   'pop': 0},\n  {'dt': 1724605200,\n   'temp': 25.86,\n   'feels_like': 25.78,\n   'pressure': 1008,\n   'humidity': 49,\n   'dew_point': 13.23,\n   'uvi': 0,\n   'clouds': 9,\n   'visibility': 10000,\n   'wind_speed': 2.92,\n   'wind_deg': 61,\n   'wind_gust': 4.79,\n   'weather': [{'id': 800,\n     'main': 'Clear',\n     'description': 'clear sky',\n     'icon': '01n'}],\n   'pop': 0},\n  {'dt': 1724608800,\n   'temp': 24.25,\n   'feels_like': 24.14,\n   'pressure': 1009,\n   'humidity': 54,\n   'dew_point': 13.16,\n   'uvi': 0,\n   'clouds': 8,\n   'visibility': 10000,\n   'wind_speed': 2.7,\n   'wind_deg': 83,\n   'wind_gust': 3.77,\n   'weather': [{'id': 800,\n     'main': 'Clear',\n     'description': 'clear sky',\n     'icon': '01n'}],\n   'pop': 0},\n  {'dt': 1724612400,\n   'temp': 23.51,\n   'feels_like': 23.38,\n   'pressure': 1009,\n   'humidity': 56,\n   'dew_point': 13.12,\n   'uvi': 0,\n   'clouds': 0,\n   'visibility': 10000,\n   'wind_speed': 2.47,\n   'wind_deg': 91,\n   'wind_gust': 2.71,\n   'weather': [{'id': 800,\n     'main': 'Clear',\n     'description': 'clear sky',\n     'icon': '01n'}],\n   'pop': 0},\n  {'dt': 1724616000,\n   'temp': 22.94,\n   'feels_like': 22.78,\n   'pressure': 1009,\n   'humidity': 57,\n   'dew_point': 12.91,\n   'uvi': 0,\n   'clouds': 0,\n   'visibility': 10000,\n   'wind_speed': 2.09,\n   'wind_deg': 99,\n   'wind_gust': 2.09,\n   'weather': [{'id': 800,\n     'main': 'Clear',\n     'description': 'clear sky',\n     'icon': '01n'}],\n   'pop': 0},\n  {'dt': 1724619600,\n   'temp': 22.35,\n   'feels_like': 22.16,\n   'pressure': 1009,\n   'humidity': 58,\n   'dew_point': 12.56,\n   'uvi': 0,\n   'clouds': 0,\n   'visibility': 10000,\n   'wind_speed': 1.78,\n   'wind_deg': 104,\n   'wind_gust': 1.79,\n   'weather': [{'id': 800,\n     'main': 'Clear',\n     'description': 'clear sky',\n     'icon': '01n'}],\n   'pop': 0},\n  {'dt': 1724623200,\n   'temp': 22.03,\n   'feels_like': 21.75,\n   'pressure': 1009,\n   'humidity': 56,\n   'dew_point': 11.95,\n   'uvi': 0,\n   'clouds': 0,\n   'visibility': 10000,\n   'wind_speed': 1.52,\n   'wind_deg': 106,\n   'wind_gust': 1.25,\n   'weather': [{'id': 800,\n     'main': 'Clear',\n     'description': 'clear sky',\n     'icon': '01n'}],\n   'pop': 0},\n  {'dt': 1724626800,\n   'temp': 21.67,\n   'feels_like': 21.35,\n   'pressure': 1008,\n   'humidity': 56,\n   'dew_point': 11.49,\n   'uvi': 0,\n   'clouds': 0,\n   'visibility': 10000,\n   'wind_speed': 1.31,\n   'wind_deg': 101,\n   'wind_gust': 1.1,\n   'weather': [{'id': 800,\n     'main': 'Clear',\n     'description': 'clear sky',\n     'icon': '01n'}],\n   'pop': 0},\n  {'dt': 1724630400,\n   'temp': 21.3,\n   'feels_like': 20.95,\n   'pressure': 1008,\n   'humidity': 56,\n   'dew_point': 11.26,\n   'uvi': 0,\n   'clouds': 0,\n   'visibility': 10000,\n   'wind_speed': 1.13,\n   'wind_deg': 105,\n   'wind_gust': 0.81,\n   'weather': [{'id': 800,\n     'main': 'Clear',\n     'description': 'clear sky',\n     'icon': '01n'}],\n   'pop': 0},\n  {'dt': 1724634000,\n   'temp': 20.78,\n   'feels_like': 20.43,\n   'pressure': 1008,\n   'humidity': 58,\n   'dew_point': 11.25,\n   'uvi': 0,\n   'clouds': 0,\n   'visibility': 10000,\n   'wind_speed': 0.98,\n   'wind_deg': 87,\n   'wind_gust': 0.98,\n   'weather': [{'id': 800,\n     'main': 'Clear',\n     'description': 'clear sky',\n     'icon': '01n'}],\n   'pop': 0},\n  {'dt': 1724637600,\n   'temp': 20.46,\n   'feels_like': 20.1,\n   'pressure': 1008,\n   'humidity': 59,\n   'dew_point': 11.25,\n   'uvi': 0,\n   'clouds': 0,\n   'visibility': 10000,\n   'wind_speed': 1.04,\n   'wind_deg': 96,\n   'wind_gust': 0.92,\n   'weather': [{'id': 800,\n     'main': 'Clear',\n     'description': 'clear sky',\n     'icon': '01n'}],\n   'pop': 0},\n  {'dt': 1724641200,\n   'temp': 20.28,\n   'feels_like': 19.93,\n   'pressure': 1009,\n   'humidity': 60,\n   'dew_point': 11.26,\n   'uvi': 0,\n   'clouds': 1,\n   'visibility': 10000,\n   'wind_speed': 1.13,\n   'wind_deg': 97,\n   'wind_gust': 0.94,\n   'weather': [{'id': 800,\n     'main': 'Clear',\n     'description': 'clear sky',\n     'icon': '01n'}],\n   'pop': 0},\n  {'dt': 1724644800,\n   'temp': 20.87,\n   'feels_like': 20.55,\n   'pressure': 1009,\n   'humidity': 59,\n   'dew_point': 11.55,\n   'uvi': 0.1,\n   'clouds': 2,\n   'visibility': 10000,\n   'wind_speed': 1.34,\n   'wind_deg': 90,\n   'wind_gust': 1.45,\n   'weather': [{'id': 800,\n     'main': 'Clear',\n     'description': 'clear sky',\n     'icon': '01d'}],\n   'pop': 0},\n  {'dt': 1724648400,\n   'temp': 23.72,\n   'feels_like': 23.51,\n   'pressure': 1009,\n   'humidity': 52,\n   'dew_point': 12.17,\n   'uvi': 0.57,\n   'clouds': 2,\n   'visibility': 10000,\n   'wind_speed': 1.42,\n   'wind_deg': 57,\n   'wind_gust': 2.24,\n   'weather': [{'id': 800,\n     'main': 'Clear',\n     'description': 'clear sky',\n     'icon': '01d'}],\n   'pop': 0},\n  {'dt': 1724652000,\n   'temp': 26.15,\n   'feels_like': 26.15,\n   'pressure': 1009,\n   'humidity': 48,\n   'dew_point': 13.02,\n   'uvi': 1.63,\n   'clouds': 2,\n   'visibility': 10000,\n   'wind_speed': 1.62,\n   'wind_deg': 35,\n   'wind_gust': 2.56,\n   'weather': [{'id': 800,\n     'main': 'Clear',\n     'description': 'clear sky',\n     'icon': '01d'}],\n   'pop': 0},\n  {'dt': 1724655600,\n   'temp': 28.41,\n   'feels_like': 28.19,\n   'pressure': 1009,\n   'humidity': 42,\n   'dew_point': 13.37,\n   'uvi': 3.25,\n   'clouds': 26,\n   'visibility': 10000,\n   'wind_speed': 1.96,\n   'wind_deg': 32,\n   'wind_gust': 3.07,\n   'weather': [{'id': 802,\n     'main': 'Clouds',\n     'description': 'scattered clouds',\n     'icon': '03d'}],\n   'pop': 0},\n  {'dt': 1724659200,\n   'temp': 30.65,\n   'feels_like': 29.86,\n   'pressure': 1009,\n   'humidity': 35,\n   'dew_point': 12.55,\n   'uvi': 5.09,\n   'clouds': 42,\n   'visibility': 10000,\n   'wind_speed': 2.6,\n   'wind_deg': 27,\n   'wind_gust': 3.4,\n   'weather': [{'id': 802,\n     'main': 'Clouds',\n     'description': 'scattered clouds',\n     'icon': '03d'}],\n   'pop': 0},\n  {'dt': 1724662800,\n   'temp': 32.37,\n   'feels_like': 31.37,\n   'pressure': 1008,\n   'humidity': 31,\n   'dew_point': 11.97,\n   'uvi': 6.58,\n   'clouds': 32,\n   'visibility': 10000,\n   'wind_speed': 3.37,\n   'wind_deg': 17,\n   'wind_gust': 3.55,\n   'weather': [{'id': 802,\n     'main': 'Clouds',\n     'description': 'scattered clouds',\n     'icon': '03d'}],\n   'pop': 0},\n  {'dt': 1724666400,\n   'temp': 33.7,\n   'feels_like': 32.58,\n   'pressure': 1007,\n   'humidity': 28,\n   'dew_point': 11.68,\n   'uvi': 7.15,\n   'clouds': 33,\n   'visibility': 10000,\n   'wind_speed': 4.11,\n   'wind_deg': 14,\n   'wind_gust': 3.66,\n   'weather': [{'id': 802,\n     'main': 'Clouds',\n     'description': 'scattered clouds',\n     'icon': '03d'}],\n   'pop': 0},\n  {'dt': 1724670000,\n   'temp': 34.1,\n   'feels_like': 33.08,\n   'pressure': 1007,\n   'humidity': 28,\n   'dew_point': 12.06,\n   'uvi': 6.66,\n   'clouds': 35,\n   'visibility': 10000,\n   'wind_speed': 5.92,\n   'wind_deg': 20,\n   'wind_gust': 4.75,\n   'weather': [{'id': 802,\n     'main': 'Clouds',\n     'description': 'scattered clouds',\n     'icon': '03d'}],\n   'pop': 0},\n  {'dt': 1724673600,\n   'temp': 33.88,\n   'feels_like': 32.96,\n   'pressure': 1006,\n   'humidity': 29,\n   'dew_point': 12.63,\n   'uvi': 5.3,\n   'clouds': 29,\n   'visibility': 10000,\n   'wind_speed': 6.25,\n   'wind_deg': 12,\n   'wind_gust': 5.2,\n   'weather': [{'id': 802,\n     'main': 'Clouds',\n     'description': 'scattered clouds',\n     'icon': '03d'}],\n   'pop': 0},\n  {'dt': 1724677200,\n   'temp': 32.92,\n   'feels_like': 32.04,\n   'pressure': 1006,\n   'humidity': 31,\n   'dew_point': 12.69,\n   'uvi': 3.15,\n   'clouds': 38,\n   'visibility': 10000,\n   'wind_speed': 7.18,\n   'wind_deg': 11,\n   'wind_gust': 4.86,\n   'weather': [{'id': 802,\n     'main': 'Clouds',\n     'description': 'scattered clouds',\n     'icon': '03d'}],\n   'pop': 0}],\n 'daily': [{'dt': 1724493600,\n   'sunrise': 1724469841,\n   'sunset': 1724518108,\n   'moonrise': 1724527080,\n   'moonset': 1724489640,\n   'moon_phase': 0.68,\n   'summary': 'There will be clear sky today',\n   'temp': {'day': 32.86,\n    'min': 21.4,\n    'max': 32.86,\n    'night': 21.4,\n    'eve': 29.82,\n    'morn': 21.82},\n   'feels_like': {'day': 31.57, 'night': 21.01, 'eve': 28.34, 'morn': 21.68},\n   'pressure': 1013,\n   'humidity': 28,\n   'dew_point': 11.96,\n   'wind_speed': 7.29,\n   'wind_deg': 26,\n   'wind_gust': 6.82,\n   'weather': [{'id': 800,\n     'main': 'Clear',\n     'description': 'clear sky',\n     'icon': '01d'}],\n   'clouds': 1,\n   'pop': 0,\n   'uvi': 7.8},\n  {'dt': 1724580000,\n   'sunrise': 1724556299,\n   'sunset': 1724604418,\n   'moonrise': 1724615520,\n   'moonset': 1724580600,\n   'moon_phase': 0.71,\n   'summary': 'Expect a day of partly cloudy with clear spells',\n   'temp': {'day': 33.05,\n    'min': 19.32,\n    'max': 34.85,\n    'night': 22.94,\n    'eve': 29.27,\n    'morn': 19.82},\n   'feels_like': {'day': 32.36, 'night': 22.78, 'eve': 28.88, 'morn': 19.5},\n   'pressure': 1009,\n   'humidity': 32,\n   'dew_point': 13.34,\n   'wind_speed': 8.29,\n   'wind_deg': 34,\n   'wind_gust': 8.45,\n   'weather': [{'id': 800,\n     'main': 'Clear',\n     'description': 'clear sky',\n     'icon': '01d'}],\n   'clouds': 1,\n   'pop': 0,\n   'uvi': 7.41},\n  {'dt': 1724666400,\n   'sunrise': 1724642756,\n   'sunset': 1724690727,\n   'moonrise': 1724704380,\n   'moonset': 1724671440,\n   'moon_phase': 0.75,\n   'summary': 'Expect a day of partly cloudy with rain',\n   'temp': {'day': 33.7,\n    'min': 20.28,\n    'max': 34.1,\n    'night': 22.91,\n    'eve': 28.56,\n    'morn': 20.87},\n   'feels_like': {'day': 32.58, 'night': 22.9, 'eve': 28.51, 'morn': 20.55},\n   'pressure': 1007,\n   'humidity': 28,\n   'dew_point': 11.68,\n   'wind_speed': 7.18,\n   'wind_deg': 11,\n   'wind_gust': 5.79,\n   'weather': [{'id': 500,\n     'main': 'Rain',\n     'description': 'light rain',\n     'icon': '10d'}],\n   'clouds': 33,\n   'pop': 0.33,\n   'rain': 0.29,\n   'uvi': 7.15},\n  {'dt': 1724752800,\n   'sunrise': 1724729214,\n   'sunset': 1724777036,\n   'moonrise': 0,\n   'moonset': 1724762040,\n   'moon_phase': 0.78,\n   'summary': 'Expect a day of partly cloudy with rain',\n   'temp': {'day': 31.88,\n    'min': 20.1,\n    'max': 31.88,\n    'night': 23.29,\n    'eve': 29.26,\n    'morn': 20.79},\n   'feels_like': {'day': 31.77, 'night': 23.58, 'eve': 29.63, 'morn': 20.99},\n   'pressure': 1009,\n   'humidity': 38,\n   'dew_point': 15,\n   'wind_speed': 6.23,\n   'wind_deg': 320,\n   'wind_gust': 4.39,\n   'weather': [{'id': 500,\n     'main': 'Rain',\n     'description': 'light rain',\n     'icon': '10d'}],\n   'clouds': 12,\n   'pop': 0.77,\n   'rain': 2.15,\n   'uvi': 7.09},\n  {'dt': 1724839200,\n   'sunrise': 1724815671,\n   'sunset': 1724863343,\n   'moonrise': 1724793660,\n   'moonset': 1724852100,\n   'moon_phase': 0.82,\n   'summary': 'You can expect clear sky in the morning, with partly cloudy in the afternoon',\n   'temp': {'day': 30.69,\n    'min': 20.03,\n    'max': 31.9,\n    'night': 24.14,\n    'eve': 30.17,\n    'morn': 20.03},\n   'feels_like': {'day': 29.8, 'night': 24.18, 'eve': 29.89, 'morn': 20.36},\n   'pressure': 1013,\n   'humidity': 34,\n   'dew_point': 12.14,\n   'wind_speed': 5.78,\n   'wind_deg': 321,\n   'wind_gust': 4.19,\n   'weather': [{'id': 800,\n     'main': 'Clear',\n     'description': 'clear sky',\n     'icon': '01d'}],\n   'clouds': 0,\n   'pop': 0,\n   'uvi': 7.33},\n  {'dt': 1724925600,\n   'sunrise': 1724902129,\n   'sunset': 1724949650,\n   'moonrise': 1724883540,\n   'moonset': 1724941620,\n   'moon_phase': 0.85,\n   'summary': 'There will be clear sky today',\n   'temp': {'day': 31.36,\n    'min': 20.89,\n    'max': 32.95,\n    'night': 24.74,\n    'eve': 30.69,\n    'morn': 20.89},\n   'feels_like': {'day': 30.11, 'night': 24.65, 'eve': 29.91, 'morn': 20.81},\n   'pressure': 1012,\n   'humidity': 30,\n   'dew_point': 10.78,\n   'wind_speed': 5.98,\n   'wind_deg': 328,\n   'wind_gust': 4.24,\n   'weather': [{'id': 800,\n     'main': 'Clear',\n     'description': 'clear sky',\n     'icon': '01d'}],\n   'clouds': 0,\n   'pop': 0,\n   'uvi': 8},\n  {'dt': 1725012000,\n   'sunrise': 1724988586,\n   'sunset': 1725035956,\n   'moonrise': 1724973660,\n   'moonset': 1725030420,\n   'moon_phase': 0.88,\n   'summary': 'Expect a day of partly cloudy with clear spells',\n   'temp': {'day': 31.6,\n    'min': 20.73,\n    'max': 32.66,\n    'night': 24.13,\n    'eve': 30.71,\n    'morn': 20.73},\n   'feels_like': {'day': 30.37, 'night': 24.19, 'eve': 30.04, 'morn': 20.58},\n   'pressure': 1011,\n   'humidity': 30,\n   'dew_point': 10.73,\n   'wind_speed': 5.78,\n   'wind_deg': 9,\n   'wind_gust': 5.1,\n   'weather': [{'id': 800,\n     'main': 'Clear',\n     'description': 'clear sky',\n     'icon': '01d'}],\n   'clouds': 2,\n   'pop': 0,\n   'uvi': 8},\n  {'dt': 1725098400,\n   'sunrise': 1725075043,\n   'sunset': 1725122262,\n   'moonrise': 1725064080,\n   'moonset': 1725118800,\n   'moon_phase': 0.92,\n   'summary': 'You can expect clear sky in the morning, with partly cloudy in the afternoon',\n   'temp': {'day': 30.16,\n    'min': 20.07,\n    'max': 30.16,\n    'night': 21.42,\n    'eve': 25.91,\n    'morn': 20.07},\n   'feels_like': {'day': 29.88, 'night': 21.81, 'eve': 26.18, 'morn': 20.3},\n   'pressure': 1009,\n   'humidity': 40,\n   'dew_point': 14.09,\n   'wind_speed': 5.16,\n   'wind_deg': 306,\n   'wind_gust': 4.05,\n   'weather': [{'id': 800,\n     'main': 'Clear',\n     'description': 'clear sky',\n     'icon': '01d'}],\n   'clouds': 0,\n   'pop': 0.15,\n   'uvi': 8}]}"
     },
     "execution_count": 286,
     "metadata": {},
     "output_type": "execute_result"
    }
   ],
   "source": [
    "data"
   ],
   "metadata": {
    "collapsed": false,
    "ExecuteTime": {
     "end_time": "2024-08-24T14:09:55.090278Z",
     "start_time": "2024-08-24T14:09:55.067849Z"
    }
   },
   "id": "34703334c8c4ac2c",
   "execution_count": 286
  },
  {
   "cell_type": "code",
   "outputs": [
    {
     "ename": "ValueError",
     "evalue": "All arrays must be of the same length",
     "output_type": "error",
     "traceback": [
      "\u001B[1;31m---------------------------------------------------------------------------\u001B[0m",
      "\u001B[1;31mValueError\u001B[0m                                Traceback (most recent call last)",
      "Cell \u001B[1;32mIn[287], line 1\u001B[0m\n\u001B[1;32m----> 1\u001B[0m df \u001B[38;5;241m=\u001B[39m \u001B[43mpd\u001B[49m\u001B[38;5;241;43m.\u001B[39;49m\u001B[43mDataFrame\u001B[49m\u001B[43m(\u001B[49m\u001B[43mdata\u001B[49m\u001B[43m)\u001B[49m\n",
      "File \u001B[1;32mC:\\MFi\\weather-app\\venv\\Lib\\site-packages\\pandas\\core\\frame.py:778\u001B[0m, in \u001B[0;36mDataFrame.__init__\u001B[1;34m(self, data, index, columns, dtype, copy)\u001B[0m\n\u001B[0;32m    772\u001B[0m     mgr \u001B[38;5;241m=\u001B[39m \u001B[38;5;28mself\u001B[39m\u001B[38;5;241m.\u001B[39m_init_mgr(\n\u001B[0;32m    773\u001B[0m         data, axes\u001B[38;5;241m=\u001B[39m{\u001B[38;5;124m\"\u001B[39m\u001B[38;5;124mindex\u001B[39m\u001B[38;5;124m\"\u001B[39m: index, \u001B[38;5;124m\"\u001B[39m\u001B[38;5;124mcolumns\u001B[39m\u001B[38;5;124m\"\u001B[39m: columns}, dtype\u001B[38;5;241m=\u001B[39mdtype, copy\u001B[38;5;241m=\u001B[39mcopy\n\u001B[0;32m    774\u001B[0m     )\n\u001B[0;32m    776\u001B[0m \u001B[38;5;28;01melif\u001B[39;00m \u001B[38;5;28misinstance\u001B[39m(data, \u001B[38;5;28mdict\u001B[39m):\n\u001B[0;32m    777\u001B[0m     \u001B[38;5;66;03m# GH#38939 de facto copy defaults to False only in non-dict cases\u001B[39;00m\n\u001B[1;32m--> 778\u001B[0m     mgr \u001B[38;5;241m=\u001B[39m \u001B[43mdict_to_mgr\u001B[49m\u001B[43m(\u001B[49m\u001B[43mdata\u001B[49m\u001B[43m,\u001B[49m\u001B[43m \u001B[49m\u001B[43mindex\u001B[49m\u001B[43m,\u001B[49m\u001B[43m \u001B[49m\u001B[43mcolumns\u001B[49m\u001B[43m,\u001B[49m\u001B[43m \u001B[49m\u001B[43mdtype\u001B[49m\u001B[38;5;241;43m=\u001B[39;49m\u001B[43mdtype\u001B[49m\u001B[43m,\u001B[49m\u001B[43m \u001B[49m\u001B[43mcopy\u001B[49m\u001B[38;5;241;43m=\u001B[39;49m\u001B[43mcopy\u001B[49m\u001B[43m,\u001B[49m\u001B[43m \u001B[49m\u001B[43mtyp\u001B[49m\u001B[38;5;241;43m=\u001B[39;49m\u001B[43mmanager\u001B[49m\u001B[43m)\u001B[49m\n\u001B[0;32m    779\u001B[0m \u001B[38;5;28;01melif\u001B[39;00m \u001B[38;5;28misinstance\u001B[39m(data, ma\u001B[38;5;241m.\u001B[39mMaskedArray):\n\u001B[0;32m    780\u001B[0m     \u001B[38;5;28;01mfrom\u001B[39;00m \u001B[38;5;21;01mnumpy\u001B[39;00m\u001B[38;5;21;01m.\u001B[39;00m\u001B[38;5;21;01mma\u001B[39;00m \u001B[38;5;28;01mimport\u001B[39;00m mrecords\n",
      "File \u001B[1;32mC:\\MFi\\weather-app\\venv\\Lib\\site-packages\\pandas\\core\\internals\\construction.py:503\u001B[0m, in \u001B[0;36mdict_to_mgr\u001B[1;34m(data, index, columns, dtype, typ, copy)\u001B[0m\n\u001B[0;32m    499\u001B[0m     \u001B[38;5;28;01melse\u001B[39;00m:\n\u001B[0;32m    500\u001B[0m         \u001B[38;5;66;03m# dtype check to exclude e.g. range objects, scalars\u001B[39;00m\n\u001B[0;32m    501\u001B[0m         arrays \u001B[38;5;241m=\u001B[39m [x\u001B[38;5;241m.\u001B[39mcopy() \u001B[38;5;28;01mif\u001B[39;00m \u001B[38;5;28mhasattr\u001B[39m(x, \u001B[38;5;124m\"\u001B[39m\u001B[38;5;124mdtype\u001B[39m\u001B[38;5;124m\"\u001B[39m) \u001B[38;5;28;01melse\u001B[39;00m x \u001B[38;5;28;01mfor\u001B[39;00m x \u001B[38;5;129;01min\u001B[39;00m arrays]\n\u001B[1;32m--> 503\u001B[0m \u001B[38;5;28;01mreturn\u001B[39;00m \u001B[43marrays_to_mgr\u001B[49m\u001B[43m(\u001B[49m\u001B[43marrays\u001B[49m\u001B[43m,\u001B[49m\u001B[43m \u001B[49m\u001B[43mcolumns\u001B[49m\u001B[43m,\u001B[49m\u001B[43m \u001B[49m\u001B[43mindex\u001B[49m\u001B[43m,\u001B[49m\u001B[43m \u001B[49m\u001B[43mdtype\u001B[49m\u001B[38;5;241;43m=\u001B[39;49m\u001B[43mdtype\u001B[49m\u001B[43m,\u001B[49m\u001B[43m \u001B[49m\u001B[43mtyp\u001B[49m\u001B[38;5;241;43m=\u001B[39;49m\u001B[43mtyp\u001B[49m\u001B[43m,\u001B[49m\u001B[43m \u001B[49m\u001B[43mconsolidate\u001B[49m\u001B[38;5;241;43m=\u001B[39;49m\u001B[43mcopy\u001B[49m\u001B[43m)\u001B[49m\n",
      "File \u001B[1;32mC:\\MFi\\weather-app\\venv\\Lib\\site-packages\\pandas\\core\\internals\\construction.py:114\u001B[0m, in \u001B[0;36marrays_to_mgr\u001B[1;34m(arrays, columns, index, dtype, verify_integrity, typ, consolidate)\u001B[0m\n\u001B[0;32m    111\u001B[0m \u001B[38;5;28;01mif\u001B[39;00m verify_integrity:\n\u001B[0;32m    112\u001B[0m     \u001B[38;5;66;03m# figure out the index, if necessary\u001B[39;00m\n\u001B[0;32m    113\u001B[0m     \u001B[38;5;28;01mif\u001B[39;00m index \u001B[38;5;129;01mis\u001B[39;00m \u001B[38;5;28;01mNone\u001B[39;00m:\n\u001B[1;32m--> 114\u001B[0m         index \u001B[38;5;241m=\u001B[39m \u001B[43m_extract_index\u001B[49m\u001B[43m(\u001B[49m\u001B[43marrays\u001B[49m\u001B[43m)\u001B[49m\n\u001B[0;32m    115\u001B[0m     \u001B[38;5;28;01melse\u001B[39;00m:\n\u001B[0;32m    116\u001B[0m         index \u001B[38;5;241m=\u001B[39m ensure_index(index)\n",
      "File \u001B[1;32mC:\\MFi\\weather-app\\venv\\Lib\\site-packages\\pandas\\core\\internals\\construction.py:677\u001B[0m, in \u001B[0;36m_extract_index\u001B[1;34m(data)\u001B[0m\n\u001B[0;32m    675\u001B[0m lengths \u001B[38;5;241m=\u001B[39m \u001B[38;5;28mlist\u001B[39m(\u001B[38;5;28mset\u001B[39m(raw_lengths))\n\u001B[0;32m    676\u001B[0m \u001B[38;5;28;01mif\u001B[39;00m \u001B[38;5;28mlen\u001B[39m(lengths) \u001B[38;5;241m>\u001B[39m \u001B[38;5;241m1\u001B[39m:\n\u001B[1;32m--> 677\u001B[0m     \u001B[38;5;28;01mraise\u001B[39;00m \u001B[38;5;167;01mValueError\u001B[39;00m(\u001B[38;5;124m\"\u001B[39m\u001B[38;5;124mAll arrays must be of the same length\u001B[39m\u001B[38;5;124m\"\u001B[39m)\n\u001B[0;32m    679\u001B[0m \u001B[38;5;28;01mif\u001B[39;00m have_dicts:\n\u001B[0;32m    680\u001B[0m     \u001B[38;5;28;01mraise\u001B[39;00m \u001B[38;5;167;01mValueError\u001B[39;00m(\n\u001B[0;32m    681\u001B[0m         \u001B[38;5;124m\"\u001B[39m\u001B[38;5;124mMixing dicts with non-Series may lead to ambiguous ordering.\u001B[39m\u001B[38;5;124m\"\u001B[39m\n\u001B[0;32m    682\u001B[0m     )\n",
      "\u001B[1;31mValueError\u001B[0m: All arrays must be of the same length"
     ]
    }
   ],
   "source": [
    "df = pd.DataFrame(data)"
   ],
   "metadata": {
    "collapsed": false,
    "ExecuteTime": {
     "end_time": "2024-08-24T14:09:56.637082Z",
     "start_time": "2024-08-24T14:09:56.516639Z"
    }
   },
   "id": "f65e1db6f057665d",
   "execution_count": 287
  },
  {
   "cell_type": "code",
   "outputs": [
    {
     "data": {
      "text/plain": "{'dt': 1724508588,\n 'sunrise': 1724469841,\n 'sunset': 1724518108,\n 'temp': 31,\n 'feels_like': 29.17,\n 'pressure': 1013,\n 'humidity': 22,\n 'dew_point': 6.81,\n 'uvi': 1.98,\n 'clouds': 2,\n 'visibility': 10000,\n 'wind_speed': 7.11,\n 'wind_deg': 34,\n 'wind_gust': 6.78,\n 'weather': [{'id': 800,\n   'main': 'Clear',\n   'description': 'clear sky',\n   'icon': '01d'}],\n 'city': 'Bursa',\n 'datetime': Timestamp('2024-08-24 14:09:48')}"
     },
     "execution_count": 288,
     "metadata": {},
     "output_type": "execute_result"
    }
   ],
   "source": [
    "df"
   ],
   "metadata": {
    "collapsed": false,
    "ExecuteTime": {
     "end_time": "2024-08-24T14:09:57.255723Z",
     "start_time": "2024-08-24T14:09:57.250353Z"
    }
   },
   "id": "4da981de000beb88",
   "execution_count": 288
  },
  {
   "cell_type": "code",
   "outputs": [],
   "source": [
    "#TOKEN = A1VtmcwEllTbfPTCk2Qs0ZLXi4FxmYOgG5bZ6hXTsBdop24595FV7Ih9gutr4GLkNPYE46_F2Id2r2CRcjhGuQ==\n",
    "#TOKENCENG = fBAUCTCV-fhFJP-5O-2OX7wCjuLdGXAL2XiLsHqD2wj1ZFkS-_uWXC9oqTE2PK6-UpAv74uennRGTJDEBKYWqA==\n",
    "\n",
    "#=1dGO5ue4avoSSOYIXgf1JfiqtcvXSXe4W083Mz-m2zWDJ-ZP8cIDwXsFjK6x8DcEQMLz6zUiUDL0Ugw-KRDLSA=="
   ],
   "metadata": {
    "collapsed": false,
    "ExecuteTime": {
     "end_time": "2024-08-24T12:09:44.863600Z",
     "start_time": "2024-08-24T12:09:44.859440Z"
    }
   },
   "id": "ffeda42a3968e6ac",
   "execution_count": 179
  },
  {
   "cell_type": "code",
   "outputs": [
    {
     "name": "stdout",
     "output_type": "stream",
     "text": [
      "weather_data,city=Istanbul day=30.65,humidity=38i,max=30.85,min=24.51,wind_speed=6.58 1724493600000000000\n",
      "weather_data,city=Istanbul day=29.91,humidity=46i,max=30.35,min=23.76,wind_speed=6.62 1724580000000000000\n",
      "weather_data,city=Istanbul day=29.76,humidity=41i,max=29.89,min=24.25,wind_speed=7.11 1724666400000000000\n",
      "weather_data,city=Istanbul day=27.71,humidity=56i,max=28.36,min=24.08,wind_speed=6.21 1724752800000000000\n",
      "weather_data,city=Istanbul day=27.57,humidity=51i,max=29.44,min=23.24,wind_speed=4.77 1724839200000000000\n",
      "weather_data,city=Istanbul day=28.3,humidity=45i,max=30.45,min=24.01,wind_speed=5.17 1724925600000000000\n",
      "weather_data,city=Istanbul day=27.83,humidity=52i,max=29.47,min=23.46,wind_speed=5.11 1725012000000000000\n",
      "weather_data,city=Istanbul day=24.99,humidity=68i,max=24.99,min=23.37,wind_speed=6.23 1725098400000000000\n"
     ]
    }
   ],
   "source": [
    "from influxdb_client import InfluxDBClient, Point, WriteOptions\n",
    "\n",
    "token = \"1dGO5ue4avoSSOYIXgf1JfiqtcvXSXe4W083Mz-m2zWDJ-ZP8cIDwXsFjK6x8DcEQMLz6zUiUDL0Ugw-KRDLSA==\"\n",
    "org = \"Team\"\n",
    "url = \"https://eu-central-1-1.aws.cloud2.influxdata.com\"\n",
    "bucket = \"Test\" \n",
    "\n",
    "client = InfluxDBClient(url=url, token=token, org=org)\n",
    "write_api = client.write_api(write_options=WriteOptions(batch_size=1_000, flush_interval=1_000))\n",
    "\n",
    "\n",
    "for index, row in df.iterrows():\n",
    "    point = Point(\"weather_data\") \\\n",
    "        .tag(\"city\", row[\"city\"]) \\\n",
    "        .field(\"day\", row[\"day\"]) \\\n",
    "        .field(\"humidity\", row[\"humidity\"]) \\\n",
    "        .field(\"max\", row[\"max\"]) \\\n",
    "        .field(\"min\", row[\"min\"]) \\\n",
    "        .field(\"wind_speed\", row[\"wind_speed\"]) \\\n",
    "        .time(row[\"time\"])\n",
    "    \n",
    "    print(point)\n",
    "    write_api.write(bucket=bucket, org=org, record=point)\n",
    "\n",
    "\n",
    "client.close()\n",
    "\n"
   ],
   "metadata": {
    "collapsed": false,
    "ExecuteTime": {
     "end_time": "2024-08-24T12:09:44.875723Z",
     "start_time": "2024-08-24T12:09:44.864611Z"
    }
   },
   "id": "839c69923d603944",
   "execution_count": 180
  },
  {
   "cell_type": "markdown",
   "source": [
    "# Get data from DB"
   ],
   "metadata": {
    "collapsed": false
   },
   "id": "315dc73931109c2f"
  },
  {
   "cell_type": "code",
   "outputs": [
    {
     "data": {
      "text/plain": "'Adana'"
     },
     "execution_count": 239,
     "metadata": {},
     "output_type": "execute_result"
    }
   ],
   "source": [
    "\n",
    "city_name.split(' ')[0]\n"
   ],
   "metadata": {
    "collapsed": false,
    "ExecuteTime": {
     "end_time": "2024-08-24T12:40:50.190640Z",
     "start_time": "2024-08-24T12:40:50.185034Z"
    }
   },
   "id": "88386c1dbed13e2d",
   "execution_count": 239
  },
  {
   "cell_type": "code",
   "outputs": [
    {
     "name": "stdout",
     "output_type": "stream",
     "text": [
      "field                      time    day  humidity    max    min  wind_speed\n",
      "0     2024-08-24 10:00:00+00:00  33.80      31.0  34.24  22.74        8.42\n",
      "1     2024-08-25 10:00:00+00:00  31.79      31.0  34.11  20.84        9.01\n",
      "2     2024-08-26 10:00:00+00:00  31.49      33.0  32.51  21.70        7.59\n",
      "3     2024-08-27 10:00:00+00:00  31.28      38.0  33.17  21.15        7.36\n",
      "4     2024-08-28 10:00:00+00:00  31.41      33.0  32.45  19.89        5.23\n",
      "5     2024-08-29 10:00:00+00:00  32.59      30.0  32.59  22.04        4.86\n",
      "6     2024-08-30 10:00:00+00:00  32.25      34.0  33.19  21.72        6.05\n",
      "7     2024-08-31 10:00:00+00:00  29.74      44.0  31.58  21.57        6.87\n"
     ]
    }
   ],
   "source": [
    "from influxdb_client import InfluxDBClient\n",
    "import pandas as pd\n",
    "\n",
    "\n",
    "url = \"https://eu-central-1-1.aws.cloud2.influxdata.com\"\n",
    "token = \"1dGO5ue4avoSSOYIXgf1JfiqtcvXSXe4W083Mz-m2zWDJ-ZP8cIDwXsFjK6x8DcEQMLz6zUiUDL0Ugw-KRDLSA==\"\n",
    "org = \"Team\"\n",
    "bucket = \"Test\"\n",
    "point = \"weather_data\"\n",
    "city_name = \"Çanakkale\"\n",
    "\n",
    "client = InfluxDBClient(url=url, token=token, org=org)\n",
    "query_api = client.query_api()\n",
    "\n",
    "\n",
    "query = f\"\"\"\n",
    "from(bucket: \"{bucket}\")\n",
    "  |> range(start: 2024-08-01T00:00:00Z, stop: 2024-09-10T23:59:59Z)\n",
    "  |> filter(fn: (r) => r[\"_measurement\"] == \"{point}\")\n",
    "   |> filter(fn: (r) => r[\"city\"] == \"{city_name}\")\n",
    "\"\"\"\n",
    "\n",
    "try:\n",
    "    result = query_api.query(org=org, query=query)\n",
    "    \n",
    "    # Sonuçları işleme\n",
    "    records = []\n",
    "    for table in result:\n",
    "        for record in table.records:\n",
    "            records.append({\n",
    "                \"time\": record.get_time(),\n",
    "                \"measurement\": record.get_measurement(),\n",
    "                \"field\": record.get_field(),\n",
    "                \"value\": record.get_value()\n",
    "            })\n",
    "\n",
    "    df = pd.DataFrame(records)\n",
    "    \n",
    "    # Zaman değerini datetime formatına çevir\n",
    "    df['time'] = pd.to_datetime(df['time'])\n",
    "\n",
    "    # Pivot işlemi\n",
    "    pivot_df = df.pivot_table(index='time', columns='field', values='value', aggfunc='mean').reset_index()\n",
    "    \n",
    "    print(pivot_df)\n",
    "\n",
    "\n",
    "finally:\n",
    "    client.close()\n"
   ],
   "metadata": {
    "collapsed": false,
    "ExecuteTime": {
     "end_time": "2024-08-24T12:46:35.414962Z",
     "start_time": "2024-08-24T12:46:34.917033Z"
    }
   },
   "id": "cf5307857151bb55",
   "execution_count": 242
  },
  {
   "cell_type": "code",
   "outputs": [
    {
     "data": {
      "text/plain": "'\\nfrom(bucket: \"Test\")\\n  |> range(start: 2024-08-01T00:00:00Z, stop: 2024-09-10T23:59:59Z)\\n  |> filter(fn: (r) => r[\"_measurement\"] == \"weather_data\")\\n   |> filter(fn: (r) => r[\"city\"] == \"Kütahya Merkez\")\\n'"
     },
     "execution_count": 212,
     "metadata": {},
     "output_type": "execute_result"
    }
   ],
   "source": [
    "query"
   ],
   "metadata": {
    "collapsed": false,
    "ExecuteTime": {
     "end_time": "2024-08-24T12:25:13.226045Z",
     "start_time": "2024-08-24T12:25:13.220291Z"
    }
   },
   "id": "81cda0cac5026437",
   "execution_count": 212
  },
  {
   "cell_type": "code",
   "outputs": [
    {
     "name": "stdout",
     "output_type": "stream",
     "text": [
      "\n",
      "        from(bucket: \"Test\")\n",
      "          |> range(start: 2024-08-01T00:00:00Z, stop: 2024-08-31T23:59:59Z)\n",
      "          |> filter(fn: (r) => r[\"_measurement\"] == \"weather_data_current\")\n",
      "           |> filter(fn: (r) => r[\"city\"] == \"Ankara\")\n",
      "        \n",
      "                        time   measurement       field  value\n",
      "0  2024-08-24 00:00:00+00:00  weather_data         day  27.25\n",
      "1  2024-08-24 10:00:00+00:00  weather_data         day  26.85\n",
      "2  2024-08-25 00:00:00+00:00  weather_data         day  26.76\n",
      "3  2024-08-25 10:00:00+00:00  weather_data         day  26.76\n",
      "4  2024-08-26 00:00:00+00:00  weather_data         day  27.86\n",
      "..                       ...           ...         ...    ...\n",
      "75 2024-08-29 10:00:00+00:00  weather_data  wind_speed   5.79\n",
      "76 2024-08-30 00:00:00+00:00  weather_data  wind_speed   5.34\n",
      "77 2024-08-30 10:00:00+00:00  weather_data  wind_speed   5.34\n",
      "78 2024-08-31 00:00:00+00:00  weather_data  wind_speed   4.70\n",
      "79 2024-08-31 10:00:00+00:00  weather_data  wind_speed   4.70\n",
      "\n",
      "[80 rows x 4 columns]\n"
     ]
    }
   ],
   "source": [
    "client = InfluxDBClient(url=url, token=token, org=org)\n",
    "query_api = client.query_api()\n",
    "\n",
    "\n",
    "\n",
    "url = \"https://eu-central-1-1.aws.cloud2.influxdata.com\"\n",
    "token = \"1dGO5ue4avoSSOYIXgf1JfiqtcvXSXe4W083Mz-m2zWDJ-ZP8cIDwXsFjK6x8DcEQMLz6zUiUDL0Ugw-KRDLSA==\"\n",
    "org = \"Team\"\n",
    "bucket = \"Test\"\n",
    "point = \"weather_data\"\n",
    "city_name = \"Ankara\"\n",
    "\n",
    "\n",
    "query = f\"\"\"\n",
    "from(bucket: \"Test\")\n",
    "  |> range(start: 2024-08-01T00:00:00Z, stop: 2024-08-31T23:59:59Z)\n",
    "  |> filter(fn: (r) => r[\"_measurement\"] == \"{point}\")\n",
    "   |> filter(fn: (r) => r[\"city\"] == \"{city_name.split(' ')[0]}\")\n",
    "\"\"\"\n",
    "\n",
    "query_curr = f\"\"\"\n",
    "        from(bucket: \"Test\")\n",
    "          |> range(start: 2024-08-01T00:00:00Z, stop: 2024-08-31T23:59:59Z)\n",
    "          |> filter(fn: (r) => r[\"_measurement\"] == \"{point+'_current'}\")\n",
    "           |> filter(fn: (r) => r[\"city\"] == \"{city_name.split(' ')[0]}\")\n",
    "        \"\"\"\n",
    "\n",
    "print(query_curr)\n",
    "\n",
    "try:\n",
    "    result_current = query_api.query(org=org, query=query_curr)\n",
    "    result = query_api.query(org=org, query=query)\n",
    "\n",
    "\n",
    "    #weekly\n",
    "    records = []\n",
    "    for table in result:\n",
    "        for record in table.records:\n",
    "            records.append({\n",
    "                \"time\": record.get_time(),\n",
    "                \"measurement\": record.get_measurement(),\n",
    "                \"field\": record.get_field(),\n",
    "                \"value\": record.get_value()\n",
    "            })\n",
    "\n",
    "    df = pd.DataFrame(records)\n",
    "\n",
    "    print(df)\n",
    "\n",
    "    #df['time'] = pd.to_datetime(df['time'])\n",
    "    #df[\"temp\"] = df[\"temp\"].astype(float)\n",
    "\n",
    "    pivot_df = df.pivot_table(index='time', columns='field', values='value', aggfunc='mean').reset_index()\n",
    "\n",
    "    # current\n",
    "    records_curr = []\n",
    "    for table in result_current:\n",
    "        for record in table.records:\n",
    "            records_curr.append({\n",
    "                \"time\": record.get_time(),\n",
    "                \"measurement\": record.get_measurement(),\n",
    "                \"field\": record.get_field(),\n",
    "                \"value\": record.get_value()\n",
    "            })\n",
    "\n",
    "    df_curr = pd.DataFrame(records_curr)\n",
    "\n",
    "    #df_curr['time'] = pd.to_datetime(df_curr['time'])\n",
    "    #df_curr[\"temp\"] = df_curr[\"temp\"].astype(float)\n",
    "\n",
    "    result_current = df_curr.pivot_table(index='time', columns='field', values='value', aggfunc='mean').reset_index()\n",
    "\n",
    "    weekly_pivot_df = pivot_df\n",
    "    current_pivot_df = result_current\n",
    "\n",
    "except Exception as e:\n",
    "    print(f\"Bir hata oluştu: {e}\")\n"
   ],
   "metadata": {
    "collapsed": false,
    "ExecuteTime": {
     "end_time": "2024-08-24T14:11:27.237402Z",
     "start_time": "2024-08-24T14:11:26.693795Z"
    }
   },
   "id": "a2c6a1d7f2505d38",
   "execution_count": 292
  },
  {
   "cell_type": "code",
   "outputs": [
    {
     "data": {
      "text/plain": "field                      time  humidity   temp  wind_speed\n0     2024-08-24 00:00:00+00:00      45.0  27.86        1.34",
      "text/html": "<div>\n<style scoped>\n    .dataframe tbody tr th:only-of-type {\n        vertical-align: middle;\n    }\n\n    .dataframe tbody tr th {\n        vertical-align: top;\n    }\n\n    .dataframe thead th {\n        text-align: right;\n    }\n</style>\n<table border=\"1\" class=\"dataframe\">\n  <thead>\n    <tr style=\"text-align: right;\">\n      <th>field</th>\n      <th>time</th>\n      <th>humidity</th>\n      <th>temp</th>\n      <th>wind_speed</th>\n    </tr>\n  </thead>\n  <tbody>\n    <tr>\n      <th>0</th>\n      <td>2024-08-24 00:00:00+00:00</td>\n      <td>45.0</td>\n      <td>27.86</td>\n      <td>1.34</td>\n    </tr>\n  </tbody>\n</table>\n</div>"
     },
     "execution_count": 293,
     "metadata": {},
     "output_type": "execute_result"
    }
   ],
   "source": [
    "current_pivot_df"
   ],
   "metadata": {
    "collapsed": false,
    "ExecuteTime": {
     "end_time": "2024-08-24T14:11:40.803309Z",
     "start_time": "2024-08-24T14:11:40.793514Z"
    }
   },
   "id": "a7497616d35c4576",
   "execution_count": 293
  },
  {
   "cell_type": "code",
   "outputs": [],
   "source": [],
   "metadata": {
    "collapsed": false
   },
   "id": "c06fef02e9088ef3"
  }
 ],
 "metadata": {
  "kernelspec": {
   "display_name": "Python 3",
   "language": "python",
   "name": "python3"
  },
  "language_info": {
   "codemirror_mode": {
    "name": "ipython",
    "version": 2
   },
   "file_extension": ".py",
   "mimetype": "text/x-python",
   "name": "python",
   "nbconvert_exporter": "python",
   "pygments_lexer": "ipython2",
   "version": "2.7.6"
  }
 },
 "nbformat": 4,
 "nbformat_minor": 5
}
