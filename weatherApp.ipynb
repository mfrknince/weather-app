{
 "cells": [
  {
   "cell_type": "code",
   "execution_count": 37,
   "id": "initial_id",
   "metadata": {
    "collapsed": true,
    "ExecuteTime": {
     "end_time": "2024-08-22T16:50:33.844364Z",
     "start_time": "2024-08-22T16:50:32.413409Z"
    }
   },
   "outputs": [],
   "source": [
    "import requests\n",
    "import pandas as pd"
   ]
  },
  {
   "cell_type": "code",
   "outputs": [],
   "source": [
    "city = input(\"Enter City:\")"
   ],
   "metadata": {
    "collapsed": false,
    "ExecuteTime": {
     "end_time": "2024-08-22T16:32:24.299331Z",
     "start_time": "2024-08-22T16:32:21.562237Z"
    }
   },
   "id": "b8e090e9bb170e13",
   "execution_count": 9
  },
  {
   "cell_type": "code",
   "outputs": [],
   "source": [
    "api_key = '26dd5cb041fd282483585d9be8828735'"
   ],
   "metadata": {
    "collapsed": false,
    "ExecuteTime": {
     "end_time": "2024-08-22T16:32:25.018632Z",
     "start_time": "2024-08-22T16:32:25.014520Z"
    }
   },
   "id": "60ce5f1aa652fbed",
   "execution_count": 10
  },
  {
   "cell_type": "markdown",
   "source": [
    "# Find Coordinates by Name"
   ],
   "metadata": {
    "collapsed": false
   },
   "id": "2e6b4c5f198faafd"
  },
  {
   "cell_type": "code",
   "outputs": [],
   "source": [
    "url = f'http://api.openweathermap.org/geo/1.0/direct?q={city}&appid={api_key}'"
   ],
   "metadata": {
    "collapsed": false,
    "ExecuteTime": {
     "end_time": "2024-08-22T16:32:26.311047Z",
     "start_time": "2024-08-22T16:32:26.306447Z"
    }
   },
   "id": "5ff07fe4c99d57eb",
   "execution_count": 11
  },
  {
   "cell_type": "code",
   "outputs": [],
   "source": [
    "res = requests.get(url)\n",
    "data = res.json()"
   ],
   "metadata": {
    "collapsed": false,
    "ExecuteTime": {
     "end_time": "2024-08-22T16:32:27.173381Z",
     "start_time": "2024-08-22T16:32:26.964833Z"
    }
   },
   "id": "5dfd9e0d76813453",
   "execution_count": 12
  },
  {
   "cell_type": "code",
   "outputs": [
    {
     "data": {
      "text/plain": "[{'name': 'Denizli',\n  'local_names': {'ku': 'Denizlî',\n   'ru': 'Денизли',\n   'en': 'Denizli',\n   'ja': 'デニズリ',\n   'ur': 'دنیزلی',\n   'pt': 'Denizli',\n   'tr': 'Denizli',\n   'el': 'Ντενιζλί',\n   'hi': 'डेनिज़ली',\n   'hu': 'Denizli',\n   'ml': 'ഡെനിസ്ലി',\n   'ar': 'دنيزلي',\n   'fa': 'دنیزلی'},\n  'lat': 37.7833152,\n  'lon': 29.0844832,\n  'country': 'TR'}]"
     },
     "execution_count": 23,
     "metadata": {},
     "output_type": "execute_result"
    }
   ],
   "source": [
    "data"
   ],
   "metadata": {
    "collapsed": false,
    "ExecuteTime": {
     "end_time": "2024-08-22T16:39:47.547426Z",
     "start_time": "2024-08-22T16:39:47.541153Z"
    }
   },
   "id": "2b80df46cd407702",
   "execution_count": 23
  },
  {
   "cell_type": "code",
   "outputs": [],
   "source": [
    "city_name = data[0]['name']\n",
    "city_lat = data[0]['lat']\n",
    "city_lon = data[0]['lon']"
   ],
   "metadata": {
    "collapsed": false,
    "ExecuteTime": {
     "end_time": "2024-08-22T16:43:11.937880Z",
     "start_time": "2024-08-22T16:43:11.933097Z"
    }
   },
   "id": "d0063ec2d8db30bb",
   "execution_count": 27
  },
  {
   "cell_type": "markdown",
   "source": [
    "# Get Weather info"
   ],
   "metadata": {
    "collapsed": false
   },
   "id": "305b8d0aa7e7cbba"
  },
  {
   "cell_type": "code",
   "outputs": [],
   "source": [
    "\n",
    "url = f'https://api.openweathermap.org/data/3.0/onecall?lat={city_lat}&lon={city_lon}&units=metric&appid={api_key}'\n"
   ],
   "metadata": {
    "collapsed": false,
    "ExecuteTime": {
     "end_time": "2024-08-22T16:48:00.398718Z",
     "start_time": "2024-08-22T16:48:00.394091Z"
    }
   },
   "id": "1f259bc8b6abffd7",
   "execution_count": 33
  },
  {
   "cell_type": "code",
   "outputs": [],
   "source": [
    "\n",
    "res = requests.get(url)\n",
    "data = res.json()\n"
   ],
   "metadata": {
    "collapsed": false,
    "ExecuteTime": {
     "end_time": "2024-08-22T16:48:01.409817Z",
     "start_time": "2024-08-22T16:48:01.006625Z"
    }
   },
   "id": "788f50929f9a3b17",
   "execution_count": 34
  },
  {
   "cell_type": "code",
   "outputs": [
    {
     "data": {
      "text/plain": "{'lat': 37.7833,\n 'lon': 29.0845,\n 'timezone': 'Europe/Istanbul',\n 'timezone_offset': 10800,\n 'current': {'dt': 1724345303,\n  'sunrise': 1724297131,\n  'sunset': 1724345272,\n  'temp': 30.19,\n  'feels_like': 30.43,\n  'pressure': 1005,\n  'humidity': 44,\n  'dew_point': 16.59,\n  'uvi': 0,\n  'clouds': 68,\n  'visibility': 10000,\n  'wind_speed': 3.61,\n  'wind_deg': 225,\n  'wind_gust': 4.19,\n  'weather': [{'id': 803,\n    'main': 'Clouds',\n    'description': 'broken clouds',\n    'icon': '04n'}]},\n 'minutely': [{'dt': 1724345340, 'precipitation': 0},\n  {'dt': 1724345400, 'precipitation': 0},\n  {'dt': 1724345460, 'precipitation': 0},\n  {'dt': 1724345520, 'precipitation': 0},\n  {'dt': 1724345580, 'precipitation': 0},\n  {'dt': 1724345640, 'precipitation': 0},\n  {'dt': 1724345700, 'precipitation': 0},\n  {'dt': 1724345760, 'precipitation': 0},\n  {'dt': 1724345820, 'precipitation': 0},\n  {'dt': 1724345880, 'precipitation': 0},\n  {'dt': 1724345940, 'precipitation': 0},\n  {'dt': 1724346000, 'precipitation': 0},\n  {'dt': 1724346060, 'precipitation': 0},\n  {'dt': 1724346120, 'precipitation': 0},\n  {'dt': 1724346180, 'precipitation': 0},\n  {'dt': 1724346240, 'precipitation': 0},\n  {'dt': 1724346300, 'precipitation': 0},\n  {'dt': 1724346360, 'precipitation': 0},\n  {'dt': 1724346420, 'precipitation': 0},\n  {'dt': 1724346480, 'precipitation': 0},\n  {'dt': 1724346540, 'precipitation': 0},\n  {'dt': 1724346600, 'precipitation': 0},\n  {'dt': 1724346660, 'precipitation': 0},\n  {'dt': 1724346720, 'precipitation': 0},\n  {'dt': 1724346780, 'precipitation': 0},\n  {'dt': 1724346840, 'precipitation': 0},\n  {'dt': 1724346900, 'precipitation': 0},\n  {'dt': 1724346960, 'precipitation': 0},\n  {'dt': 1724347020, 'precipitation': 0},\n  {'dt': 1724347080, 'precipitation': 0},\n  {'dt': 1724347140, 'precipitation': 0},\n  {'dt': 1724347200, 'precipitation': 0},\n  {'dt': 1724347260, 'precipitation': 0},\n  {'dt': 1724347320, 'precipitation': 0},\n  {'dt': 1724347380, 'precipitation': 0},\n  {'dt': 1724347440, 'precipitation': 0},\n  {'dt': 1724347500, 'precipitation': 0},\n  {'dt': 1724347560, 'precipitation': 0},\n  {'dt': 1724347620, 'precipitation': 0},\n  {'dt': 1724347680, 'precipitation': 0},\n  {'dt': 1724347740, 'precipitation': 0},\n  {'dt': 1724347800, 'precipitation': 0},\n  {'dt': 1724347860, 'precipitation': 0},\n  {'dt': 1724347920, 'precipitation': 0},\n  {'dt': 1724347980, 'precipitation': 0},\n  {'dt': 1724348040, 'precipitation': 0},\n  {'dt': 1724348100, 'precipitation': 0},\n  {'dt': 1724348160, 'precipitation': 0},\n  {'dt': 1724348220, 'precipitation': 0},\n  {'dt': 1724348280, 'precipitation': 0},\n  {'dt': 1724348340, 'precipitation': 0},\n  {'dt': 1724348400, 'precipitation': 0},\n  {'dt': 1724348460, 'precipitation': 0},\n  {'dt': 1724348520, 'precipitation': 0},\n  {'dt': 1724348580, 'precipitation': 0},\n  {'dt': 1724348640, 'precipitation': 0},\n  {'dt': 1724348700, 'precipitation': 0},\n  {'dt': 1724348760, 'precipitation': 0},\n  {'dt': 1724348820, 'precipitation': 0},\n  {'dt': 1724348880, 'precipitation': 0}],\n 'hourly': [{'dt': 1724342400,\n   'temp': 30.37,\n   'feels_like': 30.52,\n   'pressure': 1005,\n   'humidity': 43,\n   'dew_point': 16.4,\n   'uvi': 0.16,\n   'clouds': 67,\n   'visibility': 10000,\n   'wind_speed': 3.24,\n   'wind_deg': 225,\n   'wind_gust': 4.14,\n   'weather': [{'id': 803,\n     'main': 'Clouds',\n     'description': 'broken clouds',\n     'icon': '04d'}],\n   'pop': 0},\n  {'dt': 1724346000,\n   'temp': 30.19,\n   'feels_like': 30.43,\n   'pressure': 1005,\n   'humidity': 44,\n   'dew_point': 16.59,\n   'uvi': 0,\n   'clouds': 68,\n   'visibility': 10000,\n   'wind_speed': 3.61,\n   'wind_deg': 225,\n   'wind_gust': 4.19,\n   'weather': [{'id': 803,\n     'main': 'Clouds',\n     'description': 'broken clouds',\n     'icon': '04n'}],\n   'pop': 0},\n  {'dt': 1724349600,\n   'temp': 30.23,\n   'feels_like': 30.34,\n   'pressure': 1005,\n   'humidity': 43,\n   'dew_point': 16.27,\n   'uvi': 0,\n   'clouds': 69,\n   'visibility': 10000,\n   'wind_speed': 2.69,\n   'wind_deg': 237,\n   'wind_gust': 2.63,\n   'weather': [{'id': 803,\n     'main': 'Clouds',\n     'description': 'broken clouds',\n     'icon': '04n'}],\n   'pop': 0},\n  {'dt': 1724353200,\n   'temp': 30.25,\n   'feels_like': 30.23,\n   'pressure': 1006,\n   'humidity': 42,\n   'dew_point': 15.92,\n   'uvi': 0,\n   'clouds': 81,\n   'visibility': 10000,\n   'wind_speed': 1.5,\n   'wind_deg': 261,\n   'wind_gust': 1.87,\n   'weather': [{'id': 803,\n     'main': 'Clouds',\n     'description': 'broken clouds',\n     'icon': '04n'}],\n   'pop': 0},\n  {'dt': 1724356800,\n   'temp': 29.89,\n   'feels_like': 29.8,\n   'pressure': 1006,\n   'humidity': 42,\n   'dew_point': 15.6,\n   'uvi': 0,\n   'clouds': 81,\n   'visibility': 10000,\n   'wind_speed': 1.48,\n   'wind_deg': 324,\n   'wind_gust': 2.21,\n   'weather': [{'id': 803,\n     'main': 'Clouds',\n     'description': 'broken clouds',\n     'icon': '04n'}],\n   'pop': 0},\n  {'dt': 1724360400,\n   'temp': 28.78,\n   'feels_like': 28.75,\n   'pressure': 1007,\n   'humidity': 44,\n   'dew_point': 15.32,\n   'uvi': 0,\n   'clouds': 79,\n   'visibility': 10000,\n   'wind_speed': 1.49,\n   'wind_deg': 309,\n   'wind_gust': 1.81,\n   'weather': [{'id': 803,\n     'main': 'Clouds',\n     'description': 'broken clouds',\n     'icon': '04n'}],\n   'pop': 0},\n  {'dt': 1724364000,\n   'temp': 26.94,\n   'feels_like': 27.13,\n   'pressure': 1008,\n   'humidity': 46,\n   'dew_point': 12.44,\n   'uvi': 0,\n   'clouds': 68,\n   'visibility': 10000,\n   'wind_speed': 1.06,\n   'wind_deg': 336,\n   'wind_gust': 1.62,\n   'weather': [{'id': 803,\n     'main': 'Clouds',\n     'description': 'broken clouds',\n     'icon': '04n'}],\n   'pop': 0},\n  {'dt': 1724367600,\n   'temp': 25.84,\n   'feels_like': 25.71,\n   'pressure': 1008,\n   'humidity': 47,\n   'dew_point': 11.83,\n   'uvi': 0,\n   'clouds': 53,\n   'visibility': 10000,\n   'wind_speed': 1.45,\n   'wind_deg': 325,\n   'wind_gust': 1.99,\n   'weather': [{'id': 803,\n     'main': 'Clouds',\n     'description': 'broken clouds',\n     'icon': '04n'}],\n   'pop': 0},\n  {'dt': 1724371200,\n   'temp': 25.39,\n   'feels_like': 25.21,\n   'pressure': 1009,\n   'humidity': 47,\n   'dew_point': 11.33,\n   'uvi': 0,\n   'clouds': 47,\n   'visibility': 10000,\n   'wind_speed': 1.11,\n   'wind_deg': 311,\n   'wind_gust': 1.74,\n   'weather': [{'id': 802,\n     'main': 'Clouds',\n     'description': 'scattered clouds',\n     'icon': '03n'}],\n   'pop': 0},\n  {'dt': 1724374800,\n   'temp': 24.78,\n   'feels_like': 24.54,\n   'pressure': 1009,\n   'humidity': 47,\n   'dew_point': 11.07,\n   'uvi': 0,\n   'clouds': 28,\n   'visibility': 10000,\n   'wind_speed': 0.77,\n   'wind_deg': 333,\n   'wind_gust': 1.41,\n   'weather': [{'id': 802,\n     'main': 'Clouds',\n     'description': 'scattered clouds',\n     'icon': '03n'}],\n   'pop': 0},\n  {'dt': 1724378400,\n   'temp': 24.08,\n   'feels_like': 23.82,\n   'pressure': 1009,\n   'humidity': 49,\n   'dew_point': 10.88,\n   'uvi': 0,\n   'clouds': 27,\n   'visibility': 10000,\n   'wind_speed': 0.76,\n   'wind_deg': 346,\n   'wind_gust': 1.31,\n   'weather': [{'id': 802,\n     'main': 'Clouds',\n     'description': 'scattered clouds',\n     'icon': '03n'}],\n   'pop': 0},\n  {'dt': 1724382000,\n   'temp': 23.35,\n   'feels_like': 23.07,\n   'pressure': 1009,\n   'humidity': 51,\n   'dew_point': 10.71,\n   'uvi': 0,\n   'clouds': 17,\n   'visibility': 10000,\n   'wind_speed': 0.57,\n   'wind_deg': 339,\n   'wind_gust': 1.14,\n   'weather': [{'id': 801,\n     'main': 'Clouds',\n     'description': 'few clouds',\n     'icon': '02n'}],\n   'pop': 0},\n  {'dt': 1724385600,\n   'temp': 24.34,\n   'feels_like': 24.08,\n   'pressure': 1010,\n   'humidity': 48,\n   'dew_point': 10.95,\n   'uvi': 0.12,\n   'clouds': 13,\n   'visibility': 10000,\n   'wind_speed': 0.34,\n   'wind_deg': 8,\n   'wind_gust': 1.06,\n   'weather': [{'id': 801,\n     'main': 'Clouds',\n     'description': 'few clouds',\n     'icon': '02d'}],\n   'pop': 0},\n  {'dt': 1724389200,\n   'temp': 27.36,\n   'feels_like': 27.14,\n   'pressure': 1010,\n   'humidity': 40,\n   'dew_point': 10.68,\n   'uvi': 0.65,\n   'clouds': 11,\n   'visibility': 10000,\n   'wind_speed': 0.95,\n   'wind_deg': 1,\n   'wind_gust': 1.2,\n   'weather': [{'id': 801,\n     'main': 'Clouds',\n     'description': 'few clouds',\n     'icon': '02d'}],\n   'pop': 0},\n  {'dt': 1724392800,\n   'temp': 28.99,\n   'feels_like': 28.19,\n   'pressure': 1010,\n   'humidity': 35,\n   'dew_point': 10.52,\n   'uvi': 1.86,\n   'clouds': 9,\n   'visibility': 10000,\n   'wind_speed': 1.59,\n   'wind_deg': 14,\n   'wind_gust': 1.41,\n   'weather': [{'id': 800,\n     'main': 'Clear',\n     'description': 'clear sky',\n     'icon': '01d'}],\n   'pop': 0},\n  {'dt': 1724396400,\n   'temp': 30.66,\n   'feels_like': 29.57,\n   'pressure': 1010,\n   'humidity': 32,\n   'dew_point': 10.26,\n   'uvi': 3.71,\n   'clouds': 0,\n   'visibility': 10000,\n   'wind_speed': 2.05,\n   'wind_deg': 9,\n   'wind_gust': 1.72,\n   'weather': [{'id': 800,\n     'main': 'Clear',\n     'description': 'clear sky',\n     'icon': '01d'}],\n   'pop': 0},\n  {'dt': 1724400000,\n   'temp': 32.2,\n   'feels_like': 30.82,\n   'pressure': 1010,\n   'humidity': 28,\n   'dew_point': 9.98,\n   'uvi': 5.82,\n   'clouds': 4,\n   'visibility': 10000,\n   'wind_speed': 2.14,\n   'wind_deg': 5,\n   'wind_gust': 1.84,\n   'weather': [{'id': 800,\n     'main': 'Clear',\n     'description': 'clear sky',\n     'icon': '01d'}],\n   'pop': 0},\n  {'dt': 1724403600,\n   'temp': 33.78,\n   'feels_like': 32.26,\n   'pressure': 1010,\n   'humidity': 25,\n   'dew_point': 9.63,\n   'uvi': 7.54,\n   'clouds': 6,\n   'visibility': 10000,\n   'wind_speed': 2.11,\n   'wind_deg': 360,\n   'wind_gust': 1.88,\n   'weather': [{'id': 800,\n     'main': 'Clear',\n     'description': 'clear sky',\n     'icon': '01d'}],\n   'pop': 0},\n  {'dt': 1724407200,\n   'temp': 35.07,\n   'feels_like': 33.52,\n   'pressure': 1009,\n   'humidity': 23,\n   'dew_point': 9.37,\n   'uvi': 8.24,\n   'clouds': 5,\n   'visibility': 10000,\n   'wind_speed': 2,\n   'wind_deg': 355,\n   'wind_gust': 1.69,\n   'weather': [{'id': 800,\n     'main': 'Clear',\n     'description': 'clear sky',\n     'icon': '01d'}],\n   'pop': 0},\n  {'dt': 1724410800,\n   'temp': 36.21,\n   'feels_like': 34.6,\n   'pressure': 1009,\n   'humidity': 21,\n   'dew_point': 9.12,\n   'uvi': 7.68,\n   'clouds': 4,\n   'visibility': 10000,\n   'wind_speed': 2.49,\n   'wind_deg': 349,\n   'wind_gust': 1.99,\n   'weather': [{'id': 800,\n     'main': 'Clear',\n     'description': 'clear sky',\n     'icon': '01d'}],\n   'pop': 0},\n  {'dt': 1724414400,\n   'temp': 37.2,\n   'feels_like': 35.46,\n   'pressure': 1008,\n   'humidity': 19,\n   'dew_point': 8.64,\n   'uvi': 6.06,\n   'clouds': 4,\n   'visibility': 10000,\n   'wind_speed': 3.49,\n   'wind_deg': 347,\n   'wind_gust': 2.66,\n   'weather': [{'id': 800,\n     'main': 'Clear',\n     'description': 'clear sky',\n     'icon': '01d'}],\n   'pop': 0},\n  {'dt': 1724418000,\n   'temp': 37.94,\n   'feels_like': 35.99,\n   'pressure': 1007,\n   'humidity': 17,\n   'dew_point': 7.63,\n   'uvi': 3.94,\n   'clouds': 6,\n   'visibility': 10000,\n   'wind_speed': 5.03,\n   'wind_deg': 343,\n   'wind_gust': 3.12,\n   'weather': [{'id': 800,\n     'main': 'Clear',\n     'description': 'clear sky',\n     'icon': '01d'}],\n   'pop': 0},\n  {'dt': 1724421600,\n   'temp': 37.79,\n   'feels_like': 35.64,\n   'pressure': 1007,\n   'humidity': 16,\n   'dew_point': 6.83,\n   'uvi': 2.02,\n   'clouds': 7,\n   'visibility': 10000,\n   'wind_speed': 5.17,\n   'wind_deg': 342,\n   'wind_gust': 3.04,\n   'weather': [{'id': 800,\n     'main': 'Clear',\n     'description': 'clear sky',\n     'icon': '01d'}],\n   'pop': 0},\n  {'dt': 1724425200,\n   'temp': 36.42,\n   'feels_like': 34.69,\n   'pressure': 1008,\n   'humidity': 20,\n   'dew_point': 7.79,\n   'uvi': 0.75,\n   'clouds': 15,\n   'visibility': 10000,\n   'wind_speed': 3.83,\n   'wind_deg': 329,\n   'wind_gust': 3.3,\n   'weather': [{'id': 801,\n     'main': 'Clouds',\n     'description': 'few clouds',\n     'icon': '02d'}],\n   'pop': 0},\n  {'dt': 1724428800,\n   'temp': 34.55,\n   'feels_like': 33.04,\n   'pressure': 1008,\n   'humidity': 24,\n   'dew_point': 9.2,\n   'uvi': 0.14,\n   'clouds': 30,\n   'visibility': 10000,\n   'wind_speed': 3.69,\n   'wind_deg': 311,\n   'wind_gust': 5.92,\n   'weather': [{'id': 802,\n     'main': 'Clouds',\n     'description': 'scattered clouds',\n     'icon': '03d'}],\n   'pop': 0},\n  {'dt': 1724432400,\n   'temp': 32.15,\n   'feels_like': 30.99,\n   'pressure': 1009,\n   'humidity': 30,\n   'dew_point': 10.35,\n   'uvi': 0,\n   'clouds': 41,\n   'visibility': 10000,\n   'wind_speed': 2.32,\n   'wind_deg': 236,\n   'wind_gust': 3.45,\n   'weather': [{'id': 802,\n     'main': 'Clouds',\n     'description': 'scattered clouds',\n     'icon': '03n'}],\n   'pop': 0},\n  {'dt': 1724436000,\n   'temp': 29.74,\n   'feels_like': 29.09,\n   'pressure': 1010,\n   'humidity': 37,\n   'dew_point': 11.54,\n   'uvi': 0,\n   'clouds': 39,\n   'visibility': 10000,\n   'wind_speed': 1.73,\n   'wind_deg': 219,\n   'wind_gust': 2.68,\n   'weather': [{'id': 802,\n     'main': 'Clouds',\n     'description': 'scattered clouds',\n     'icon': '03n'}],\n   'pop': 0},\n  {'dt': 1724439600,\n   'temp': 28.92,\n   'feels_like': 28.44,\n   'pressure': 1010,\n   'humidity': 39,\n   'dew_point': 11.62,\n   'uvi': 0,\n   'clouds': 14,\n   'visibility': 10000,\n   'wind_speed': 1.41,\n   'wind_deg': 274,\n   'wind_gust': 2.58,\n   'weather': [{'id': 801,\n     'main': 'Clouds',\n     'description': 'few clouds',\n     'icon': '02n'}],\n   'pop': 0},\n  {'dt': 1724443200,\n   'temp': 27.38,\n   'feels_like': 27.21,\n   'pressure': 1011,\n   'humidity': 41,\n   'dew_point': 11.17,\n   'uvi': 0,\n   'clouds': 6,\n   'visibility': 10000,\n   'wind_speed': 2.18,\n   'wind_deg': 347,\n   'wind_gust': 2.33,\n   'weather': [{'id': 800,\n     'main': 'Clear',\n     'description': 'clear sky',\n     'icon': '01n'}],\n   'pop': 0},\n  {'dt': 1724446800,\n   'temp': 26.18,\n   'feels_like': 26.18,\n   'pressure': 1012,\n   'humidity': 43,\n   'dew_point': 11.02,\n   'uvi': 0,\n   'clouds': 5,\n   'visibility': 10000,\n   'wind_speed': 0.67,\n   'wind_deg': 328,\n   'wind_gust': 1.59,\n   'weather': [{'id': 800,\n     'main': 'Clear',\n     'description': 'clear sky',\n     'icon': '01n'}],\n   'pop': 0},\n  {'dt': 1724450400,\n   'temp': 25.57,\n   'feels_like': 25.41,\n   'pressure': 1012,\n   'humidity': 47,\n   'dew_point': 11.6,\n   'uvi': 0,\n   'clouds': 3,\n   'visibility': 10000,\n   'wind_speed': 1.3,\n   'wind_deg': 336,\n   'wind_gust': 1.58,\n   'weather': [{'id': 800,\n     'main': 'Clear',\n     'description': 'clear sky',\n     'icon': '01n'}],\n   'pop': 0},\n  {'dt': 1724454000,\n   'temp': 24.9,\n   'feels_like': 24.73,\n   'pressure': 1012,\n   'humidity': 49,\n   'dew_point': 11.73,\n   'uvi': 0,\n   'clouds': 3,\n   'visibility': 10000,\n   'wind_speed': 1.16,\n   'wind_deg': 325,\n   'wind_gust': 1.63,\n   'weather': [{'id': 800,\n     'main': 'Clear',\n     'description': 'clear sky',\n     'icon': '01n'}],\n   'pop': 0},\n  {'dt': 1724457600,\n   'temp': 24.15,\n   'feels_like': 23.95,\n   'pressure': 1012,\n   'humidity': 51,\n   'dew_point': 11.56,\n   'uvi': 0,\n   'clouds': 2,\n   'visibility': 10000,\n   'wind_speed': 0.77,\n   'wind_deg': 327,\n   'wind_gust': 1.47,\n   'weather': [{'id': 800,\n     'main': 'Clear',\n     'description': 'clear sky',\n     'icon': '01n'}],\n   'pop': 0},\n  {'dt': 1724461200,\n   'temp': 23.67,\n   'feels_like': 23.45,\n   'pressure': 1012,\n   'humidity': 52,\n   'dew_point': 11.28,\n   'uvi': 0,\n   'clouds': 0,\n   'visibility': 10000,\n   'wind_speed': 0.61,\n   'wind_deg': 330,\n   'wind_gust': 1.38,\n   'weather': [{'id': 800,\n     'main': 'Clear',\n     'description': 'clear sky',\n     'icon': '01n'}],\n   'pop': 0},\n  {'dt': 1724464800,\n   'temp': 23.27,\n   'feels_like': 22.98,\n   'pressure': 1012,\n   'humidity': 51,\n   'dew_point': 10.85,\n   'uvi': 0,\n   'clouds': 0,\n   'visibility': 10000,\n   'wind_speed': 0.81,\n   'wind_deg': 326,\n   'wind_gust': 1.29,\n   'weather': [{'id': 800,\n     'main': 'Clear',\n     'description': 'clear sky',\n     'icon': '01n'}],\n   'pop': 0},\n  {'dt': 1724468400,\n   'temp': 22.57,\n   'feels_like': 22.24,\n   'pressure': 1012,\n   'humidity': 52,\n   'dew_point': 10.43,\n   'uvi': 0,\n   'clouds': 0,\n   'visibility': 10000,\n   'wind_speed': 0.71,\n   'wind_deg': 345,\n   'wind_gust': 1.23,\n   'weather': [{'id': 800,\n     'main': 'Clear',\n     'description': 'clear sky',\n     'icon': '01n'}],\n   'pop': 0},\n  {'dt': 1724472000,\n   'temp': 23.38,\n   'feels_like': 23.05,\n   'pressure': 1013,\n   'humidity': 49,\n   'dew_point': 10.32,\n   'uvi': 0.11,\n   'clouds': 0,\n   'visibility': 10000,\n   'wind_speed': 1.06,\n   'wind_deg': 355,\n   'wind_gust': 1.47,\n   'weather': [{'id': 800,\n     'main': 'Clear',\n     'description': 'clear sky',\n     'icon': '01d'}],\n   'pop': 0},\n  {'dt': 1724475600,\n   'temp': 25.9,\n   'feels_like': 25.62,\n   'pressure': 1013,\n   'humidity': 41,\n   'dew_point': 9.98,\n   'uvi': 0.66,\n   'clouds': 0,\n   'visibility': 10000,\n   'wind_speed': 1.22,\n   'wind_deg': 357,\n   'wind_gust': 1.74,\n   'weather': [{'id': 800,\n     'main': 'Clear',\n     'description': 'clear sky',\n     'icon': '01d'}],\n   'pop': 0},\n  {'dt': 1724479200,\n   'temp': 27.33,\n   'feels_like': 27,\n   'pressure': 1013,\n   'humidity': 38,\n   'dew_point': 9.88,\n   'uvi': 1.92,\n   'clouds': 0,\n   'visibility': 10000,\n   'wind_speed': 1.85,\n   'wind_deg': 357,\n   'wind_gust': 1.94,\n   'weather': [{'id': 800,\n     'main': 'Clear',\n     'description': 'clear sky',\n     'icon': '01d'}],\n   'pop': 0},\n  {'dt': 1724482800,\n   'temp': 29.07,\n   'feels_like': 28.12,\n   'pressure': 1013,\n   'humidity': 33,\n   'dew_point': 9.53,\n   'uvi': 3.92,\n   'clouds': 0,\n   'visibility': 10000,\n   'wind_speed': 2.27,\n   'wind_deg': 353,\n   'wind_gust': 2.32,\n   'weather': [{'id': 800,\n     'main': 'Clear',\n     'description': 'clear sky',\n     'icon': '01d'}],\n   'pop': 0},\n  {'dt': 1724486400,\n   'temp': 30.79,\n   'feels_like': 29.43,\n   'pressure': 1013,\n   'humidity': 29,\n   'dew_point': 8.86,\n   'uvi': 6.15,\n   'clouds': 0,\n   'visibility': 10000,\n   'wind_speed': 2.7,\n   'wind_deg': 354,\n   'wind_gust': 2.86,\n   'weather': [{'id': 800,\n     'main': 'Clear',\n     'description': 'clear sky',\n     'icon': '01d'}],\n   'pop': 0},\n  {'dt': 1724490000,\n   'temp': 32.4,\n   'feels_like': 30.73,\n   'pressure': 1012,\n   'humidity': 25,\n   'dew_point': 8.24,\n   'uvi': 7.95,\n   'clouds': 0,\n   'visibility': 10000,\n   'wind_speed': 2.64,\n   'wind_deg': 352,\n   'wind_gust': 2.97,\n   'weather': [{'id': 800,\n     'main': 'Clear',\n     'description': 'clear sky',\n     'icon': '01d'}],\n   'pop': 0},\n  {'dt': 1724493600,\n   'temp': 33.9,\n   'feels_like': 32.05,\n   'pressure': 1011,\n   'humidity': 22,\n   'dew_point': 7.73,\n   'uvi': 8.73,\n   'clouds': 0,\n   'visibility': 10000,\n   'wind_speed': 2.79,\n   'wind_deg': 346,\n   'wind_gust': 2.98,\n   'weather': [{'id': 800,\n     'main': 'Clear',\n     'description': 'clear sky',\n     'icon': '01d'}],\n   'pop': 0},\n  {'dt': 1724497200,\n   'temp': 35.23,\n   'feels_like': 33.3,\n   'pressure': 1010,\n   'humidity': 20,\n   'dew_point': 7.14,\n   'uvi': 8.16,\n   'clouds': 0,\n   'visibility': 10000,\n   'wind_speed': 2.81,\n   'wind_deg': 340,\n   'wind_gust': 2.42,\n   'weather': [{'id': 800,\n     'main': 'Clear',\n     'description': 'clear sky',\n     'icon': '01d'}],\n   'pop': 0},\n  {'dt': 1724500800,\n   'temp': 36.08,\n   'feels_like': 34.01,\n   'pressure': 1009,\n   'humidity': 18,\n   'dew_point': 6.49,\n   'uvi': 6.48,\n   'clouds': 0,\n   'visibility': 10000,\n   'wind_speed': 2.7,\n   'wind_deg': 339,\n   'wind_gust': 2.22,\n   'weather': [{'id': 800,\n     'main': 'Clear',\n     'description': 'clear sky',\n     'icon': '01d'}],\n   'pop': 0},\n  {'dt': 1724504400,\n   'temp': 36.48,\n   'feels_like': 34.19,\n   'pressure': 1009,\n   'humidity': 16,\n   'dew_point': 5.37,\n   'uvi': 4.25,\n   'clouds': 0,\n   'visibility': 10000,\n   'wind_speed': 2.95,\n   'wind_deg': 330,\n   'wind_gust': 2.65,\n   'weather': [{'id': 800,\n     'main': 'Clear',\n     'description': 'clear sky',\n     'icon': '01d'}],\n   'pop': 0},\n  {'dt': 1724508000,\n   'temp': 36.5,\n   'feels_like': 34.1,\n   'pressure': 1008,\n   'humidity': 15,\n   'dew_point': 4.11,\n   'uvi': 2.17,\n   'clouds': 1,\n   'visibility': 10000,\n   'wind_speed': 3.14,\n   'wind_deg': 327,\n   'wind_gust': 3.11,\n   'weather': [{'id': 800,\n     'main': 'Clear',\n     'description': 'clear sky',\n     'icon': '01d'}],\n   'pop': 0},\n  {'dt': 1724511600,\n   'temp': 36.03,\n   'feels_like': 33.52,\n   'pressure': 1008,\n   'humidity': 14,\n   'dew_point': 2.92,\n   'uvi': 0.79,\n   'clouds': 1,\n   'visibility': 10000,\n   'wind_speed': 3.1,\n   'wind_deg': 316,\n   'wind_gust': 3.56,\n   'weather': [{'id': 800,\n     'main': 'Clear',\n     'description': 'clear sky',\n     'icon': '01d'}],\n   'pop': 0}],\n 'daily': [{'dt': 1724320800,\n   'sunrise': 1724297131,\n   'sunset': 1724345272,\n   'moonrise': 1724351160,\n   'moonset': 1724307660,\n   'moon_phase': 0.6,\n   'summary': 'You can expect clear sky in the morning, with partly cloudy in the afternoon',\n   'temp': {'day': 33.39,\n    'min': 21.88,\n    'max': 35.7,\n    'night': 29.89,\n    'eve': 30.37,\n    'morn': 23.23},\n   'feels_like': {'day': 33.17, 'night': 29.8, 'eve': 30.52, 'morn': 23.28},\n   'pressure': 1006,\n   'humidity': 34,\n   'dew_point': 13.97,\n   'wind_speed': 3.61,\n   'wind_deg': 225,\n   'wind_gust': 4.19,\n   'weather': [{'id': 800,\n     'main': 'Clear',\n     'description': 'clear sky',\n     'icon': '01d'}],\n   'clouds': 0,\n   'pop': 0,\n   'uvi': 8.38},\n  {'dt': 1724407200,\n   'sunrise': 1724383582,\n   'sunset': 1724431590,\n   'moonrise': 1724439180,\n   'moonset': 1724398440,\n   'moon_phase': 0.64,\n   'summary': 'Expect a day of partly cloudy with clear spells',\n   'temp': {'day': 35.07,\n    'min': 23.35,\n    'max': 37.94,\n    'night': 27.38,\n    'eve': 34.55,\n    'morn': 24.34},\n   'feels_like': {'day': 33.52, 'night': 27.21, 'eve': 33.04, 'morn': 24.08},\n   'pressure': 1009,\n   'humidity': 23,\n   'dew_point': 9.37,\n   'wind_speed': 5.17,\n   'wind_deg': 342,\n   'wind_gust': 5.92,\n   'weather': [{'id': 800,\n     'main': 'Clear',\n     'description': 'clear sky',\n     'icon': '01d'}],\n   'clouds': 5,\n   'pop': 0,\n   'uvi': 8.24},\n  {'dt': 1724493600,\n   'sunrise': 1724470034,\n   'sunset': 1724517907,\n   'moonrise': 1724527440,\n   'moonset': 1724489340,\n   'moon_phase': 0.68,\n   'summary': 'There will be clear sky today',\n   'temp': {'day': 33.9,\n    'min': 22.57,\n    'max': 36.5,\n    'night': 26.09,\n    'eve': 34.01,\n    'morn': 23.38},\n   'feels_like': {'day': 32.05, 'night': 26.09, 'eve': 31.62, 'morn': 23.05},\n   'pressure': 1011,\n   'humidity': 22,\n   'dew_point': 7.73,\n   'wind_speed': 3.14,\n   'wind_deg': 327,\n   'wind_gust': 3.56,\n   'weather': [{'id': 800,\n     'main': 'Clear',\n     'description': 'clear sky',\n     'icon': '01d'}],\n   'clouds': 0,\n   'pop': 0,\n   'uvi': 8.73},\n  {'dt': 1724580000,\n   'sunrise': 1724556486,\n   'sunset': 1724604223,\n   'moonrise': 1724616000,\n   'moonset': 1724580180,\n   'moon_phase': 0.71,\n   'summary': 'You can expect clear sky in the morning, with partly cloudy in the afternoon',\n   'temp': {'day': 34.45,\n    'min': 21.43,\n    'max': 36.73,\n    'night': 30.31,\n    'eve': 33.22,\n    'morn': 22.41},\n   'feels_like': {'day': 33.06, 'night': 29.13, 'eve': 31.42, 'morn': 22.12},\n   'pressure': 1008,\n   'humidity': 25,\n   'dew_point': 10.18,\n   'wind_speed': 3.16,\n   'wind_deg': 342,\n   'wind_gust': 3.03,\n   'weather': [{'id': 800,\n     'main': 'Clear',\n     'description': 'clear sky',\n     'icon': '01d'}],\n   'clouds': 0,\n   'pop': 0,\n   'uvi': 8.58},\n  {'dt': 1724666400,\n   'sunrise': 1724642937,\n   'sunset': 1724690539,\n   'moonrise': 1724704920,\n   'moonset': 1724670960,\n   'moon_phase': 0.75,\n   'summary': 'There will be clear sky until morning, then rain',\n   'temp': {'day': 32.46,\n    'min': 21.7,\n    'max': 33.9,\n    'night': 22.95,\n    'eve': 22.47,\n    'morn': 21.7},\n   'feels_like': {'day': 31.48, 'night': 23.08, 'eve': 22.5, 'morn': 21.47},\n   'pressure': 1006,\n   'humidity': 31,\n   'dew_point': 11.57,\n   'wind_speed': 5.7,\n   'wind_deg': 246,\n   'wind_gust': 6.25,\n   'weather': [{'id': 502,\n     'main': 'Rain',\n     'description': 'heavy intensity rain',\n     'icon': '10d'}],\n   'clouds': 7,\n   'pop': 1,\n   'rain': 17.43,\n   'uvi': 8.06},\n  {'dt': 1724752800,\n   'sunrise': 1724729388,\n   'sunset': 1724776853,\n   'moonrise': 0,\n   'moonset': 1724761500,\n   'moon_phase': 0.78,\n   'summary': 'Expect a day of partly cloudy with rain',\n   'temp': {'day': 29.72,\n    'min': 21.2,\n    'max': 32.46,\n    'night': 24.17,\n    'eve': 24.62,\n    'morn': 21.2},\n   'feels_like': {'day': 29.27, 'night': 24.21, 'eve': 24.83, 'morn': 21.13},\n   'pressure': 1008,\n   'humidity': 39,\n   'dew_point': 12.72,\n   'wind_speed': 3.71,\n   'wind_deg': 165,\n   'wind_gust': 4.13,\n   'weather': [{'id': 500,\n     'main': 'Rain',\n     'description': 'light rain',\n     'icon': '10d'}],\n   'clouds': 5,\n   'pop': 1,\n   'rain': 1.26,\n   'uvi': 9},\n  {'dt': 1724839200,\n   'sunrise': 1724815839,\n   'sunset': 1724863167,\n   'moonrise': 1724794260,\n   'moonset': 1724851500,\n   'moon_phase': 0.82,\n   'summary': 'You can expect clear sky in the morning, with partly cloudy in the afternoon',\n   'temp': {'day': 29.71,\n    'min': 21.44,\n    'max': 32.26,\n    'night': 26.89,\n    'eve': 31.09,\n    'morn': 21.44},\n   'feels_like': {'day': 29.26, 'night': 26.93, 'eve': 30.02, 'morn': 21.39},\n   'pressure': 1011,\n   'humidity': 39,\n   'dew_point': 12.41,\n   'wind_speed': 3.7,\n   'wind_deg': 321,\n   'wind_gust': 3.25,\n   'weather': [{'id': 800,\n     'main': 'Clear',\n     'description': 'clear sky',\n     'icon': '01d'}],\n   'clouds': 1,\n   'pop': 0,\n   'uvi': 9},\n  {'dt': 1724925600,\n   'sunrise': 1724902290,\n   'sunset': 1724949480,\n   'moonrise': 1724884140,\n   'moonset': 1724941020,\n   'moon_phase': 0.85,\n   'summary': 'Expect a day of partly cloudy with rain',\n   'temp': {'day': 29.92,\n    'min': 21.92,\n    'max': 32.88,\n    'night': 28.01,\n    'eve': 32.76,\n    'morn': 21.92},\n   'feels_like': {'day': 29.49, 'night': 27.67, 'eve': 31.33, 'morn': 21.86},\n   'pressure': 1011,\n   'humidity': 39,\n   'dew_point': 12.87,\n   'wind_speed': 3.17,\n   'wind_deg': 353,\n   'wind_gust': 2.78,\n   'weather': [{'id': 500,\n     'main': 'Rain',\n     'description': 'light rain',\n     'icon': '10d'}],\n   'clouds': 2,\n   'pop': 0.2,\n   'rain': 0.12,\n   'uvi': 9}]}"
     },
     "execution_count": 35,
     "metadata": {},
     "output_type": "execute_result"
    }
   ],
   "source": [
    "data"
   ],
   "metadata": {
    "collapsed": false,
    "ExecuteTime": {
     "end_time": "2024-08-22T16:48:06.428974Z",
     "start_time": "2024-08-22T16:48:06.404680Z"
    }
   },
   "id": "bb21939d1c1f6d52",
   "execution_count": 35
  },
  {
   "cell_type": "code",
   "outputs": [
    {
     "data": {
      "text/plain": "{'dt': 1724320800,\n 'sunrise': 1724297131,\n 'sunset': 1724345272,\n 'moonrise': 1724351160,\n 'moonset': 1724307660,\n 'moon_phase': 0.6,\n 'summary': 'You can expect clear sky in the morning, with partly cloudy in the afternoon',\n 'temp': {'day': 33.39,\n  'min': 21.88,\n  'max': 35.7,\n  'night': 29.89,\n  'eve': 30.37,\n  'morn': 23.23},\n 'feels_like': {'day': 33.17, 'night': 29.8, 'eve': 30.52, 'morn': 23.28},\n 'pressure': 1006,\n 'humidity': 34,\n 'dew_point': 13.97,\n 'wind_speed': 3.61,\n 'wind_deg': 225,\n 'wind_gust': 4.19,\n 'weather': [{'id': 800,\n   'main': 'Clear',\n   'description': 'clear sky',\n   'icon': '01d'}],\n 'clouds': 0,\n 'pop': 0,\n 'uvi': 8.38}"
     },
     "execution_count": 41,
     "metadata": {},
     "output_type": "execute_result"
    }
   ],
   "source": [
    "data['daily'][0]"
   ],
   "metadata": {
    "collapsed": false,
    "ExecuteTime": {
     "end_time": "2024-08-22T17:30:54.020082Z",
     "start_time": "2024-08-22T17:30:54.014837Z"
    }
   },
   "id": "61654bbd9d93d365",
   "execution_count": 41
  },
  {
   "cell_type": "code",
   "outputs": [
    {
     "data": {
      "text/plain": "           dt     sunrise      sunset    moonrise     moonset  moon_phase  \\\n0  1724320800  1724297131  1724345272  1724351160  1724307660        0.60   \n1  1724407200  1724383582  1724431590  1724439180  1724398440        0.64   \n2  1724493600  1724470034  1724517907  1724527440  1724489340        0.68   \n3  1724580000  1724556486  1724604223  1724616000  1724580180        0.71   \n4  1724666400  1724642937  1724690539  1724704920  1724670960        0.75   \n5  1724752800  1724729388  1724776853           0  1724761500        0.78   \n6  1724839200  1724815839  1724863167  1724794260  1724851500        0.82   \n7  1724925600  1724902290  1724949480  1724884140  1724941020        0.85   \n\n                                             summary  \\\n0  You can expect clear sky in the morning, with ...   \n1    Expect a day of partly cloudy with clear spells   \n2                      There will be clear sky today   \n3  You can expect clear sky in the morning, with ...   \n4   There will be clear sky until morning, then rain   \n5            Expect a day of partly cloudy with rain   \n6  You can expect clear sky in the morning, with ...   \n7            Expect a day of partly cloudy with rain   \n\n                                                temp  \\\n0  {'day': 33.39, 'min': 21.88, 'max': 35.7, 'nig...   \n1  {'day': 35.07, 'min': 23.35, 'max': 37.94, 'ni...   \n2  {'day': 33.9, 'min': 22.57, 'max': 36.5, 'nigh...   \n3  {'day': 34.45, 'min': 21.43, 'max': 36.73, 'ni...   \n4  {'day': 32.46, 'min': 21.7, 'max': 33.9, 'nigh...   \n5  {'day': 29.72, 'min': 21.2, 'max': 32.46, 'nig...   \n6  {'day': 29.71, 'min': 21.44, 'max': 32.26, 'ni...   \n7  {'day': 29.92, 'min': 21.92, 'max': 32.88, 'ni...   \n\n                                          feels_like  pressure  humidity  \\\n0  {'day': 33.17, 'night': 29.8, 'eve': 30.52, 'm...      1006        34   \n1  {'day': 33.52, 'night': 27.21, 'eve': 33.04, '...      1009        23   \n2  {'day': 32.05, 'night': 26.09, 'eve': 31.62, '...      1011        22   \n3  {'day': 33.06, 'night': 29.13, 'eve': 31.42, '...      1008        25   \n4  {'day': 31.48, 'night': 23.08, 'eve': 22.5, 'm...      1006        31   \n5  {'day': 29.27, 'night': 24.21, 'eve': 24.83, '...      1008        39   \n6  {'day': 29.26, 'night': 26.93, 'eve': 30.02, '...      1011        39   \n7  {'day': 29.49, 'night': 27.67, 'eve': 31.33, '...      1011        39   \n\n   dew_point  wind_speed  wind_deg  wind_gust  \\\n0      13.97        3.61       225       4.19   \n1       9.37        5.17       342       5.92   \n2       7.73        3.14       327       3.56   \n3      10.18        3.16       342       3.03   \n4      11.57        5.70       246       6.25   \n5      12.72        3.71       165       4.13   \n6      12.41        3.70       321       3.25   \n7      12.87        3.17       353       2.78   \n\n                                             weather  clouds  pop   uvi   rain  \n0  [{'id': 800, 'main': 'Clear', 'description': '...       0  0.0  8.38    NaN  \n1  [{'id': 800, 'main': 'Clear', 'description': '...       5  0.0  8.24    NaN  \n2  [{'id': 800, 'main': 'Clear', 'description': '...       0  0.0  8.73    NaN  \n3  [{'id': 800, 'main': 'Clear', 'description': '...       0  0.0  8.58    NaN  \n4  [{'id': 502, 'main': 'Rain', 'description': 'h...       7  1.0  8.06  17.43  \n5  [{'id': 500, 'main': 'Rain', 'description': 'l...       5  1.0  9.00   1.26  \n6  [{'id': 800, 'main': 'Clear', 'description': '...       1  0.0  9.00    NaN  \n7  [{'id': 500, 'main': 'Rain', 'description': 'l...       2  0.2  9.00   0.12  ",
      "text/html": "<div>\n<style scoped>\n    .dataframe tbody tr th:only-of-type {\n        vertical-align: middle;\n    }\n\n    .dataframe tbody tr th {\n        vertical-align: top;\n    }\n\n    .dataframe thead th {\n        text-align: right;\n    }\n</style>\n<table border=\"1\" class=\"dataframe\">\n  <thead>\n    <tr style=\"text-align: right;\">\n      <th></th>\n      <th>dt</th>\n      <th>sunrise</th>\n      <th>sunset</th>\n      <th>moonrise</th>\n      <th>moonset</th>\n      <th>moon_phase</th>\n      <th>summary</th>\n      <th>temp</th>\n      <th>feels_like</th>\n      <th>pressure</th>\n      <th>humidity</th>\n      <th>dew_point</th>\n      <th>wind_speed</th>\n      <th>wind_deg</th>\n      <th>wind_gust</th>\n      <th>weather</th>\n      <th>clouds</th>\n      <th>pop</th>\n      <th>uvi</th>\n      <th>rain</th>\n    </tr>\n  </thead>\n  <tbody>\n    <tr>\n      <th>0</th>\n      <td>1724320800</td>\n      <td>1724297131</td>\n      <td>1724345272</td>\n      <td>1724351160</td>\n      <td>1724307660</td>\n      <td>0.60</td>\n      <td>You can expect clear sky in the morning, with ...</td>\n      <td>{'day': 33.39, 'min': 21.88, 'max': 35.7, 'nig...</td>\n      <td>{'day': 33.17, 'night': 29.8, 'eve': 30.52, 'm...</td>\n      <td>1006</td>\n      <td>34</td>\n      <td>13.97</td>\n      <td>3.61</td>\n      <td>225</td>\n      <td>4.19</td>\n      <td>[{'id': 800, 'main': 'Clear', 'description': '...</td>\n      <td>0</td>\n      <td>0.0</td>\n      <td>8.38</td>\n      <td>NaN</td>\n    </tr>\n    <tr>\n      <th>1</th>\n      <td>1724407200</td>\n      <td>1724383582</td>\n      <td>1724431590</td>\n      <td>1724439180</td>\n      <td>1724398440</td>\n      <td>0.64</td>\n      <td>Expect a day of partly cloudy with clear spells</td>\n      <td>{'day': 35.07, 'min': 23.35, 'max': 37.94, 'ni...</td>\n      <td>{'day': 33.52, 'night': 27.21, 'eve': 33.04, '...</td>\n      <td>1009</td>\n      <td>23</td>\n      <td>9.37</td>\n      <td>5.17</td>\n      <td>342</td>\n      <td>5.92</td>\n      <td>[{'id': 800, 'main': 'Clear', 'description': '...</td>\n      <td>5</td>\n      <td>0.0</td>\n      <td>8.24</td>\n      <td>NaN</td>\n    </tr>\n    <tr>\n      <th>2</th>\n      <td>1724493600</td>\n      <td>1724470034</td>\n      <td>1724517907</td>\n      <td>1724527440</td>\n      <td>1724489340</td>\n      <td>0.68</td>\n      <td>There will be clear sky today</td>\n      <td>{'day': 33.9, 'min': 22.57, 'max': 36.5, 'nigh...</td>\n      <td>{'day': 32.05, 'night': 26.09, 'eve': 31.62, '...</td>\n      <td>1011</td>\n      <td>22</td>\n      <td>7.73</td>\n      <td>3.14</td>\n      <td>327</td>\n      <td>3.56</td>\n      <td>[{'id': 800, 'main': 'Clear', 'description': '...</td>\n      <td>0</td>\n      <td>0.0</td>\n      <td>8.73</td>\n      <td>NaN</td>\n    </tr>\n    <tr>\n      <th>3</th>\n      <td>1724580000</td>\n      <td>1724556486</td>\n      <td>1724604223</td>\n      <td>1724616000</td>\n      <td>1724580180</td>\n      <td>0.71</td>\n      <td>You can expect clear sky in the morning, with ...</td>\n      <td>{'day': 34.45, 'min': 21.43, 'max': 36.73, 'ni...</td>\n      <td>{'day': 33.06, 'night': 29.13, 'eve': 31.42, '...</td>\n      <td>1008</td>\n      <td>25</td>\n      <td>10.18</td>\n      <td>3.16</td>\n      <td>342</td>\n      <td>3.03</td>\n      <td>[{'id': 800, 'main': 'Clear', 'description': '...</td>\n      <td>0</td>\n      <td>0.0</td>\n      <td>8.58</td>\n      <td>NaN</td>\n    </tr>\n    <tr>\n      <th>4</th>\n      <td>1724666400</td>\n      <td>1724642937</td>\n      <td>1724690539</td>\n      <td>1724704920</td>\n      <td>1724670960</td>\n      <td>0.75</td>\n      <td>There will be clear sky until morning, then rain</td>\n      <td>{'day': 32.46, 'min': 21.7, 'max': 33.9, 'nigh...</td>\n      <td>{'day': 31.48, 'night': 23.08, 'eve': 22.5, 'm...</td>\n      <td>1006</td>\n      <td>31</td>\n      <td>11.57</td>\n      <td>5.70</td>\n      <td>246</td>\n      <td>6.25</td>\n      <td>[{'id': 502, 'main': 'Rain', 'description': 'h...</td>\n      <td>7</td>\n      <td>1.0</td>\n      <td>8.06</td>\n      <td>17.43</td>\n    </tr>\n    <tr>\n      <th>5</th>\n      <td>1724752800</td>\n      <td>1724729388</td>\n      <td>1724776853</td>\n      <td>0</td>\n      <td>1724761500</td>\n      <td>0.78</td>\n      <td>Expect a day of partly cloudy with rain</td>\n      <td>{'day': 29.72, 'min': 21.2, 'max': 32.46, 'nig...</td>\n      <td>{'day': 29.27, 'night': 24.21, 'eve': 24.83, '...</td>\n      <td>1008</td>\n      <td>39</td>\n      <td>12.72</td>\n      <td>3.71</td>\n      <td>165</td>\n      <td>4.13</td>\n      <td>[{'id': 500, 'main': 'Rain', 'description': 'l...</td>\n      <td>5</td>\n      <td>1.0</td>\n      <td>9.00</td>\n      <td>1.26</td>\n    </tr>\n    <tr>\n      <th>6</th>\n      <td>1724839200</td>\n      <td>1724815839</td>\n      <td>1724863167</td>\n      <td>1724794260</td>\n      <td>1724851500</td>\n      <td>0.82</td>\n      <td>You can expect clear sky in the morning, with ...</td>\n      <td>{'day': 29.71, 'min': 21.44, 'max': 32.26, 'ni...</td>\n      <td>{'day': 29.26, 'night': 26.93, 'eve': 30.02, '...</td>\n      <td>1011</td>\n      <td>39</td>\n      <td>12.41</td>\n      <td>3.70</td>\n      <td>321</td>\n      <td>3.25</td>\n      <td>[{'id': 800, 'main': 'Clear', 'description': '...</td>\n      <td>1</td>\n      <td>0.0</td>\n      <td>9.00</td>\n      <td>NaN</td>\n    </tr>\n    <tr>\n      <th>7</th>\n      <td>1724925600</td>\n      <td>1724902290</td>\n      <td>1724949480</td>\n      <td>1724884140</td>\n      <td>1724941020</td>\n      <td>0.85</td>\n      <td>Expect a day of partly cloudy with rain</td>\n      <td>{'day': 29.92, 'min': 21.92, 'max': 32.88, 'ni...</td>\n      <td>{'day': 29.49, 'night': 27.67, 'eve': 31.33, '...</td>\n      <td>1011</td>\n      <td>39</td>\n      <td>12.87</td>\n      <td>3.17</td>\n      <td>353</td>\n      <td>2.78</td>\n      <td>[{'id': 500, 'main': 'Rain', 'description': 'l...</td>\n      <td>2</td>\n      <td>0.2</td>\n      <td>9.00</td>\n      <td>0.12</td>\n    </tr>\n  </tbody>\n</table>\n</div>"
     },
     "execution_count": 38,
     "metadata": {},
     "output_type": "execute_result"
    }
   ],
   "source": [
    "pd.DataFrame(data['daily'])"
   ],
   "metadata": {
    "collapsed": false,
    "ExecuteTime": {
     "end_time": "2024-08-22T16:50:34.946637Z",
     "start_time": "2024-08-22T16:50:34.909154Z"
    }
   },
   "id": "47071179e6cc4758",
   "execution_count": 38
  },
  {
   "cell_type": "markdown",
   "source": [
    "# Upload to influxDB"
   ],
   "metadata": {
    "collapsed": false
   },
   "id": "61467ddee9178ad"
  },
  {
   "cell_type": "code",
   "outputs": [],
   "source": [
    "#TODO"
   ],
   "metadata": {
    "collapsed": false,
    "ExecuteTime": {
     "end_time": "2024-08-22T17:44:06.632688Z",
     "start_time": "2024-08-22T17:44:06.628670Z"
    }
   },
   "id": "7d30b943d756f3a",
   "execution_count": 44
  },
  {
   "cell_type": "code",
   "outputs": [],
   "source": [
    "export INFLUXDB_TOKEN=A1VtmcwEllTbfPTCk2Qs0ZLXi4FxmYOgG5bZ6hXTsBdop24595FV7Ih9gutr4GLkNPYE46_F2Id2r2CRcjhGuQ=="
   ],
   "metadata": {
    "collapsed": false
   },
   "id": "ffeda42a3968e6ac"
  },
  {
   "cell_type": "code",
   "outputs": [],
   "source": [
    "import os, time\n",
    "from influxdb_client_3 import InfluxDBClient3, Point\n",
    "\n",
    "token = os.environ.get(\"INFLUXDB_TOKEN\")\n",
    "org = \"Team\"\n",
    "host = \"https://eu-central-1-1.aws.cloud2.influxdata.com\"\n",
    "\n",
    "client = InfluxDBClient3(host=host, token=token, org=org)"
   ],
   "metadata": {
    "collapsed": false,
    "ExecuteTime": {
     "end_time": "2024-08-22T17:29:48.114739Z",
     "start_time": "2024-08-22T17:29:47.543843Z"
    }
   },
   "id": "6075fd181225e5d5",
   "execution_count": 39
  },
  {
   "cell_type": "code",
   "outputs": [
    {
     "ename": "ApiException",
     "evalue": "(401)\nReason: Unauthorized\nHTTP response headers: HTTPHeaderDict({'Date': 'Thu, 22 Aug 2024 17:32:31 GMT', 'Content-Type': 'application/json; charset=utf-8', 'Content-Length': '55', 'Connection': 'keep-alive', 'trace-id': '9fd6696646780bd8', 'trace-sampled': 'false', 'x-platform-error-code': 'unauthorized', 'Strict-Transport-Security': 'max-age=31536000; includeSubDomains', 'X-Influxdb-Request-ID': '0f539c0211be3145dcecd861eaee3481', 'X-Influxdb-Build': 'Cloud'})\nHTTP response body: {\"code\":\"unauthorized\",\"message\":\"unauthorized access\"}\n",
     "output_type": "error",
     "traceback": [
      "\u001B[1;31m---------------------------------------------------------------------------\u001B[0m",
      "\u001B[1;31mApiException\u001B[0m                              Traceback (most recent call last)",
      "Cell \u001B[1;32mIn[43], line 42\u001B[0m\n\u001B[0;32m     36\u001B[0m \u001B[38;5;28;01mfor\u001B[39;00m key \u001B[38;5;129;01min\u001B[39;00m data:\n\u001B[0;32m     37\u001B[0m   point \u001B[38;5;241m=\u001B[39m (\n\u001B[0;32m     38\u001B[0m     Point(\u001B[38;5;124m\"\u001B[39m\u001B[38;5;124mcensus\u001B[39m\u001B[38;5;124m\"\u001B[39m)\n\u001B[0;32m     39\u001B[0m     \u001B[38;5;241m.\u001B[39mtag(\u001B[38;5;124m\"\u001B[39m\u001B[38;5;124mlocation\u001B[39m\u001B[38;5;124m\"\u001B[39m, data[key][\u001B[38;5;124m\"\u001B[39m\u001B[38;5;124mlocation\u001B[39m\u001B[38;5;124m\"\u001B[39m])\n\u001B[0;32m     40\u001B[0m     \u001B[38;5;241m.\u001B[39mfield(data[key][\u001B[38;5;124m\"\u001B[39m\u001B[38;5;124mspecies\u001B[39m\u001B[38;5;124m\"\u001B[39m], data[key][\u001B[38;5;124m\"\u001B[39m\u001B[38;5;124mcount\u001B[39m\u001B[38;5;124m\"\u001B[39m])\n\u001B[0;32m     41\u001B[0m   )\n\u001B[1;32m---> 42\u001B[0m   \u001B[43mclient\u001B[49m\u001B[38;5;241;43m.\u001B[39;49m\u001B[43mwrite\u001B[49m\u001B[43m(\u001B[49m\u001B[43mdatabase\u001B[49m\u001B[38;5;241;43m=\u001B[39;49m\u001B[43mdatabase\u001B[49m\u001B[43m,\u001B[49m\u001B[43m \u001B[49m\u001B[43mrecord\u001B[49m\u001B[38;5;241;43m=\u001B[39;49m\u001B[43mpoint\u001B[49m\u001B[43m)\u001B[49m\n\u001B[0;32m     43\u001B[0m   time\u001B[38;5;241m.\u001B[39msleep(\u001B[38;5;241m1\u001B[39m) \u001B[38;5;66;03m# separate points by 1 second\u001B[39;00m\n\u001B[0;32m     45\u001B[0m \u001B[38;5;28mprint\u001B[39m(\u001B[38;5;124m\"\u001B[39m\u001B[38;5;124mComplete. Return to the InfluxDB UI.\u001B[39m\u001B[38;5;124m\"\u001B[39m)\n",
      "File \u001B[1;32mC:\\MFi\\weather-app\\venv\\Lib\\site-packages\\influxdb_client_3\\__init__.py:187\u001B[0m, in \u001B[0;36mInfluxDBClient3.write\u001B[1;34m(self, record, database, **kwargs)\u001B[0m\n\u001B[0;32m    185\u001B[0m     \u001B[38;5;28mself\u001B[39m\u001B[38;5;241m.\u001B[39m_write_api\u001B[38;5;241m.\u001B[39mwrite(bucket\u001B[38;5;241m=\u001B[39mdatabase, record\u001B[38;5;241m=\u001B[39mrecord, \u001B[38;5;241m*\u001B[39m\u001B[38;5;241m*\u001B[39mkwargs)\n\u001B[0;32m    186\u001B[0m \u001B[38;5;28;01mexcept\u001B[39;00m InfluxDBError \u001B[38;5;28;01mas\u001B[39;00m e:\n\u001B[1;32m--> 187\u001B[0m     \u001B[38;5;28;01mraise\u001B[39;00m e\n",
      "File \u001B[1;32mC:\\MFi\\weather-app\\venv\\Lib\\site-packages\\influxdb_client_3\\__init__.py:185\u001B[0m, in \u001B[0;36mInfluxDBClient3.write\u001B[1;34m(self, record, database, **kwargs)\u001B[0m\n\u001B[0;32m    182\u001B[0m     database \u001B[38;5;241m=\u001B[39m \u001B[38;5;28mself\u001B[39m\u001B[38;5;241m.\u001B[39m_database\n\u001B[0;32m    184\u001B[0m \u001B[38;5;28;01mtry\u001B[39;00m:\n\u001B[1;32m--> 185\u001B[0m     \u001B[38;5;28;43mself\u001B[39;49m\u001B[38;5;241;43m.\u001B[39;49m\u001B[43m_write_api\u001B[49m\u001B[38;5;241;43m.\u001B[39;49m\u001B[43mwrite\u001B[49m\u001B[43m(\u001B[49m\u001B[43mbucket\u001B[49m\u001B[38;5;241;43m=\u001B[39;49m\u001B[43mdatabase\u001B[49m\u001B[43m,\u001B[49m\u001B[43m \u001B[49m\u001B[43mrecord\u001B[49m\u001B[38;5;241;43m=\u001B[39;49m\u001B[43mrecord\u001B[49m\u001B[43m,\u001B[49m\u001B[43m \u001B[49m\u001B[38;5;241;43m*\u001B[39;49m\u001B[38;5;241;43m*\u001B[39;49m\u001B[43mkwargs\u001B[49m\u001B[43m)\u001B[49m\n\u001B[0;32m    186\u001B[0m \u001B[38;5;28;01mexcept\u001B[39;00m InfluxDBError \u001B[38;5;28;01mas\u001B[39;00m e:\n\u001B[0;32m    187\u001B[0m     \u001B[38;5;28;01mraise\u001B[39;00m e\n",
      "File \u001B[1;32mC:\\MFi\\weather-app\\venv\\Lib\\site-packages\\influxdb_client_3\\write_client\\client\\write_api.py:377\u001B[0m, in \u001B[0;36mWriteApi.write\u001B[1;34m(self, bucket, org, record, write_precision, **kwargs)\u001B[0m\n\u001B[0;32m    374\u001B[0m     final_string \u001B[38;5;241m=\u001B[39m \u001B[38;5;124mb\u001B[39m\u001B[38;5;124m'\u001B[39m\u001B[38;5;130;01m\\n\u001B[39;00m\u001B[38;5;124m'\u001B[39m\u001B[38;5;241m.\u001B[39mjoin(payload[\u001B[38;5;241m1\u001B[39m])\n\u001B[0;32m    375\u001B[0m     \u001B[38;5;28;01mreturn\u001B[39;00m \u001B[38;5;28mself\u001B[39m\u001B[38;5;241m.\u001B[39m_post_write(_async_req, bucket, org, final_string, payload[\u001B[38;5;241m0\u001B[39m])\n\u001B[1;32m--> 377\u001B[0m results \u001B[38;5;241m=\u001B[39m \u001B[38;5;28;43mlist\u001B[39;49m\u001B[43m(\u001B[49m\u001B[38;5;28;43mmap\u001B[39;49m\u001B[43m(\u001B[49m\u001B[43mwrite_payload\u001B[49m\u001B[43m,\u001B[49m\u001B[43m \u001B[49m\u001B[43mpayloads\u001B[49m\u001B[38;5;241;43m.\u001B[39;49m\u001B[43mitems\u001B[49m\u001B[43m(\u001B[49m\u001B[43m)\u001B[49m\u001B[43m)\u001B[49m\u001B[43m)\u001B[49m\n\u001B[0;32m    378\u001B[0m \u001B[38;5;28;01mif\u001B[39;00m \u001B[38;5;129;01mnot\u001B[39;00m _async_req:\n\u001B[0;32m    379\u001B[0m     \u001B[38;5;28;01mreturn\u001B[39;00m \u001B[38;5;28;01mNone\u001B[39;00m\n",
      "File \u001B[1;32mC:\\MFi\\weather-app\\venv\\Lib\\site-packages\\influxdb_client_3\\write_client\\client\\write_api.py:375\u001B[0m, in \u001B[0;36mWriteApi.write.<locals>.write_payload\u001B[1;34m(payload)\u001B[0m\n\u001B[0;32m    373\u001B[0m \u001B[38;5;28;01mdef\u001B[39;00m \u001B[38;5;21mwrite_payload\u001B[39m(payload):\n\u001B[0;32m    374\u001B[0m     final_string \u001B[38;5;241m=\u001B[39m \u001B[38;5;124mb\u001B[39m\u001B[38;5;124m'\u001B[39m\u001B[38;5;130;01m\\n\u001B[39;00m\u001B[38;5;124m'\u001B[39m\u001B[38;5;241m.\u001B[39mjoin(payload[\u001B[38;5;241m1\u001B[39m])\n\u001B[1;32m--> 375\u001B[0m     \u001B[38;5;28;01mreturn\u001B[39;00m \u001B[38;5;28;43mself\u001B[39;49m\u001B[38;5;241;43m.\u001B[39;49m\u001B[43m_post_write\u001B[49m\u001B[43m(\u001B[49m\u001B[43m_async_req\u001B[49m\u001B[43m,\u001B[49m\u001B[43m \u001B[49m\u001B[43mbucket\u001B[49m\u001B[43m,\u001B[49m\u001B[43m \u001B[49m\u001B[43morg\u001B[49m\u001B[43m,\u001B[49m\u001B[43m \u001B[49m\u001B[43mfinal_string\u001B[49m\u001B[43m,\u001B[49m\u001B[43m \u001B[49m\u001B[43mpayload\u001B[49m\u001B[43m[\u001B[49m\u001B[38;5;241;43m0\u001B[39;49m\u001B[43m]\u001B[49m\u001B[43m)\u001B[49m\n",
      "File \u001B[1;32mC:\\MFi\\weather-app\\venv\\Lib\\site-packages\\influxdb_client_3\\write_client\\client\\write_api.py:519\u001B[0m, in \u001B[0;36mWriteApi._post_write\u001B[1;34m(self, _async_req, bucket, org, body, precision, **kwargs)\u001B[0m\n\u001B[0;32m    517\u001B[0m \u001B[38;5;28;01mdef\u001B[39;00m \u001B[38;5;21m_post_write\u001B[39m(\u001B[38;5;28mself\u001B[39m, _async_req, bucket, org, body, precision, \u001B[38;5;241m*\u001B[39m\u001B[38;5;241m*\u001B[39mkwargs):\n\u001B[1;32m--> 519\u001B[0m     \u001B[38;5;28;01mreturn\u001B[39;00m \u001B[38;5;28;43mself\u001B[39;49m\u001B[38;5;241;43m.\u001B[39;49m\u001B[43m_write_service\u001B[49m\u001B[38;5;241;43m.\u001B[39;49m\u001B[43mpost_write\u001B[49m\u001B[43m(\u001B[49m\u001B[43morg\u001B[49m\u001B[38;5;241;43m=\u001B[39;49m\u001B[43morg\u001B[49m\u001B[43m,\u001B[49m\u001B[43m \u001B[49m\u001B[43mbucket\u001B[49m\u001B[38;5;241;43m=\u001B[39;49m\u001B[43mbucket\u001B[49m\u001B[43m,\u001B[49m\u001B[43m \u001B[49m\u001B[43mbody\u001B[49m\u001B[38;5;241;43m=\u001B[39;49m\u001B[43mbody\u001B[49m\u001B[43m,\u001B[49m\u001B[43m \u001B[49m\u001B[43mprecision\u001B[49m\u001B[38;5;241;43m=\u001B[39;49m\u001B[43mprecision\u001B[49m\u001B[43m,\u001B[49m\n\u001B[0;32m    520\u001B[0m \u001B[43m                                          \u001B[49m\u001B[43masync_req\u001B[49m\u001B[38;5;241;43m=\u001B[39;49m\u001B[43m_async_req\u001B[49m\u001B[43m,\u001B[49m\n\u001B[0;32m    521\u001B[0m \u001B[43m                                          \u001B[49m\u001B[43mcontent_type\u001B[49m\u001B[38;5;241;43m=\u001B[39;49m\u001B[38;5;124;43m\"\u001B[39;49m\u001B[38;5;124;43mtext/plain; charset=utf-8\u001B[39;49m\u001B[38;5;124;43m\"\u001B[39;49m\u001B[43m,\u001B[49m\n\u001B[0;32m    522\u001B[0m \u001B[43m                                          \u001B[49m\u001B[38;5;241;43m*\u001B[39;49m\u001B[38;5;241;43m*\u001B[39;49m\u001B[43mkwargs\u001B[49m\u001B[43m)\u001B[49m\n",
      "File \u001B[1;32mC:\\MFi\\weather-app\\venv\\Lib\\site-packages\\influxdb_client_3\\write_client\\service\\write_service.py:60\u001B[0m, in \u001B[0;36mWriteService.post_write\u001B[1;34m(self, org, bucket, body, **kwargs)\u001B[0m\n\u001B[0;32m     58\u001B[0m     \u001B[38;5;28;01mreturn\u001B[39;00m \u001B[38;5;28mself\u001B[39m\u001B[38;5;241m.\u001B[39mpost_write_with_http_info(org, bucket, body, \u001B[38;5;241m*\u001B[39m\u001B[38;5;241m*\u001B[39mkwargs)  \u001B[38;5;66;03m# noqa: E501\u001B[39;00m\n\u001B[0;32m     59\u001B[0m \u001B[38;5;28;01melse\u001B[39;00m:\n\u001B[1;32m---> 60\u001B[0m     (data) \u001B[38;5;241m=\u001B[39m \u001B[38;5;28;43mself\u001B[39;49m\u001B[38;5;241;43m.\u001B[39;49m\u001B[43mpost_write_with_http_info\u001B[49m\u001B[43m(\u001B[49m\u001B[43morg\u001B[49m\u001B[43m,\u001B[49m\u001B[43m \u001B[49m\u001B[43mbucket\u001B[49m\u001B[43m,\u001B[49m\u001B[43m \u001B[49m\u001B[43mbody\u001B[49m\u001B[43m,\u001B[49m\u001B[43m \u001B[49m\u001B[38;5;241;43m*\u001B[39;49m\u001B[38;5;241;43m*\u001B[39;49m\u001B[43mkwargs\u001B[49m\u001B[43m)\u001B[49m  \u001B[38;5;66;03m# noqa: E501\u001B[39;00m\n\u001B[0;32m     61\u001B[0m     \u001B[38;5;28;01mreturn\u001B[39;00m data\n",
      "File \u001B[1;32mC:\\MFi\\weather-app\\venv\\Lib\\site-packages\\influxdb_client_3\\write_client\\service\\write_service.py:90\u001B[0m, in \u001B[0;36mWriteService.post_write_with_http_info\u001B[1;34m(self, org, bucket, body, **kwargs)\u001B[0m\n\u001B[0;32m     64\u001B[0m \u001B[38;5;250m\u001B[39m\u001B[38;5;124;03m\"\"\"Write data.\u001B[39;00m\n\u001B[0;32m     65\u001B[0m \n\u001B[0;32m     66\u001B[0m \u001B[38;5;124;03mWrites data to a bucket.  Use this endpoint to send data in [line protocol](https://docs.influxdata.com/influxdb/latest/reference/syntax/line-protocol/) format to InfluxDB.  #### InfluxDB Cloud  - Does the following when you send a write request:    1. Validates the request and queues the write.   2. If queued, responds with _success_ (HTTP `2xx` status code); _error_ otherwise.   3. Handles the delete asynchronously and reaches eventual consistency.    To ensure that InfluxDB Cloud handles writes and deletes in the order you request them,   wait for a success response (HTTP `2xx` status code) before you send the next request.    Because writes and deletes are asynchronous, your change might not yet be readable   when you receive the response.  #### InfluxDB OSS  - Validates the request and handles the write synchronously. - If all points were written successfully, responds with HTTP `2xx` status code;   otherwise, returns the first line that failed.  #### Required permissions  - `write-buckets` or `write-bucket BUCKET_ID`.   *`BUCKET_ID`* is the ID of the destination bucket.  #### Rate limits (with InfluxDB Cloud)  `write` rate limits apply. For more information, see [limits and adjustable quotas](https://docs.influxdata.com/influxdb/cloud/account-management/limits/).  #### Related guides  - [Write data with the InfluxDB API](https://docs.influxdata.com/influxdb/latest/write-data/developer-tools/api) - [Optimize writes to InfluxDB](https://docs.influxdata.com/influxdb/latest/write-data/best-practices/optimize-writes/) - [Troubleshoot issues writing data](https://docs.influxdata.com/influxdb/latest/write-data/troubleshoot/)\u001B[39;00m\n\u001B[1;32m   (...)\u001B[0m\n\u001B[0;32m     85\u001B[0m \u001B[38;5;124;03m         returns the request thread.\u001B[39;00m\n\u001B[0;32m     86\u001B[0m \u001B[38;5;124;03m\"\"\"\u001B[39;00m  \u001B[38;5;66;03m# noqa: E501\u001B[39;00m\n\u001B[0;32m     87\u001B[0m local_var_params, path_params, query_params, header_params, body_params \u001B[38;5;241m=\u001B[39m \\\n\u001B[0;32m     88\u001B[0m     \u001B[38;5;28mself\u001B[39m\u001B[38;5;241m.\u001B[39m_post_write_prepare(org, bucket, body, \u001B[38;5;241m*\u001B[39m\u001B[38;5;241m*\u001B[39mkwargs)  \u001B[38;5;66;03m# noqa: E501\u001B[39;00m\n\u001B[1;32m---> 90\u001B[0m \u001B[38;5;28;01mreturn\u001B[39;00m \u001B[38;5;28;43mself\u001B[39;49m\u001B[38;5;241;43m.\u001B[39;49m\u001B[43mapi_client\u001B[49m\u001B[38;5;241;43m.\u001B[39;49m\u001B[43mcall_api\u001B[49m\u001B[43m(\u001B[49m\n\u001B[0;32m     91\u001B[0m \u001B[43m    \u001B[49m\u001B[38;5;124;43m'\u001B[39;49m\u001B[38;5;124;43m/api/v2/write\u001B[39;49m\u001B[38;5;124;43m'\u001B[39;49m\u001B[43m,\u001B[49m\u001B[43m \u001B[49m\u001B[38;5;124;43m'\u001B[39;49m\u001B[38;5;124;43mPOST\u001B[39;49m\u001B[38;5;124;43m'\u001B[39;49m\u001B[43m,\u001B[49m\n\u001B[0;32m     92\u001B[0m \u001B[43m    \u001B[49m\u001B[43mpath_params\u001B[49m\u001B[43m,\u001B[49m\n\u001B[0;32m     93\u001B[0m \u001B[43m    \u001B[49m\u001B[43mquery_params\u001B[49m\u001B[43m,\u001B[49m\n\u001B[0;32m     94\u001B[0m \u001B[43m    \u001B[49m\u001B[43mheader_params\u001B[49m\u001B[43m,\u001B[49m\n\u001B[0;32m     95\u001B[0m \u001B[43m    \u001B[49m\u001B[43mbody\u001B[49m\u001B[38;5;241;43m=\u001B[39;49m\u001B[43mbody_params\u001B[49m\u001B[43m,\u001B[49m\n\u001B[0;32m     96\u001B[0m \u001B[43m    \u001B[49m\u001B[43mpost_params\u001B[49m\u001B[38;5;241;43m=\u001B[39;49m\u001B[43m[\u001B[49m\u001B[43m]\u001B[49m\u001B[43m,\u001B[49m\n\u001B[0;32m     97\u001B[0m \u001B[43m    \u001B[49m\u001B[43mfiles\u001B[49m\u001B[38;5;241;43m=\u001B[39;49m\u001B[43m{\u001B[49m\u001B[43m}\u001B[49m\u001B[43m,\u001B[49m\n\u001B[0;32m     98\u001B[0m \u001B[43m    \u001B[49m\u001B[43mresponse_type\u001B[49m\u001B[38;5;241;43m=\u001B[39;49m\u001B[38;5;28;43;01mNone\u001B[39;49;00m\u001B[43m,\u001B[49m\u001B[43m  \u001B[49m\u001B[38;5;66;43;03m# noqa: E501\u001B[39;49;00m\n\u001B[0;32m     99\u001B[0m \u001B[43m    \u001B[49m\u001B[43mauth_settings\u001B[49m\u001B[38;5;241;43m=\u001B[39;49m\u001B[43m[\u001B[49m\u001B[43m]\u001B[49m\u001B[43m,\u001B[49m\n\u001B[0;32m    100\u001B[0m \u001B[43m    \u001B[49m\u001B[43masync_req\u001B[49m\u001B[38;5;241;43m=\u001B[39;49m\u001B[43mlocal_var_params\u001B[49m\u001B[38;5;241;43m.\u001B[39;49m\u001B[43mget\u001B[49m\u001B[43m(\u001B[49m\u001B[38;5;124;43m'\u001B[39;49m\u001B[38;5;124;43masync_req\u001B[39;49m\u001B[38;5;124;43m'\u001B[39;49m\u001B[43m)\u001B[49m\u001B[43m,\u001B[49m\n\u001B[0;32m    101\u001B[0m \u001B[43m    \u001B[49m\u001B[43m_return_http_data_only\u001B[49m\u001B[38;5;241;43m=\u001B[39;49m\u001B[43mlocal_var_params\u001B[49m\u001B[38;5;241;43m.\u001B[39;49m\u001B[43mget\u001B[49m\u001B[43m(\u001B[49m\u001B[38;5;124;43m'\u001B[39;49m\u001B[38;5;124;43m_return_http_data_only\u001B[39;49m\u001B[38;5;124;43m'\u001B[39;49m\u001B[43m)\u001B[49m\u001B[43m,\u001B[49m\u001B[43m  \u001B[49m\u001B[38;5;66;43;03m# noqa: E501\u001B[39;49;00m\n\u001B[0;32m    102\u001B[0m \u001B[43m    \u001B[49m\u001B[43m_preload_content\u001B[49m\u001B[38;5;241;43m=\u001B[39;49m\u001B[43mlocal_var_params\u001B[49m\u001B[38;5;241;43m.\u001B[39;49m\u001B[43mget\u001B[49m\u001B[43m(\u001B[49m\u001B[38;5;124;43m'\u001B[39;49m\u001B[38;5;124;43m_preload_content\u001B[39;49m\u001B[38;5;124;43m'\u001B[39;49m\u001B[43m,\u001B[49m\u001B[43m \u001B[49m\u001B[38;5;28;43;01mTrue\u001B[39;49;00m\u001B[43m)\u001B[49m\u001B[43m,\u001B[49m\n\u001B[0;32m    103\u001B[0m \u001B[43m    \u001B[49m\u001B[43m_request_timeout\u001B[49m\u001B[38;5;241;43m=\u001B[39;49m\u001B[43mlocal_var_params\u001B[49m\u001B[38;5;241;43m.\u001B[39;49m\u001B[43mget\u001B[49m\u001B[43m(\u001B[49m\u001B[38;5;124;43m'\u001B[39;49m\u001B[38;5;124;43m_request_timeout\u001B[39;49m\u001B[38;5;124;43m'\u001B[39;49m\u001B[43m)\u001B[49m\u001B[43m,\u001B[49m\n\u001B[0;32m    104\u001B[0m \u001B[43m    \u001B[49m\u001B[43mcollection_formats\u001B[49m\u001B[38;5;241;43m=\u001B[39;49m\u001B[43m{\u001B[49m\u001B[43m}\u001B[49m\u001B[43m,\u001B[49m\n\u001B[0;32m    105\u001B[0m \u001B[43m    \u001B[49m\u001B[43murlopen_kw\u001B[49m\u001B[38;5;241;43m=\u001B[39;49m\u001B[43mkwargs\u001B[49m\u001B[38;5;241;43m.\u001B[39;49m\u001B[43mget\u001B[49m\u001B[43m(\u001B[49m\u001B[38;5;124;43m'\u001B[39;49m\u001B[38;5;124;43murlopen_kw\u001B[39;49m\u001B[38;5;124;43m'\u001B[39;49m\u001B[43m,\u001B[49m\u001B[43m \u001B[49m\u001B[38;5;28;43;01mNone\u001B[39;49;00m\u001B[43m)\u001B[49m\u001B[43m)\u001B[49m\n",
      "File \u001B[1;32mC:\\MFi\\weather-app\\venv\\Lib\\site-packages\\influxdb_client_3\\write_client\\_sync\\api_client.py:343\u001B[0m, in \u001B[0;36mApiClient.call_api\u001B[1;34m(self, resource_path, method, path_params, query_params, header_params, body, post_params, files, response_type, auth_settings, async_req, _return_http_data_only, collection_formats, _preload_content, _request_timeout, urlopen_kw)\u001B[0m\n\u001B[0;32m    304\u001B[0m \u001B[38;5;250m\u001B[39m\u001B[38;5;124;03m\"\"\"Make the HTTP request (synchronous) and Return deserialized data.\u001B[39;00m\n\u001B[0;32m    305\u001B[0m \n\u001B[0;32m    306\u001B[0m \u001B[38;5;124;03mTo make an async_req request, set the async_req parameter.\u001B[39;00m\n\u001B[1;32m   (...)\u001B[0m\n\u001B[0;32m    340\u001B[0m \u001B[38;5;124;03m    then the method will return the response directly.\u001B[39;00m\n\u001B[0;32m    341\u001B[0m \u001B[38;5;124;03m\"\"\"\u001B[39;00m\n\u001B[0;32m    342\u001B[0m \u001B[38;5;28;01mif\u001B[39;00m \u001B[38;5;129;01mnot\u001B[39;00m async_req:\n\u001B[1;32m--> 343\u001B[0m     \u001B[38;5;28;01mreturn\u001B[39;00m \u001B[38;5;28;43mself\u001B[39;49m\u001B[38;5;241;43m.\u001B[39;49m\u001B[43m__call_api\u001B[49m\u001B[43m(\u001B[49m\u001B[43mresource_path\u001B[49m\u001B[43m,\u001B[49m\u001B[43m \u001B[49m\u001B[43mmethod\u001B[49m\u001B[43m,\u001B[49m\n\u001B[0;32m    344\u001B[0m \u001B[43m                           \u001B[49m\u001B[43mpath_params\u001B[49m\u001B[43m,\u001B[49m\u001B[43m \u001B[49m\u001B[43mquery_params\u001B[49m\u001B[43m,\u001B[49m\u001B[43m \u001B[49m\u001B[43mheader_params\u001B[49m\u001B[43m,\u001B[49m\n\u001B[0;32m    345\u001B[0m \u001B[43m                           \u001B[49m\u001B[43mbody\u001B[49m\u001B[43m,\u001B[49m\u001B[43m \u001B[49m\u001B[43mpost_params\u001B[49m\u001B[43m,\u001B[49m\u001B[43m \u001B[49m\u001B[43mfiles\u001B[49m\u001B[43m,\u001B[49m\n\u001B[0;32m    346\u001B[0m \u001B[43m                           \u001B[49m\u001B[43mresponse_type\u001B[49m\u001B[43m,\u001B[49m\u001B[43m \u001B[49m\u001B[43mauth_settings\u001B[49m\u001B[43m,\u001B[49m\n\u001B[0;32m    347\u001B[0m \u001B[43m                           \u001B[49m\u001B[43m_return_http_data_only\u001B[49m\u001B[43m,\u001B[49m\u001B[43m \u001B[49m\u001B[43mcollection_formats\u001B[49m\u001B[43m,\u001B[49m\n\u001B[0;32m    348\u001B[0m \u001B[43m                           \u001B[49m\u001B[43m_preload_content\u001B[49m\u001B[43m,\u001B[49m\u001B[43m \u001B[49m\u001B[43m_request_timeout\u001B[49m\u001B[43m,\u001B[49m\u001B[43m \u001B[49m\u001B[43murlopen_kw\u001B[49m\u001B[43m)\u001B[49m\n\u001B[0;32m    349\u001B[0m \u001B[38;5;28;01melse\u001B[39;00m:\n\u001B[0;32m    350\u001B[0m     thread \u001B[38;5;241m=\u001B[39m \u001B[38;5;28mself\u001B[39m\u001B[38;5;241m.\u001B[39mpool\u001B[38;5;241m.\u001B[39mapply_async(\u001B[38;5;28mself\u001B[39m\u001B[38;5;241m.\u001B[39m__call_api, (resource_path,\n\u001B[0;32m    351\u001B[0m                                                      method, path_params, query_params,\n\u001B[0;32m    352\u001B[0m                                                      header_params, body,\n\u001B[1;32m   (...)\u001B[0m\n\u001B[0;32m    356\u001B[0m                                                      collection_formats,\n\u001B[0;32m    357\u001B[0m                                                      _preload_content, _request_timeout, urlopen_kw))\n",
      "File \u001B[1;32mC:\\MFi\\weather-app\\venv\\Lib\\site-packages\\influxdb_client_3\\write_client\\_sync\\api_client.py:173\u001B[0m, in \u001B[0;36mApiClient.__call_api\u001B[1;34m(self, resource_path, method, path_params, query_params, header_params, body, post_params, files, response_type, auth_settings, _return_http_data_only, collection_formats, _preload_content, _request_timeout, urlopen_kw)\u001B[0m\n\u001B[0;32m    170\u001B[0m urlopen_kw \u001B[38;5;241m=\u001B[39m urlopen_kw \u001B[38;5;129;01mor\u001B[39;00m {}\n\u001B[0;32m    172\u001B[0m \u001B[38;5;66;03m# perform request and return response\u001B[39;00m\n\u001B[1;32m--> 173\u001B[0m response_data \u001B[38;5;241m=\u001B[39m \u001B[38;5;28;43mself\u001B[39;49m\u001B[38;5;241;43m.\u001B[39;49m\u001B[43mrequest\u001B[49m\u001B[43m(\u001B[49m\n\u001B[0;32m    174\u001B[0m \u001B[43m    \u001B[49m\u001B[43mmethod\u001B[49m\u001B[43m,\u001B[49m\u001B[43m \u001B[49m\u001B[43murl\u001B[49m\u001B[43m,\u001B[49m\u001B[43m \u001B[49m\u001B[43mquery_params\u001B[49m\u001B[38;5;241;43m=\u001B[39;49m\u001B[43mquery_params\u001B[49m\u001B[43m,\u001B[49m\u001B[43m \u001B[49m\u001B[43mheaders\u001B[49m\u001B[38;5;241;43m=\u001B[39;49m\u001B[43mheader_params\u001B[49m\u001B[43m,\u001B[49m\n\u001B[0;32m    175\u001B[0m \u001B[43m    \u001B[49m\u001B[43mpost_params\u001B[49m\u001B[38;5;241;43m=\u001B[39;49m\u001B[43mpost_params\u001B[49m\u001B[43m,\u001B[49m\u001B[43m \u001B[49m\u001B[43mbody\u001B[49m\u001B[38;5;241;43m=\u001B[39;49m\u001B[43mbody\u001B[49m\u001B[43m,\u001B[49m\n\u001B[0;32m    176\u001B[0m \u001B[43m    \u001B[49m\u001B[43m_preload_content\u001B[49m\u001B[38;5;241;43m=\u001B[39;49m\u001B[43m_preload_content\u001B[49m\u001B[43m,\u001B[49m\n\u001B[0;32m    177\u001B[0m \u001B[43m    \u001B[49m\u001B[43m_request_timeout\u001B[49m\u001B[38;5;241;43m=\u001B[39;49m\u001B[43m_request_timeout\u001B[49m\u001B[43m,\u001B[49m\u001B[43m \u001B[49m\u001B[38;5;241;43m*\u001B[39;49m\u001B[38;5;241;43m*\u001B[39;49m\u001B[43murlopen_kw\u001B[49m\u001B[43m)\u001B[49m\n\u001B[0;32m    179\u001B[0m \u001B[38;5;28mself\u001B[39m\u001B[38;5;241m.\u001B[39mlast_response \u001B[38;5;241m=\u001B[39m response_data\n\u001B[0;32m    181\u001B[0m return_data \u001B[38;5;241m=\u001B[39m response_data\n",
      "File \u001B[1;32mC:\\MFi\\weather-app\\venv\\Lib\\site-packages\\influxdb_client_3\\write_client\\_sync\\api_client.py:388\u001B[0m, in \u001B[0;36mApiClient.request\u001B[1;34m(self, method, url, query_params, headers, post_params, body, _preload_content, _request_timeout, **urlopen_kw)\u001B[0m\n\u001B[0;32m    379\u001B[0m     \u001B[38;5;28;01mreturn\u001B[39;00m \u001B[38;5;28mself\u001B[39m\u001B[38;5;241m.\u001B[39mrest_client\u001B[38;5;241m.\u001B[39mOPTIONS(url,\n\u001B[0;32m    380\u001B[0m                                     query_params\u001B[38;5;241m=\u001B[39mquery_params,\n\u001B[0;32m    381\u001B[0m                                     headers\u001B[38;5;241m=\u001B[39mheaders,\n\u001B[1;32m   (...)\u001B[0m\n\u001B[0;32m    385\u001B[0m                                     body\u001B[38;5;241m=\u001B[39mbody,\n\u001B[0;32m    386\u001B[0m                                     \u001B[38;5;241m*\u001B[39m\u001B[38;5;241m*\u001B[39murlopen_kw)\n\u001B[0;32m    387\u001B[0m \u001B[38;5;28;01melif\u001B[39;00m method \u001B[38;5;241m==\u001B[39m \u001B[38;5;124m\"\u001B[39m\u001B[38;5;124mPOST\u001B[39m\u001B[38;5;124m\"\u001B[39m:\n\u001B[1;32m--> 388\u001B[0m     \u001B[38;5;28;01mreturn\u001B[39;00m \u001B[38;5;28;43mself\u001B[39;49m\u001B[38;5;241;43m.\u001B[39;49m\u001B[43mrest_client\u001B[49m\u001B[38;5;241;43m.\u001B[39;49m\u001B[43mPOST\u001B[49m\u001B[43m(\u001B[49m\u001B[43murl\u001B[49m\u001B[43m,\u001B[49m\n\u001B[0;32m    389\u001B[0m \u001B[43m                                 \u001B[49m\u001B[43mquery_params\u001B[49m\u001B[38;5;241;43m=\u001B[39;49m\u001B[43mquery_params\u001B[49m\u001B[43m,\u001B[49m\n\u001B[0;32m    390\u001B[0m \u001B[43m                                 \u001B[49m\u001B[43mheaders\u001B[49m\u001B[38;5;241;43m=\u001B[39;49m\u001B[43mheaders\u001B[49m\u001B[43m,\u001B[49m\n\u001B[0;32m    391\u001B[0m \u001B[43m                                 \u001B[49m\u001B[43mpost_params\u001B[49m\u001B[38;5;241;43m=\u001B[39;49m\u001B[43mpost_params\u001B[49m\u001B[43m,\u001B[49m\n\u001B[0;32m    392\u001B[0m \u001B[43m                                 \u001B[49m\u001B[43m_preload_content\u001B[49m\u001B[38;5;241;43m=\u001B[39;49m\u001B[43m_preload_content\u001B[49m\u001B[43m,\u001B[49m\n\u001B[0;32m    393\u001B[0m \u001B[43m                                 \u001B[49m\u001B[43m_request_timeout\u001B[49m\u001B[38;5;241;43m=\u001B[39;49m\u001B[43m_request_timeout\u001B[49m\u001B[43m,\u001B[49m\n\u001B[0;32m    394\u001B[0m \u001B[43m                                 \u001B[49m\u001B[43mbody\u001B[49m\u001B[38;5;241;43m=\u001B[39;49m\u001B[43mbody\u001B[49m\u001B[43m,\u001B[49m\n\u001B[0;32m    395\u001B[0m \u001B[43m                                 \u001B[49m\u001B[38;5;241;43m*\u001B[39;49m\u001B[38;5;241;43m*\u001B[39;49m\u001B[43murlopen_kw\u001B[49m\u001B[43m)\u001B[49m\n\u001B[0;32m    396\u001B[0m \u001B[38;5;28;01melif\u001B[39;00m method \u001B[38;5;241m==\u001B[39m \u001B[38;5;124m\"\u001B[39m\u001B[38;5;124mPUT\u001B[39m\u001B[38;5;124m\"\u001B[39m:\n\u001B[0;32m    397\u001B[0m     \u001B[38;5;28;01mreturn\u001B[39;00m \u001B[38;5;28mself\u001B[39m\u001B[38;5;241m.\u001B[39mrest_client\u001B[38;5;241m.\u001B[39mPUT(url,\n\u001B[0;32m    398\u001B[0m                                 query_params\u001B[38;5;241m=\u001B[39mquery_params,\n\u001B[0;32m    399\u001B[0m                                 headers\u001B[38;5;241m=\u001B[39mheaders,\n\u001B[1;32m   (...)\u001B[0m\n\u001B[0;32m    403\u001B[0m                                 body\u001B[38;5;241m=\u001B[39mbody,\n\u001B[0;32m    404\u001B[0m                                 \u001B[38;5;241m*\u001B[39m\u001B[38;5;241m*\u001B[39murlopen_kw)\n",
      "File \u001B[1;32mC:\\MFi\\weather-app\\venv\\Lib\\site-packages\\influxdb_client_3\\write_client\\_sync\\rest.py:311\u001B[0m, in \u001B[0;36mRESTClientObject.POST\u001B[1;34m(self, url, headers, query_params, post_params, body, _preload_content, _request_timeout, **urlopen_kw)\u001B[0m\n\u001B[0;32m    308\u001B[0m \u001B[38;5;28;01mdef\u001B[39;00m \u001B[38;5;21mPOST\u001B[39m(\u001B[38;5;28mself\u001B[39m, url, headers\u001B[38;5;241m=\u001B[39m\u001B[38;5;28;01mNone\u001B[39;00m, query_params\u001B[38;5;241m=\u001B[39m\u001B[38;5;28;01mNone\u001B[39;00m, post_params\u001B[38;5;241m=\u001B[39m\u001B[38;5;28;01mNone\u001B[39;00m,\n\u001B[0;32m    309\u001B[0m          body\u001B[38;5;241m=\u001B[39m\u001B[38;5;28;01mNone\u001B[39;00m, _preload_content\u001B[38;5;241m=\u001B[39m\u001B[38;5;28;01mTrue\u001B[39;00m, _request_timeout\u001B[38;5;241m=\u001B[39m\u001B[38;5;28;01mNone\u001B[39;00m, \u001B[38;5;241m*\u001B[39m\u001B[38;5;241m*\u001B[39murlopen_kw):\n\u001B[0;32m    310\u001B[0m \u001B[38;5;250m    \u001B[39m\u001B[38;5;124;03m\"\"\"Perform POST HTTP request.\"\"\"\u001B[39;00m\n\u001B[1;32m--> 311\u001B[0m     \u001B[38;5;28;01mreturn\u001B[39;00m \u001B[38;5;28;43mself\u001B[39;49m\u001B[38;5;241;43m.\u001B[39;49m\u001B[43mrequest\u001B[49m\u001B[43m(\u001B[49m\u001B[38;5;124;43m\"\u001B[39;49m\u001B[38;5;124;43mPOST\u001B[39;49m\u001B[38;5;124;43m\"\u001B[39;49m\u001B[43m,\u001B[49m\u001B[43m \u001B[49m\u001B[43murl\u001B[49m\u001B[43m,\u001B[49m\n\u001B[0;32m    312\u001B[0m \u001B[43m                        \u001B[49m\u001B[43mheaders\u001B[49m\u001B[38;5;241;43m=\u001B[39;49m\u001B[43mheaders\u001B[49m\u001B[43m,\u001B[49m\n\u001B[0;32m    313\u001B[0m \u001B[43m                        \u001B[49m\u001B[43mquery_params\u001B[49m\u001B[38;5;241;43m=\u001B[39;49m\u001B[43mquery_params\u001B[49m\u001B[43m,\u001B[49m\n\u001B[0;32m    314\u001B[0m \u001B[43m                        \u001B[49m\u001B[43mpost_params\u001B[49m\u001B[38;5;241;43m=\u001B[39;49m\u001B[43mpost_params\u001B[49m\u001B[43m,\u001B[49m\n\u001B[0;32m    315\u001B[0m \u001B[43m                        \u001B[49m\u001B[43m_preload_content\u001B[49m\u001B[38;5;241;43m=\u001B[39;49m\u001B[43m_preload_content\u001B[49m\u001B[43m,\u001B[49m\n\u001B[0;32m    316\u001B[0m \u001B[43m                        \u001B[49m\u001B[43m_request_timeout\u001B[49m\u001B[38;5;241;43m=\u001B[39;49m\u001B[43m_request_timeout\u001B[49m\u001B[43m,\u001B[49m\n\u001B[0;32m    317\u001B[0m \u001B[43m                        \u001B[49m\u001B[43mbody\u001B[49m\u001B[38;5;241;43m=\u001B[39;49m\u001B[43mbody\u001B[49m\u001B[43m,\u001B[49m\n\u001B[0;32m    318\u001B[0m \u001B[43m                        \u001B[49m\u001B[38;5;241;43m*\u001B[39;49m\u001B[38;5;241;43m*\u001B[39;49m\u001B[43murlopen_kw\u001B[49m\u001B[43m)\u001B[49m\n",
      "File \u001B[1;32mC:\\MFi\\weather-app\\venv\\Lib\\site-packages\\influxdb_client_3\\write_client\\_sync\\rest.py:261\u001B[0m, in \u001B[0;36mRESTClientObject.request\u001B[1;34m(self, method, url, query_params, headers, body, post_params, _preload_content, _request_timeout, **urlopen_kw)\u001B[0m\n\u001B[0;32m    258\u001B[0m     _BaseRESTClient\u001B[38;5;241m.\u001B[39mlog_body(r\u001B[38;5;241m.\u001B[39mdata, \u001B[38;5;124m'\u001B[39m\u001B[38;5;124m<<<\u001B[39m\u001B[38;5;124m'\u001B[39m)\n\u001B[0;32m    260\u001B[0m \u001B[38;5;28;01mif\u001B[39;00m \u001B[38;5;129;01mnot\u001B[39;00m \u001B[38;5;241m200\u001B[39m \u001B[38;5;241m<\u001B[39m\u001B[38;5;241m=\u001B[39m r\u001B[38;5;241m.\u001B[39mstatus \u001B[38;5;241m<\u001B[39m\u001B[38;5;241m=\u001B[39m \u001B[38;5;241m299\u001B[39m:\n\u001B[1;32m--> 261\u001B[0m     \u001B[38;5;28;01mraise\u001B[39;00m ApiException(http_resp\u001B[38;5;241m=\u001B[39mr)\n\u001B[0;32m    263\u001B[0m \u001B[38;5;28;01mreturn\u001B[39;00m r\n",
      "\u001B[1;31mApiException\u001B[0m: (401)\nReason: Unauthorized\nHTTP response headers: HTTPHeaderDict({'Date': 'Thu, 22 Aug 2024 17:32:31 GMT', 'Content-Type': 'application/json; charset=utf-8', 'Content-Length': '55', 'Connection': 'keep-alive', 'trace-id': '9fd6696646780bd8', 'trace-sampled': 'false', 'x-platform-error-code': 'unauthorized', 'Strict-Transport-Security': 'max-age=31536000; includeSubDomains', 'X-Influxdb-Request-ID': '0f539c0211be3145dcecd861eaee3481', 'X-Influxdb-Build': 'Cloud'})\nHTTP response body: {\"code\":\"unauthorized\",\"message\":\"unauthorized access\"}\n"
     ]
    }
   ],
   "source": [
    "database=\"Test\"\n",
    "\n",
    "data = {\n",
    "  \"point1\": {\n",
    "    \"location\": \"Klamath\",\n",
    "    \"species\": \"bees\",\n",
    "    \"count\": 23,\n",
    "  },\n",
    "  \"point2\": {\n",
    "    \"location\": \"Portland\",\n",
    "    \"species\": \"ants\",\n",
    "    \"count\": 30,\n",
    "  },\n",
    "  \"point3\": {\n",
    "    \"location\": \"Klamath\",\n",
    "    \"species\": \"bees\",\n",
    "    \"count\": 28,\n",
    "  },\n",
    "  \"point4\": {\n",
    "    \"location\": \"Portland\",\n",
    "    \"species\": \"ants\",\n",
    "    \"count\": 32,\n",
    "  },\n",
    "  \"point5\": {\n",
    "    \"location\": \"Klamath\",\n",
    "    \"species\": \"bees\",\n",
    "    \"count\": 29,\n",
    "  },\n",
    "  \"point6\": {\n",
    "    \"location\": \"Portland\",\n",
    "    \"species\": \"ants\",\n",
    "    \"count\": 40,\n",
    "  },\n",
    "}\n",
    "\n",
    "for key in data:\n",
    "  point = (\n",
    "    Point(\"census\")\n",
    "    .tag(\"location\", data[key][\"location\"])\n",
    "    .field(data[key][\"species\"], data[key][\"count\"])\n",
    "  )\n",
    "  client.write(database=database, record=point)\n",
    "  time.sleep(1) # separate points by 1 second\n",
    "\n",
    "print(\"Complete. Return to the InfluxDB UI.\")\n"
   ],
   "metadata": {
    "collapsed": false,
    "ExecuteTime": {
     "end_time": "2024-08-22T17:32:09.022427Z",
     "start_time": "2024-08-22T17:32:08.416014Z"
    }
   },
   "id": "f07fcf6547cb8e7",
   "execution_count": 43
  },
  {
   "cell_type": "code",
   "outputs": [],
   "source": [],
   "metadata": {
    "collapsed": false
   },
   "id": "b560056bdaf2c85d"
  },
  {
   "cell_type": "code",
   "outputs": [],
   "source": [],
   "metadata": {
    "collapsed": false
   },
   "id": "4b7af5a2018d749"
  }
 ],
 "metadata": {
  "kernelspec": {
   "display_name": "Python 3",
   "language": "python",
   "name": "python3"
  },
  "language_info": {
   "codemirror_mode": {
    "name": "ipython",
    "version": 2
   },
   "file_extension": ".py",
   "mimetype": "text/x-python",
   "name": "python",
   "nbconvert_exporter": "python",
   "pygments_lexer": "ipython2",
   "version": "2.7.6"
  }
 },
 "nbformat": 4,
 "nbformat_minor": 5
}
