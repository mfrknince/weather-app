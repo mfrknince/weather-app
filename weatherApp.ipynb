{
 "cells": [
  {
   "cell_type": "code",
   "execution_count": 661,
   "id": "initial_id",
   "metadata": {
    "collapsed": true,
    "ExecuteTime": {
     "end_time": "2024-08-23T19:14:34.400517Z",
     "start_time": "2024-08-23T19:14:34.395451Z"
    }
   },
   "outputs": [],
   "source": [
    "import requests\n",
    "import pandas as pd"
   ]
  },
  {
   "cell_type": "code",
   "outputs": [],
   "source": [
    "city = input(\"Enter City:\")"
   ],
   "metadata": {
    "collapsed": false,
    "ExecuteTime": {
     "end_time": "2024-08-23T19:14:37.892359Z",
     "start_time": "2024-08-23T19:14:34.475016Z"
    }
   },
   "id": "b8e090e9bb170e13",
   "execution_count": 662
  },
  {
   "cell_type": "code",
   "outputs": [],
   "source": [
    "api_key = '2d300cd42548efadf84eb44c352f98cf'"
   ],
   "metadata": {
    "collapsed": false,
    "ExecuteTime": {
     "end_time": "2024-08-23T19:14:37.898833Z",
     "start_time": "2024-08-23T19:14:37.894456Z"
    }
   },
   "id": "60ce5f1aa652fbed",
   "execution_count": 663
  },
  {
   "cell_type": "markdown",
   "source": [
    "# Find Coordinates by Name"
   ],
   "metadata": {
    "collapsed": false
   },
   "id": "2e6b4c5f198faafd"
  },
  {
   "cell_type": "code",
   "outputs": [],
   "source": [
    "url = f'http://api.openweathermap.org/geo/1.0/direct?q={city}&appid={api_key}'"
   ],
   "metadata": {
    "collapsed": false,
    "ExecuteTime": {
     "end_time": "2024-08-23T19:14:37.914953Z",
     "start_time": "2024-08-23T19:14:37.900645Z"
    }
   },
   "id": "5ff07fe4c99d57eb",
   "execution_count": 664
  },
  {
   "cell_type": "code",
   "outputs": [],
   "source": [
    "res = requests.get(url)\n",
    "data = res.json()"
   ],
   "metadata": {
    "collapsed": false,
    "ExecuteTime": {
     "end_time": "2024-08-23T19:14:38.076005Z",
     "start_time": "2024-08-23T19:14:37.935849Z"
    }
   },
   "id": "5dfd9e0d76813453",
   "execution_count": 665
  },
  {
   "cell_type": "code",
   "outputs": [
    {
     "data": {
      "text/plain": "[{'name': 'Denizli',\n  'local_names': {'ur': 'دنیزلی',\n   'ru': 'Денизли',\n   'fa': 'دنیزلی',\n   'hu': 'Denizli',\n   'ml': 'ഡെനിസ്ലി',\n   'el': 'Ντενιζλί',\n   'ja': 'デニズリ',\n   'tr': 'Denizli',\n   'pt': 'Denizli',\n   'ku': 'Denizlî',\n   'hi': 'डेनिज़ली',\n   'en': 'Denizli',\n   'ar': 'دنيزلي'},\n  'lat': 37.7833152,\n  'lon': 29.0844832,\n  'country': 'TR'}]"
     },
     "execution_count": 666,
     "metadata": {},
     "output_type": "execute_result"
    }
   ],
   "source": [
    "data"
   ],
   "metadata": {
    "collapsed": false,
    "ExecuteTime": {
     "end_time": "2024-08-23T19:14:38.085085Z",
     "start_time": "2024-08-23T19:14:38.078284Z"
    }
   },
   "id": "2b80df46cd407702",
   "execution_count": 666
  },
  {
   "cell_type": "code",
   "outputs": [],
   "source": [
    "city_name = data[0]['name']\n",
    "city_lat = data[0]['lat']\n",
    "city_lon = data[0]['lon']"
   ],
   "metadata": {
    "collapsed": false,
    "ExecuteTime": {
     "end_time": "2024-08-23T19:14:38.091019Z",
     "start_time": "2024-08-23T19:14:38.086361Z"
    }
   },
   "id": "d0063ec2d8db30bb",
   "execution_count": 667
  },
  {
   "cell_type": "markdown",
   "source": [
    "# Get Weather info"
   ],
   "metadata": {
    "collapsed": false
   },
   "id": "305b8d0aa7e7cbba"
  },
  {
   "cell_type": "code",
   "outputs": [],
   "source": [
    "\n",
    "url = f'https://api.openweathermap.org/data/3.0/onecall?lat={city_lat}&lon={city_lon}&units=metric&appid={api_key}'\n"
   ],
   "metadata": {
    "collapsed": false,
    "ExecuteTime": {
     "end_time": "2024-08-23T19:14:38.096848Z",
     "start_time": "2024-08-23T19:14:38.093781Z"
    }
   },
   "id": "1f259bc8b6abffd7",
   "execution_count": 668
  },
  {
   "cell_type": "code",
   "outputs": [],
   "source": [
    "\n",
    "res = requests.get(url)\n",
    "data = res.json()\n"
   ],
   "metadata": {
    "collapsed": false,
    "ExecuteTime": {
     "end_time": "2024-08-23T19:14:38.398586Z",
     "start_time": "2024-08-23T19:14:38.098681Z"
    }
   },
   "id": "788f50929f9a3b17",
   "execution_count": 669
  },
  {
   "cell_type": "code",
   "outputs": [
    {
     "data": {
      "text/plain": "{'lat': 37.7833,\n 'lon': 29.0845,\n 'timezone': 'Europe/Istanbul',\n 'timezone_offset': 10800,\n 'current': {'dt': 1724440433,\n  'sunrise': 1724383582,\n  'sunset': 1724431590,\n  'temp': 27.32,\n  'feels_like': 27.53,\n  'pressure': 1011,\n  'humidity': 47,\n  'dew_point': 15.03,\n  'uvi': 0,\n  'clouds': 66,\n  'visibility': 10000,\n  'wind_speed': 1.63,\n  'wind_deg': 172,\n  'wind_gust': 1.46,\n  'weather': [{'id': 803,\n    'main': 'Clouds',\n    'description': 'broken clouds',\n    'icon': '04n'}]},\n 'minutely': [{'dt': 1724440440, 'precipitation': 0},\n  {'dt': 1724440500, 'precipitation': 0},\n  {'dt': 1724440560, 'precipitation': 0},\n  {'dt': 1724440620, 'precipitation': 0},\n  {'dt': 1724440680, 'precipitation': 0},\n  {'dt': 1724440740, 'precipitation': 0},\n  {'dt': 1724440800, 'precipitation': 0},\n  {'dt': 1724440860, 'precipitation': 0},\n  {'dt': 1724440920, 'precipitation': 0},\n  {'dt': 1724440980, 'precipitation': 0},\n  {'dt': 1724441040, 'precipitation': 0},\n  {'dt': 1724441100, 'precipitation': 0},\n  {'dt': 1724441160, 'precipitation': 0},\n  {'dt': 1724441220, 'precipitation': 0},\n  {'dt': 1724441280, 'precipitation': 0},\n  {'dt': 1724441340, 'precipitation': 0},\n  {'dt': 1724441400, 'precipitation': 0},\n  {'dt': 1724441460, 'precipitation': 0},\n  {'dt': 1724441520, 'precipitation': 0},\n  {'dt': 1724441580, 'precipitation': 0},\n  {'dt': 1724441640, 'precipitation': 0},\n  {'dt': 1724441700, 'precipitation': 0},\n  {'dt': 1724441760, 'precipitation': 0},\n  {'dt': 1724441820, 'precipitation': 0},\n  {'dt': 1724441880, 'precipitation': 0},\n  {'dt': 1724441940, 'precipitation': 0},\n  {'dt': 1724442000, 'precipitation': 0},\n  {'dt': 1724442060, 'precipitation': 0},\n  {'dt': 1724442120, 'precipitation': 0},\n  {'dt': 1724442180, 'precipitation': 0},\n  {'dt': 1724442240, 'precipitation': 0},\n  {'dt': 1724442300, 'precipitation': 0},\n  {'dt': 1724442360, 'precipitation': 0},\n  {'dt': 1724442420, 'precipitation': 0},\n  {'dt': 1724442480, 'precipitation': 0},\n  {'dt': 1724442540, 'precipitation': 0},\n  {'dt': 1724442600, 'precipitation': 0},\n  {'dt': 1724442660, 'precipitation': 0},\n  {'dt': 1724442720, 'precipitation': 0},\n  {'dt': 1724442780, 'precipitation': 0},\n  {'dt': 1724442840, 'precipitation': 0},\n  {'dt': 1724442900, 'precipitation': 0},\n  {'dt': 1724442960, 'precipitation': 0},\n  {'dt': 1724443020, 'precipitation': 0},\n  {'dt': 1724443080, 'precipitation': 0},\n  {'dt': 1724443140, 'precipitation': 0},\n  {'dt': 1724443200, 'precipitation': 0},\n  {'dt': 1724443260, 'precipitation': 0},\n  {'dt': 1724443320, 'precipitation': 0},\n  {'dt': 1724443380, 'precipitation': 0},\n  {'dt': 1724443440, 'precipitation': 0},\n  {'dt': 1724443500, 'precipitation': 0},\n  {'dt': 1724443560, 'precipitation': 0},\n  {'dt': 1724443620, 'precipitation': 0},\n  {'dt': 1724443680, 'precipitation': 0},\n  {'dt': 1724443740, 'precipitation': 0},\n  {'dt': 1724443800, 'precipitation': 0},\n  {'dt': 1724443860, 'precipitation': 0},\n  {'dt': 1724443920, 'precipitation': 0},\n  {'dt': 1724443980, 'precipitation': 0}],\n 'hourly': [{'dt': 1724439600,\n   'temp': 27.32,\n   'feels_like': 27.53,\n   'pressure': 1011,\n   'humidity': 47,\n   'dew_point': 15.03,\n   'uvi': 0,\n   'clouds': 66,\n   'visibility': 10000,\n   'wind_speed': 1.63,\n   'wind_deg': 172,\n   'wind_gust': 1.46,\n   'weather': [{'id': 803,\n     'main': 'Clouds',\n     'description': 'broken clouds',\n     'icon': '04n'}],\n   'pop': 0},\n  {'dt': 1724443200,\n   'temp': 27.05,\n   'feels_like': 27.34,\n   'pressure': 1011,\n   'humidity': 48,\n   'dew_point': 15.11,\n   'uvi': 0,\n   'clouds': 61,\n   'visibility': 10000,\n   'wind_speed': 0.59,\n   'wind_deg': 170,\n   'wind_gust': 0.51,\n   'weather': [{'id': 803,\n     'main': 'Clouds',\n     'description': 'broken clouds',\n     'icon': '04n'}],\n   'pop': 0},\n  {'dt': 1724446800,\n   'temp': 26.52,\n   'feels_like': 26.52,\n   'pressure': 1011,\n   'humidity': 49,\n   'dew_point': 14.94,\n   'uvi': 0,\n   'clouds': 51,\n   'visibility': 10000,\n   'wind_speed': 0.87,\n   'wind_deg': 338,\n   'wind_gust': 1.02,\n   'weather': [{'id': 803,\n     'main': 'Clouds',\n     'description': 'broken clouds',\n     'icon': '04n'}],\n   'pop': 0},\n  {'dt': 1724450400,\n   'temp': 25.99,\n   'feels_like': 25.99,\n   'pressure': 1012,\n   'humidity': 50,\n   'dew_point': 14.77,\n   'uvi': 0,\n   'clouds': 39,\n   'visibility': 10000,\n   'wind_speed': 1.07,\n   'wind_deg': 314,\n   'wind_gust': 1.57,\n   'weather': [{'id': 802,\n     'main': 'Clouds',\n     'description': 'scattered clouds',\n     'icon': '03n'}],\n   'pop': 0},\n  {'dt': 1724454000,\n   'temp': 25.31,\n   'feels_like': 25.25,\n   'pressure': 1012,\n   'humidity': 52,\n   'dew_point': 14.75,\n   'uvi': 0,\n   'clouds': 27,\n   'visibility': 10000,\n   'wind_speed': 1.42,\n   'wind_deg': 349,\n   'wind_gust': 1.62,\n   'weather': [{'id': 802,\n     'main': 'Clouds',\n     'description': 'scattered clouds',\n     'icon': '03n'}],\n   'pop': 0},\n  {'dt': 1724457600,\n   'temp': 24.39,\n   'feels_like': 24.27,\n   'pressure': 1012,\n   'humidity': 53,\n   'dew_point': 12.36,\n   'uvi': 0,\n   'clouds': 14,\n   'visibility': 10000,\n   'wind_speed': 1.25,\n   'wind_deg': 344,\n   'wind_gust': 1.52,\n   'weather': [{'id': 801,\n     'main': 'Clouds',\n     'description': 'few clouds',\n     'icon': '02n'}],\n   'pop': 0},\n  {'dt': 1724461200,\n   'temp': 23.73,\n   'feels_like': 23.54,\n   'pressure': 1013,\n   'humidity': 53,\n   'dew_point': 11.79,\n   'uvi': 0,\n   'clouds': 0,\n   'visibility': 10000,\n   'wind_speed': 1.08,\n   'wind_deg': 346,\n   'wind_gust': 1.44,\n   'weather': [{'id': 800,\n     'main': 'Clear',\n     'description': 'clear sky',\n     'icon': '01n'}],\n   'pop': 0},\n  {'dt': 1724464800,\n   'temp': 23.06,\n   'feels_like': 22.83,\n   'pressure': 1013,\n   'humidity': 54,\n   'dew_point': 11.42,\n   'uvi': 0,\n   'clouds': 0,\n   'visibility': 10000,\n   'wind_speed': 0.82,\n   'wind_deg': 317,\n   'wind_gust': 1.31,\n   'weather': [{'id': 800,\n     'main': 'Clear',\n     'description': 'clear sky',\n     'icon': '01n'}],\n   'pop': 0},\n  {'dt': 1724468400,\n   'temp': 22.47,\n   'feels_like': 22.23,\n   'pressure': 1013,\n   'humidity': 56,\n   'dew_point': 11.25,\n   'uvi': 0,\n   'clouds': 0,\n   'visibility': 10000,\n   'wind_speed': 0.53,\n   'wind_deg': 345,\n   'wind_gust': 1.26,\n   'weather': [{'id': 800,\n     'main': 'Clear',\n     'description': 'clear sky',\n     'icon': '01n'}],\n   'pop': 0},\n  {'dt': 1724472000,\n   'temp': 23.2,\n   'feels_like': 22.96,\n   'pressure': 1013,\n   'humidity': 53,\n   'dew_point': 11.41,\n   'uvi': 0.11,\n   'clouds': 0,\n   'visibility': 10000,\n   'wind_speed': 0.61,\n   'wind_deg': 342,\n   'wind_gust': 1.22,\n   'weather': [{'id': 800,\n     'main': 'Clear',\n     'description': 'clear sky',\n     'icon': '01d'}],\n   'pop': 0},\n  {'dt': 1724475600,\n   'temp': 25.55,\n   'feels_like': 25.34,\n   'pressure': 1013,\n   'humidity': 45,\n   'dew_point': 11,\n   'uvi': 0.68,\n   'clouds': 0,\n   'visibility': 10000,\n   'wind_speed': 1.28,\n   'wind_deg': 346,\n   'wind_gust': 1.65,\n   'weather': [{'id': 800,\n     'main': 'Clear',\n     'description': 'clear sky',\n     'icon': '01d'}],\n   'pop': 0},\n  {'dt': 1724479200,\n   'temp': 26.87,\n   'feels_like': 26.82,\n   'pressure': 1013,\n   'humidity': 41,\n   'dew_point': 10.7,\n   'uvi': 1.96,\n   'clouds': 0,\n   'visibility': 10000,\n   'wind_speed': 1.89,\n   'wind_deg': 355,\n   'wind_gust': 2.06,\n   'weather': [{'id': 800,\n     'main': 'Clear',\n     'description': 'clear sky',\n     'icon': '01d'}],\n   'pop': 0},\n  {'dt': 1724482800,\n   'temp': 28.42,\n   'feels_like': 27.76,\n   'pressure': 1013,\n   'humidity': 36,\n   'dew_point': 10.26,\n   'uvi': 4,\n   'clouds': 0,\n   'visibility': 10000,\n   'wind_speed': 2.32,\n   'wind_deg': 355,\n   'wind_gust': 2.43,\n   'weather': [{'id': 800,\n     'main': 'Clear',\n     'description': 'clear sky',\n     'icon': '01d'}],\n   'pop': 0},\n  {'dt': 1724486400,\n   'temp': 30.18,\n   'feels_like': 29.08,\n   'pressure': 1013,\n   'humidity': 32,\n   'dew_point': 9.81,\n   'uvi': 6.19,\n   'clouds': 0,\n   'visibility': 10000,\n   'wind_speed': 2.59,\n   'wind_deg': 348,\n   'wind_gust': 2.87,\n   'weather': [{'id': 800,\n     'main': 'Clear',\n     'description': 'clear sky',\n     'icon': '01d'}],\n   'pop': 0},\n  {'dt': 1724490000,\n   'temp': 31.71,\n   'feels_like': 30.29,\n   'pressure': 1012,\n   'humidity': 28,\n   'dew_point': 9.25,\n   'uvi': 7.92,\n   'clouds': 0,\n   'visibility': 10000,\n   'wind_speed': 2.59,\n   'wind_deg': 344,\n   'wind_gust': 3.13,\n   'weather': [{'id': 800,\n     'main': 'Clear',\n     'description': 'clear sky',\n     'icon': '01d'}],\n   'pop': 0},\n  {'dt': 1724493600,\n   'temp': 33.38,\n   'feels_like': 31.59,\n   'pressure': 1011,\n   'humidity': 23,\n   'dew_point': 8.03,\n   'uvi': 8.59,\n   'clouds': 0,\n   'visibility': 10000,\n   'wind_speed': 2.38,\n   'wind_deg': 346,\n   'wind_gust': 3.32,\n   'weather': [{'id': 800,\n     'main': 'Clear',\n     'description': 'clear sky',\n     'icon': '01d'}],\n   'pop': 0},\n  {'dt': 1724497200,\n   'temp': 34.99,\n   'feels_like': 32.92,\n   'pressure': 1010,\n   'humidity': 19,\n   'dew_point': 6.45,\n   'uvi': 7.99,\n   'clouds': 0,\n   'visibility': 10000,\n   'wind_speed': 2.52,\n   'wind_deg': 355,\n   'wind_gust': 3.32,\n   'weather': [{'id': 800,\n     'main': 'Clear',\n     'description': 'clear sky',\n     'icon': '01d'}],\n   'pop': 0},\n  {'dt': 1724500800,\n   'temp': 36.08,\n   'feels_like': 33.77,\n   'pressure': 1009,\n   'humidity': 16,\n   'dew_point': 5.12,\n   'uvi': 6.37,\n   'clouds': 0,\n   'visibility': 10000,\n   'wind_speed': 2.83,\n   'wind_deg': 2,\n   'wind_gust': 3.43,\n   'weather': [{'id': 800,\n     'main': 'Clear',\n     'description': 'clear sky',\n     'icon': '01d'}],\n   'pop': 0},\n  {'dt': 1724504400,\n   'temp': 36.59,\n   'feels_like': 34.2,\n   'pressure': 1008,\n   'humidity': 15,\n   'dew_point': 4.32,\n   'uvi': 4.18,\n   'clouds': 0,\n   'visibility': 10000,\n   'wind_speed': 3.23,\n   'wind_deg': 360,\n   'wind_gust': 3.78,\n   'weather': [{'id': 800,\n     'main': 'Clear',\n     'description': 'clear sky',\n     'icon': '01d'}],\n   'pop': 0},\n  {'dt': 1724508000,\n   'temp': 36.77,\n   'feels_like': 34.27,\n   'pressure': 1008,\n   'humidity': 14,\n   'dew_point': 3.9,\n   'uvi': 2.15,\n   'clouds': 0,\n   'visibility': 10000,\n   'wind_speed': 3.81,\n   'wind_deg': 356,\n   'wind_gust': 4.06,\n   'weather': [{'id': 800,\n     'main': 'Clear',\n     'description': 'clear sky',\n     'icon': '01d'}],\n   'pop': 0},\n  {'dt': 1724511600,\n   'temp': 36.16,\n   'feels_like': 33.75,\n   'pressure': 1007,\n   'humidity': 15,\n   'dew_point': 3.9,\n   'uvi': 0.78,\n   'clouds': 0,\n   'visibility': 10000,\n   'wind_speed': 3.69,\n   'wind_deg': 354,\n   'wind_gust': 4.11,\n   'weather': [{'id': 800,\n     'main': 'Clear',\n     'description': 'clear sky',\n     'icon': '01d'}],\n   'pop': 0},\n  {'dt': 1724515200,\n   'temp': 34.57,\n   'feels_like': 32.29,\n   'pressure': 1007,\n   'humidity': 17,\n   'dew_point': 4.39,\n   'uvi': 0.16,\n   'clouds': 0,\n   'visibility': 10000,\n   'wind_speed': 2.77,\n   'wind_deg': 348,\n   'wind_gust': 3.91,\n   'weather': [{'id': 800,\n     'main': 'Clear',\n     'description': 'clear sky',\n     'icon': '01d'}],\n   'pop': 0},\n  {'dt': 1724518800,\n   'temp': 29.9,\n   'feels_like': 28.23,\n   'pressure': 1007,\n   'humidity': 22,\n   'dew_point': 4.61,\n   'uvi': 0,\n   'clouds': 0,\n   'visibility': 10000,\n   'wind_speed': 2.3,\n   'wind_deg': 342,\n   'wind_gust': 3.15,\n   'weather': [{'id': 800,\n     'main': 'Clear',\n     'description': 'clear sky',\n     'icon': '01n'}],\n   'pop': 0},\n  {'dt': 1724522400,\n   'temp': 27.52,\n   'feels_like': 26.68,\n   'pressure': 1008,\n   'humidity': 28,\n   'dew_point': 5.99,\n   'uvi': 0,\n   'clouds': 0,\n   'visibility': 10000,\n   'wind_speed': 1.57,\n   'wind_deg': 329,\n   'wind_gust': 2.72,\n   'weather': [{'id': 800,\n     'main': 'Clear',\n     'description': 'clear sky',\n     'icon': '01n'}],\n   'pop': 0},\n  {'dt': 1724526000,\n   'temp': 27.56,\n   'feels_like': 26.79,\n   'pressure': 1009,\n   'humidity': 30,\n   'dew_point': 6.71,\n   'uvi': 0,\n   'clouds': 0,\n   'visibility': 10000,\n   'wind_speed': 1.82,\n   'wind_deg': 271,\n   'wind_gust': 2.26,\n   'weather': [{'id': 800,\n     'main': 'Clear',\n     'description': 'clear sky',\n     'icon': '01n'}],\n   'pop': 0},\n  {'dt': 1724529600,\n   'temp': 27.26,\n   'feels_like': 26.63,\n   'pressure': 1009,\n   'humidity': 31,\n   'dew_point': 7.1,\n   'uvi': 0,\n   'clouds': 0,\n   'visibility': 10000,\n   'wind_speed': 2.48,\n   'wind_deg': 324,\n   'wind_gust': 2.58,\n   'weather': [{'id': 800,\n     'main': 'Clear',\n     'description': 'clear sky',\n     'icon': '01n'}],\n   'pop': 0},\n  {'dt': 1724533200,\n   'temp': 25.52,\n   'feels_like': 25.07,\n   'pressure': 1010,\n   'humidity': 36,\n   'dew_point': 7.66,\n   'uvi': 0,\n   'clouds': 0,\n   'visibility': 10000,\n   'wind_speed': 1.98,\n   'wind_deg': 328,\n   'wind_gust': 2.34,\n   'weather': [{'id': 800,\n     'main': 'Clear',\n     'description': 'clear sky',\n     'icon': '01n'}],\n   'pop': 0},\n  {'dt': 1724536800,\n   'temp': 24.29,\n   'feels_like': 23.82,\n   'pressure': 1010,\n   'humidity': 40,\n   'dew_point': 8.01,\n   'uvi': 0,\n   'clouds': 0,\n   'visibility': 10000,\n   'wind_speed': 1.22,\n   'wind_deg': 315,\n   'wind_gust': 1.87,\n   'weather': [{'id': 800,\n     'main': 'Clear',\n     'description': 'clear sky',\n     'icon': '01n'}],\n   'pop': 0},\n  {'dt': 1724540400,\n   'temp': 23.41,\n   'feels_like': 22.93,\n   'pressure': 1010,\n   'humidity': 43,\n   'dew_point': 8.16,\n   'uvi': 0,\n   'clouds': 0,\n   'visibility': 10000,\n   'wind_speed': 0.8,\n   'wind_deg': 300,\n   'wind_gust': 1.34,\n   'weather': [{'id': 800,\n     'main': 'Clear',\n     'description': 'clear sky',\n     'icon': '01n'}],\n   'pop': 0},\n  {'dt': 1724544000,\n   'temp': 22.6,\n   'feels_like': 22.06,\n   'pressure': 1009,\n   'humidity': 44,\n   'dew_point': 8.15,\n   'uvi': 0,\n   'clouds': 0,\n   'visibility': 10000,\n   'wind_speed': 0.53,\n   'wind_deg': 344,\n   'wind_gust': 1.14,\n   'weather': [{'id': 800,\n     'main': 'Clear',\n     'description': 'clear sky',\n     'icon': '01n'}],\n   'pop': 0},\n  {'dt': 1724547600,\n   'temp': 22.07,\n   'feels_like': 21.51,\n   'pressure': 1009,\n   'humidity': 45,\n   'dew_point': 7.97,\n   'uvi': 0,\n   'clouds': 0,\n   'visibility': 10000,\n   'wind_speed': 0.65,\n   'wind_deg': 356,\n   'wind_gust': 1.15,\n   'weather': [{'id': 800,\n     'main': 'Clear',\n     'description': 'clear sky',\n     'icon': '01n'}],\n   'pop': 0},\n  {'dt': 1724551200,\n   'temp': 21.42,\n   'feels_like': 20.84,\n   'pressure': 1009,\n   'humidity': 47,\n   'dew_point': 7.82,\n   'uvi': 0,\n   'clouds': 0,\n   'visibility': 10000,\n   'wind_speed': 0.44,\n   'wind_deg': 359,\n   'wind_gust': 1.1,\n   'weather': [{'id': 800,\n     'main': 'Clear',\n     'description': 'clear sky',\n     'icon': '01n'}],\n   'pop': 0},\n  {'dt': 1724554800,\n   'temp': 20.89,\n   'feels_like': 20.31,\n   'pressure': 1009,\n   'humidity': 49,\n   'dew_point': 7.9,\n   'uvi': 0,\n   'clouds': 0,\n   'visibility': 10000,\n   'wind_speed': 0.24,\n   'wind_deg': 2,\n   'wind_gust': 1.08,\n   'weather': [{'id': 800,\n     'main': 'Clear',\n     'description': 'clear sky',\n     'icon': '01n'}],\n   'pop': 0},\n  {'dt': 1724558400,\n   'temp': 21.9,\n   'feels_like': 21.37,\n   'pressure': 1009,\n   'humidity': 47,\n   'dew_point': 8.33,\n   'uvi': 0.1,\n   'clouds': 0,\n   'visibility': 10000,\n   'wind_speed': 0.33,\n   'wind_deg': 25,\n   'wind_gust': 0.96,\n   'weather': [{'id': 800,\n     'main': 'Clear',\n     'description': 'clear sky',\n     'icon': '01d'}],\n   'pop': 0},\n  {'dt': 1724562000,\n   'temp': 25.17,\n   'feels_like': 24.76,\n   'pressure': 1009,\n   'humidity': 39,\n   'dew_point': 8.41,\n   'uvi': 0.63,\n   'clouds': 0,\n   'visibility': 10000,\n   'wind_speed': 0.68,\n   'wind_deg': 21,\n   'wind_gust': 0.94,\n   'weather': [{'id': 800,\n     'main': 'Clear',\n     'description': 'clear sky',\n     'icon': '01d'}],\n   'pop': 0},\n  {'dt': 1724565600,\n   'temp': 27.11,\n   'feels_like': 26.75,\n   'pressure': 1008,\n   'humidity': 36,\n   'dew_point': 8.91,\n   'uvi': 1.81,\n   'clouds': 0,\n   'visibility': 10000,\n   'wind_speed': 1.38,\n   'wind_deg': 31,\n   'wind_gust': 1.39,\n   'weather': [{'id': 800,\n     'main': 'Clear',\n     'description': 'clear sky',\n     'icon': '01d'}],\n   'pop': 0},\n  {'dt': 1724569200,\n   'temp': 28.89,\n   'feels_like': 27.96,\n   'pressure': 1008,\n   'humidity': 33,\n   'dew_point': 9.15,\n   'uvi': 3.64,\n   'clouds': 0,\n   'visibility': 10000,\n   'wind_speed': 1.81,\n   'wind_deg': 15,\n   'wind_gust': 1.54,\n   'weather': [{'id': 800,\n     'main': 'Clear',\n     'description': 'clear sky',\n     'icon': '01d'}],\n   'pop': 0},\n  {'dt': 1724572800,\n   'temp': 30.72,\n   'feels_like': 29.36,\n   'pressure': 1008,\n   'humidity': 29,\n   'dew_point': 9.31,\n   'uvi': 5.71,\n   'clouds': 0,\n   'visibility': 10000,\n   'wind_speed': 1.8,\n   'wind_deg': 12,\n   'wind_gust': 1.62,\n   'weather': [{'id': 800,\n     'main': 'Clear',\n     'description': 'clear sky',\n     'icon': '01d'}],\n   'pop': 0},\n  {'dt': 1724576400,\n   'temp': 32.49,\n   'feels_like': 30.93,\n   'pressure': 1007,\n   'humidity': 26,\n   'dew_point': 9.21,\n   'uvi': 7.39,\n   'clouds': 0,\n   'visibility': 10000,\n   'wind_speed': 1.94,\n   'wind_deg': 2,\n   'wind_gust': 1.83,\n   'weather': [{'id': 800,\n     'main': 'Clear',\n     'description': 'clear sky',\n     'icon': '01d'}],\n   'pop': 0},\n  {'dt': 1724580000,\n   'temp': 34.17,\n   'feels_like': 32.47,\n   'pressure': 1006,\n   'humidity': 23,\n   'dew_point': 8.93,\n   'uvi': 8.05,\n   'clouds': 0,\n   'visibility': 10000,\n   'wind_speed': 2.25,\n   'wind_deg': 359,\n   'wind_gust': 2.43,\n   'weather': [{'id': 800,\n     'main': 'Clear',\n     'description': 'clear sky',\n     'icon': '01d'}],\n   'pop': 0},\n  {'dt': 1724583600,\n   'temp': 35.42,\n   'feels_like': 33.65,\n   'pressure': 1005,\n   'humidity': 21,\n   'dew_point': 8.37,\n   'uvi': 7.55,\n   'clouds': 0,\n   'visibility': 10000,\n   'wind_speed': 2.41,\n   'wind_deg': 350,\n   'wind_gust': 3.14,\n   'weather': [{'id': 800,\n     'main': 'Clear',\n     'description': 'clear sky',\n     'icon': '01d'}],\n   'pop': 0},\n  {'dt': 1724587200,\n   'temp': 36.47,\n   'feels_like': 34.59,\n   'pressure': 1005,\n   'humidity': 19,\n   'dew_point': 7.56,\n   'uvi': 5.99,\n   'clouds': 0,\n   'visibility': 10000,\n   'wind_speed': 3.04,\n   'wind_deg': 334,\n   'wind_gust': 3.86,\n   'weather': [{'id': 800,\n     'main': 'Clear',\n     'description': 'clear sky',\n     'icon': '01d'}],\n   'pop': 0},\n  {'dt': 1724590800,\n   'temp': 36.84,\n   'feels_like': 34.72,\n   'pressure': 1004,\n   'humidity': 17,\n   'dew_point': 6.57,\n   'uvi': 3.88,\n   'clouds': 0,\n   'visibility': 10000,\n   'wind_speed': 3.37,\n   'wind_deg': 329,\n   'wind_gust': 4.06,\n   'weather': [{'id': 800,\n     'main': 'Clear',\n     'description': 'clear sky',\n     'icon': '01d'}],\n   'pop': 0},\n  {'dt': 1724594400,\n   'temp': 36.85,\n   'feels_like': 34.73,\n   'pressure': 1003,\n   'humidity': 17,\n   'dew_point': 6.13,\n   'uvi': 1.99,\n   'clouds': 0,\n   'visibility': 10000,\n   'wind_speed': 3.78,\n   'wind_deg': 336,\n   'wind_gust': 3.87,\n   'weather': [{'id': 800,\n     'main': 'Clear',\n     'description': 'clear sky',\n     'icon': '01d'}],\n   'pop': 0},\n  {'dt': 1724598000,\n   'temp': 36.15,\n   'feels_like': 33.96,\n   'pressure': 1003,\n   'humidity': 17,\n   'dew_point': 5.97,\n   'uvi': 0.73,\n   'clouds': 1,\n   'visibility': 10000,\n   'wind_speed': 3.82,\n   'wind_deg': 332,\n   'wind_gust': 4.07,\n   'weather': [{'id': 800,\n     'main': 'Clear',\n     'description': 'clear sky',\n     'icon': '01d'}],\n   'pop': 0},\n  {'dt': 1724601600,\n   'temp': 34.37,\n   'feels_like': 32.26,\n   'pressure': 1003,\n   'humidity': 19,\n   'dew_point': 6.13,\n   'uvi': 0.15,\n   'clouds': 5,\n   'visibility': 10000,\n   'wind_speed': 2.39,\n   'wind_deg': 347,\n   'wind_gust': 2.32,\n   'weather': [{'id': 800,\n     'main': 'Clear',\n     'description': 'clear sky',\n     'icon': '01d'}],\n   'pop': 0},\n  {'dt': 1724605200,\n   'temp': 29.97,\n   'feels_like': 28.42,\n   'pressure': 1004,\n   'humidity': 25,\n   'dew_point': 6.27,\n   'uvi': 0,\n   'clouds': 14,\n   'visibility': 10000,\n   'wind_speed': 1.49,\n   'wind_deg': 277,\n   'wind_gust': 1.18,\n   'weather': [{'id': 801,\n     'main': 'Clouds',\n     'description': 'few clouds',\n     'icon': '02n'}],\n   'pop': 0},\n  {'dt': 1724608800,\n   'temp': 29.08,\n   'feels_like': 27.83,\n   'pressure': 1005,\n   'humidity': 28,\n   'dew_point': 6.99,\n   'uvi': 0,\n   'clouds': 15,\n   'visibility': 10000,\n   'wind_speed': 3.04,\n   'wind_deg': 222,\n   'wind_gust': 3.1,\n   'weather': [{'id': 801,\n     'main': 'Clouds',\n     'description': 'few clouds',\n     'icon': '02n'}],\n   'pop': 0}],\n 'daily': [{'dt': 1724407200,\n   'sunrise': 1724383582,\n   'sunset': 1724431590,\n   'moonrise': 1724439180,\n   'moonset': 1724398440,\n   'moon_phase': 0.64,\n   'summary': 'Expect a day of partly cloudy with rain',\n   'temp': {'day': 35.29,\n    'min': 23.27,\n    'max': 38.55,\n    'night': 27.05,\n    'eve': 30.49,\n    'morn': 24.44},\n   'feels_like': {'day': 33.79, 'night': 27.34, 'eve': 30.02, 'morn': 24.19},\n   'pressure': 1009,\n   'humidity': 23,\n   'dew_point': 9.26,\n   'wind_speed': 5.38,\n   'wind_deg': 235,\n   'wind_gust': 6.81,\n   'weather': [{'id': 500,\n     'main': 'Rain',\n     'description': 'light rain',\n     'icon': '10d'}],\n   'clouds': 9,\n   'pop': 0.33,\n   'rain': 0.11,\n   'uvi': 8.3},\n  {'dt': 1724493600,\n   'sunrise': 1724470034,\n   'sunset': 1724517907,\n   'moonrise': 1724527440,\n   'moonset': 1724489340,\n   'moon_phase': 0.68,\n   'summary': 'There will be partly cloudy until morning, then clearing',\n   'temp': {'day': 33.38,\n    'min': 22.47,\n    'max': 36.77,\n    'night': 27.26,\n    'eve': 34.57,\n    'morn': 23.2},\n   'feels_like': {'day': 31.59, 'night': 26.63, 'eve': 32.29, 'morn': 22.96},\n   'pressure': 1011,\n   'humidity': 23,\n   'dew_point': 8.03,\n   'wind_speed': 3.81,\n   'wind_deg': 356,\n   'wind_gust': 4.11,\n   'weather': [{'id': 800,\n     'main': 'Clear',\n     'description': 'clear sky',\n     'icon': '01d'}],\n   'clouds': 0,\n   'pop': 0,\n   'uvi': 8.59},\n  {'dt': 1724580000,\n   'sunrise': 1724556486,\n   'sunset': 1724604223,\n   'moonrise': 1724616000,\n   'moonset': 1724580180,\n   'moon_phase': 0.71,\n   'summary': 'Expect a day of partly cloudy with clear spells',\n   'temp': {'day': 34.17,\n    'min': 20.89,\n    'max': 36.85,\n    'night': 26.57,\n    'eve': 34.37,\n    'morn': 21.9},\n   'feels_like': {'day': 32.47, 'night': 26.57, 'eve': 32.26, 'morn': 21.37},\n   'pressure': 1006,\n   'humidity': 23,\n   'dew_point': 8.93,\n   'wind_speed': 3.82,\n   'wind_deg': 332,\n   'wind_gust': 4.07,\n   'weather': [{'id': 800,\n     'main': 'Clear',\n     'description': 'clear sky',\n     'icon': '01d'}],\n   'clouds': 0,\n   'pop': 0,\n   'uvi': 8.05},\n  {'dt': 1724666400,\n   'sunrise': 1724642937,\n   'sunset': 1724690539,\n   'moonrise': 1724704920,\n   'moonset': 1724670960,\n   'moon_phase': 0.75,\n   'summary': 'Expect a day of partly cloudy with rain',\n   'temp': {'day': 35.33,\n    'min': 22.1,\n    'max': 36.76,\n    'night': 22.6,\n    'eve': 27.7,\n    'morn': 23.22},\n   'feels_like': {'day': 34, 'night': 22.67, 'eve': 27.74, 'morn': 23.14},\n   'pressure': 1006,\n   'humidity': 24,\n   'dew_point': 9.98,\n   'wind_speed': 3.18,\n   'wind_deg': 316,\n   'wind_gust': 6.58,\n   'weather': [{'id': 500,\n     'main': 'Rain',\n     'description': 'light rain',\n     'icon': '10d'}],\n   'clouds': 0,\n   'pop': 1,\n   'rain': 0.92,\n   'uvi': 7.88},\n  {'dt': 1724752800,\n   'sunrise': 1724729388,\n   'sunset': 1724776853,\n   'moonrise': 0,\n   'moonset': 1724761500,\n   'moon_phase': 0.78,\n   'summary': 'Expect a day of partly cloudy with rain',\n   'temp': {'day': 31.2,\n    'min': 20.24,\n    'max': 32.89,\n    'night': 24.91,\n    'eve': 31.86,\n    'morn': 20.24},\n   'feels_like': {'day': 30.37, 'night': 24.97, 'eve': 30.77, 'morn': 20.15},\n   'pressure': 1009,\n   'humidity': 34,\n   'dew_point': 12.09,\n   'wind_speed': 2.46,\n   'wind_deg': 287,\n   'wind_gust': 4.03,\n   'weather': [{'id': 500,\n     'main': 'Rain',\n     'description': 'light rain',\n     'icon': '10d'}],\n   'clouds': 0,\n   'pop': 0.21,\n   'rain': 0.79,\n   'uvi': 7.84},\n  {'dt': 1724839200,\n   'sunrise': 1724815839,\n   'sunset': 1724863167,\n   'moonrise': 1724794260,\n   'moonset': 1724851500,\n   'moon_phase': 0.82,\n   'summary': 'Expect a day of partly cloudy with rain',\n   'temp': {'day': 30.28,\n    'min': 20.59,\n    'max': 32.77,\n    'night': 28.31,\n    'eve': 28.93,\n    'morn': 20.59},\n   'feels_like': {'day': 30.14, 'night': 28.34, 'eve': 28.91, 'morn': 20.77},\n   'pressure': 1011,\n   'humidity': 41,\n   'dew_point': 13.85,\n   'wind_speed': 2.67,\n   'wind_deg': 196,\n   'wind_gust': 2.6,\n   'weather': [{'id': 500,\n     'main': 'Rain',\n     'description': 'light rain',\n     'icon': '10d'}],\n   'clouds': 0,\n   'pop': 0.77,\n   'rain': 0.79,\n   'uvi': 7.83},\n  {'dt': 1724925600,\n   'sunrise': 1724902290,\n   'sunset': 1724949480,\n   'moonrise': 1724884140,\n   'moonset': 1724941020,\n   'moon_phase': 0.85,\n   'summary': 'Expect a day of partly cloudy with rain',\n   'temp': {'day': 31.47,\n    'min': 22.1,\n    'max': 34.22,\n    'night': 23.46,\n    'eve': 23.82,\n    'morn': 22.1},\n   'feels_like': {'day': 30.23, 'night': 23.35, 'eve': 23.95, 'morn': 21.83},\n   'pressure': 1010,\n   'humidity': 30,\n   'dew_point': 10.13,\n   'wind_speed': 4.87,\n   'wind_deg': 137,\n   'wind_gust': 4.87,\n   'weather': [{'id': 501,\n     'main': 'Rain',\n     'description': 'moderate rain',\n     'icon': '10d'}],\n   'clouds': 1,\n   'pop': 1,\n   'rain': 7.08,\n   'uvi': 8},\n  {'dt': 1725012000,\n   'sunrise': 1724988741,\n   'sunset': 1725035793,\n   'moonrise': 1724974200,\n   'moonset': 1725029940,\n   'moon_phase': 0.88,\n   'summary': 'You can expect clear sky in the morning, with partly cloudy in the afternoon',\n   'temp': {'day': 30.33,\n    'min': 20.79,\n    'max': 33.13,\n    'night': 28.68,\n    'eve': 32.93,\n    'morn': 20.79},\n   'feels_like': {'day': 29.32, 'night': 27.73, 'eve': 31.11, 'morn': 20.54},\n   'pressure': 1010,\n   'humidity': 33,\n   'dew_point': 10.87,\n   'wind_speed': 2.03,\n   'wind_deg': 257,\n   'wind_gust': 2.78,\n   'weather': [{'id': 800,\n     'main': 'Clear',\n     'description': 'clear sky',\n     'icon': '01d'}],\n   'clouds': 0,\n   'pop': 0,\n   'uvi': 8}]}"
     },
     "execution_count": 683,
     "metadata": {},
     "output_type": "execute_result"
    }
   ],
   "source": [
    "data"
   ],
   "metadata": {
    "collapsed": false,
    "ExecuteTime": {
     "end_time": "2024-08-23T19:16:10.595201Z",
     "start_time": "2024-08-23T19:16:10.572606Z"
    }
   },
   "id": "bb21939d1c1f6d52",
   "execution_count": 683
  },
  {
   "cell_type": "code",
   "outputs": [],
   "source": [
    "df = pd.DataFrame(data['daily'])"
   ],
   "metadata": {
    "collapsed": false,
    "ExecuteTime": {
     "end_time": "2024-08-23T19:16:11.352467Z",
     "start_time": "2024-08-23T19:16:11.346508Z"
    }
   },
   "id": "47071179e6cc4758",
   "execution_count": 684
  },
  {
   "cell_type": "code",
   "outputs": [],
   "source": [
    "df = df[['dt', 'temp', 'wind_speed', 'humidity']]"
   ],
   "metadata": {
    "collapsed": false,
    "ExecuteTime": {
     "end_time": "2024-08-23T19:16:11.655755Z",
     "start_time": "2024-08-23T19:16:11.649264Z"
    }
   },
   "id": "2d122da19910ab21",
   "execution_count": 685
  },
  {
   "cell_type": "code",
   "outputs": [
    {
     "name": "stdout",
     "output_type": "stream",
     "text": [
      "Total NaN values:  0  \n",
      " dt            0\n",
      "temp          0\n",
      "wind_speed    0\n",
      "humidity      0\n",
      "dtype: int64\n"
     ]
    }
   ],
   "source": [
    "print(\"Total NaN values: \",df.isna().sum().sum(),\" \\n\",df.isna().sum())"
   ],
   "metadata": {
    "collapsed": false,
    "ExecuteTime": {
     "end_time": "2024-08-23T19:16:11.975079Z",
     "start_time": "2024-08-23T19:16:11.968070Z"
    }
   },
   "id": "c77623e4996809c8",
   "execution_count": 686
  },
  {
   "cell_type": "code",
   "outputs": [
    {
     "name": "stdout",
     "output_type": "stream",
     "text": [
      "<class 'pandas.core.frame.DataFrame'>\n",
      "RangeIndex: 8 entries, 0 to 7\n",
      "Data columns (total 4 columns):\n",
      " #   Column      Non-Null Count  Dtype  \n",
      "---  ------      --------------  -----  \n",
      " 0   dt          8 non-null      int64  \n",
      " 1   temp        8 non-null      object \n",
      " 2   wind_speed  8 non-null      float64\n",
      " 3   humidity    8 non-null      int64  \n",
      "dtypes: float64(1), int64(2), object(1)\n",
      "memory usage: 388.0+ bytes\n"
     ]
    }
   ],
   "source": [
    "df.info()"
   ],
   "metadata": {
    "collapsed": false,
    "ExecuteTime": {
     "end_time": "2024-08-23T19:16:12.417528Z",
     "start_time": "2024-08-23T19:16:12.409082Z"
    }
   },
   "id": "a4fba3e7d28a02a9",
   "execution_count": 687
  },
  {
   "cell_type": "code",
   "outputs": [
    {
     "data": {
      "text/plain": "           dt                                               temp  wind_speed  \\\n0  1724407200  {'day': 35.29, 'min': 23.27, 'max': 38.55, 'ni...        5.38   \n1  1724493600  {'day': 33.38, 'min': 22.47, 'max': 36.77, 'ni...        3.81   \n2  1724580000  {'day': 34.17, 'min': 20.89, 'max': 36.85, 'ni...        3.82   \n3  1724666400  {'day': 35.33, 'min': 22.1, 'max': 36.76, 'nig...        3.18   \n4  1724752800  {'day': 31.2, 'min': 20.24, 'max': 32.89, 'nig...        2.46   \n5  1724839200  {'day': 30.28, 'min': 20.59, 'max': 32.77, 'ni...        2.67   \n6  1724925600  {'day': 31.47, 'min': 22.1, 'max': 34.22, 'nig...        4.87   \n7  1725012000  {'day': 30.33, 'min': 20.79, 'max': 33.13, 'ni...        2.03   \n\n   humidity  \n0        23  \n1        23  \n2        23  \n3        24  \n4        34  \n5        41  \n6        30  \n7        33  ",
      "text/html": "<div>\n<style scoped>\n    .dataframe tbody tr th:only-of-type {\n        vertical-align: middle;\n    }\n\n    .dataframe tbody tr th {\n        vertical-align: top;\n    }\n\n    .dataframe thead th {\n        text-align: right;\n    }\n</style>\n<table border=\"1\" class=\"dataframe\">\n  <thead>\n    <tr style=\"text-align: right;\">\n      <th></th>\n      <th>dt</th>\n      <th>temp</th>\n      <th>wind_speed</th>\n      <th>humidity</th>\n    </tr>\n  </thead>\n  <tbody>\n    <tr>\n      <th>0</th>\n      <td>1724407200</td>\n      <td>{'day': 35.29, 'min': 23.27, 'max': 38.55, 'ni...</td>\n      <td>5.38</td>\n      <td>23</td>\n    </tr>\n    <tr>\n      <th>1</th>\n      <td>1724493600</td>\n      <td>{'day': 33.38, 'min': 22.47, 'max': 36.77, 'ni...</td>\n      <td>3.81</td>\n      <td>23</td>\n    </tr>\n    <tr>\n      <th>2</th>\n      <td>1724580000</td>\n      <td>{'day': 34.17, 'min': 20.89, 'max': 36.85, 'ni...</td>\n      <td>3.82</td>\n      <td>23</td>\n    </tr>\n    <tr>\n      <th>3</th>\n      <td>1724666400</td>\n      <td>{'day': 35.33, 'min': 22.1, 'max': 36.76, 'nig...</td>\n      <td>3.18</td>\n      <td>24</td>\n    </tr>\n    <tr>\n      <th>4</th>\n      <td>1724752800</td>\n      <td>{'day': 31.2, 'min': 20.24, 'max': 32.89, 'nig...</td>\n      <td>2.46</td>\n      <td>34</td>\n    </tr>\n    <tr>\n      <th>5</th>\n      <td>1724839200</td>\n      <td>{'day': 30.28, 'min': 20.59, 'max': 32.77, 'ni...</td>\n      <td>2.67</td>\n      <td>41</td>\n    </tr>\n    <tr>\n      <th>6</th>\n      <td>1724925600</td>\n      <td>{'day': 31.47, 'min': 22.1, 'max': 34.22, 'nig...</td>\n      <td>4.87</td>\n      <td>30</td>\n    </tr>\n    <tr>\n      <th>7</th>\n      <td>1725012000</td>\n      <td>{'day': 30.33, 'min': 20.79, 'max': 33.13, 'ni...</td>\n      <td>2.03</td>\n      <td>33</td>\n    </tr>\n  </tbody>\n</table>\n</div>"
     },
     "execution_count": 688,
     "metadata": {},
     "output_type": "execute_result"
    }
   ],
   "source": [
    "df"
   ],
   "metadata": {
    "collapsed": false,
    "ExecuteTime": {
     "end_time": "2024-08-23T19:16:12.670875Z",
     "start_time": "2024-08-23T19:16:12.660056Z"
    }
   },
   "id": "e19b8dd79d0202e5",
   "execution_count": 688
  },
  {
   "cell_type": "code",
   "outputs": [],
   "source": [
    "df['city'] = city_name\n",
    "df['datetime'] = pd.to_datetime(df['dt'],unit='s')\n",
    "df['datetime'] = df['datetime'].dt.strftime('%Y-%m-%d')"
   ],
   "metadata": {
    "collapsed": false,
    "ExecuteTime": {
     "end_time": "2024-08-23T19:16:13.038769Z",
     "start_time": "2024-08-23T19:16:13.032262Z"
    }
   },
   "id": "b7b4a0cea7f78d3",
   "execution_count": 689
  },
  {
   "cell_type": "code",
   "outputs": [
    {
     "data": {
      "text/plain": "           dt                                               temp  wind_speed  \\\n0  1724407200  {'day': 35.29, 'min': 23.27, 'max': 38.55, 'ni...        5.38   \n1  1724493600  {'day': 33.38, 'min': 22.47, 'max': 36.77, 'ni...        3.81   \n2  1724580000  {'day': 34.17, 'min': 20.89, 'max': 36.85, 'ni...        3.82   \n3  1724666400  {'day': 35.33, 'min': 22.1, 'max': 36.76, 'nig...        3.18   \n4  1724752800  {'day': 31.2, 'min': 20.24, 'max': 32.89, 'nig...        2.46   \n5  1724839200  {'day': 30.28, 'min': 20.59, 'max': 32.77, 'ni...        2.67   \n6  1724925600  {'day': 31.47, 'min': 22.1, 'max': 34.22, 'nig...        4.87   \n7  1725012000  {'day': 30.33, 'min': 20.79, 'max': 33.13, 'ni...        2.03   \n\n   humidity     city    datetime  \n0        23  Denizli  2024-08-23  \n1        23  Denizli  2024-08-24  \n2        23  Denizli  2024-08-25  \n3        24  Denizli  2024-08-26  \n4        34  Denizli  2024-08-27  \n5        41  Denizli  2024-08-28  \n6        30  Denizli  2024-08-29  \n7        33  Denizli  2024-08-30  ",
      "text/html": "<div>\n<style scoped>\n    .dataframe tbody tr th:only-of-type {\n        vertical-align: middle;\n    }\n\n    .dataframe tbody tr th {\n        vertical-align: top;\n    }\n\n    .dataframe thead th {\n        text-align: right;\n    }\n</style>\n<table border=\"1\" class=\"dataframe\">\n  <thead>\n    <tr style=\"text-align: right;\">\n      <th></th>\n      <th>dt</th>\n      <th>temp</th>\n      <th>wind_speed</th>\n      <th>humidity</th>\n      <th>city</th>\n      <th>datetime</th>\n    </tr>\n  </thead>\n  <tbody>\n    <tr>\n      <th>0</th>\n      <td>1724407200</td>\n      <td>{'day': 35.29, 'min': 23.27, 'max': 38.55, 'ni...</td>\n      <td>5.38</td>\n      <td>23</td>\n      <td>Denizli</td>\n      <td>2024-08-23</td>\n    </tr>\n    <tr>\n      <th>1</th>\n      <td>1724493600</td>\n      <td>{'day': 33.38, 'min': 22.47, 'max': 36.77, 'ni...</td>\n      <td>3.81</td>\n      <td>23</td>\n      <td>Denizli</td>\n      <td>2024-08-24</td>\n    </tr>\n    <tr>\n      <th>2</th>\n      <td>1724580000</td>\n      <td>{'day': 34.17, 'min': 20.89, 'max': 36.85, 'ni...</td>\n      <td>3.82</td>\n      <td>23</td>\n      <td>Denizli</td>\n      <td>2024-08-25</td>\n    </tr>\n    <tr>\n      <th>3</th>\n      <td>1724666400</td>\n      <td>{'day': 35.33, 'min': 22.1, 'max': 36.76, 'nig...</td>\n      <td>3.18</td>\n      <td>24</td>\n      <td>Denizli</td>\n      <td>2024-08-26</td>\n    </tr>\n    <tr>\n      <th>4</th>\n      <td>1724752800</td>\n      <td>{'day': 31.2, 'min': 20.24, 'max': 32.89, 'nig...</td>\n      <td>2.46</td>\n      <td>34</td>\n      <td>Denizli</td>\n      <td>2024-08-27</td>\n    </tr>\n    <tr>\n      <th>5</th>\n      <td>1724839200</td>\n      <td>{'day': 30.28, 'min': 20.59, 'max': 32.77, 'ni...</td>\n      <td>2.67</td>\n      <td>41</td>\n      <td>Denizli</td>\n      <td>2024-08-28</td>\n    </tr>\n    <tr>\n      <th>6</th>\n      <td>1724925600</td>\n      <td>{'day': 31.47, 'min': 22.1, 'max': 34.22, 'nig...</td>\n      <td>4.87</td>\n      <td>30</td>\n      <td>Denizli</td>\n      <td>2024-08-29</td>\n    </tr>\n    <tr>\n      <th>7</th>\n      <td>1725012000</td>\n      <td>{'day': 30.33, 'min': 20.79, 'max': 33.13, 'ni...</td>\n      <td>2.03</td>\n      <td>33</td>\n      <td>Denizli</td>\n      <td>2024-08-30</td>\n    </tr>\n  </tbody>\n</table>\n</div>"
     },
     "execution_count": 690,
     "metadata": {},
     "output_type": "execute_result"
    }
   ],
   "source": [
    "df"
   ],
   "metadata": {
    "collapsed": false,
    "ExecuteTime": {
     "end_time": "2024-08-23T19:16:13.715937Z",
     "start_time": "2024-08-23T19:16:13.704602Z"
    }
   },
   "id": "7386065cfff064a2",
   "execution_count": 690
  },
  {
   "cell_type": "markdown",
   "source": [
    "# Upload to influxDB"
   ],
   "metadata": {
    "collapsed": false
   },
   "id": "61467ddee9178ad"
  },
  {
   "cell_type": "code",
   "outputs": [],
   "source": [
    "#TODO"
   ],
   "metadata": {
    "collapsed": false,
    "ExecuteTime": {
     "end_time": "2024-08-23T19:16:15.830383Z",
     "start_time": "2024-08-23T19:16:15.826270Z"
    }
   },
   "id": "7d30b943d756f3a",
   "execution_count": 691
  },
  {
   "cell_type": "code",
   "outputs": [],
   "source": [
    "#TOKEN = A1VtmcwEllTbfPTCk2Qs0ZLXi4FxmYOgG5bZ6hXTsBdop24595FV7Ih9gutr4GLkNPYE46_F2Id2r2CRcjhGuQ==\n",
    "#TOKENCENG = fBAUCTCV-fhFJP-5O-2OX7wCjuLdGXAL2XiLsHqD2wj1ZFkS-_uWXC9oqTE2PK6-UpAv74uennRGTJDEBKYWqA=="
   ],
   "metadata": {
    "collapsed": false,
    "ExecuteTime": {
     "end_time": "2024-08-23T19:16:16.566217Z",
     "start_time": "2024-08-23T19:16:16.562436Z"
    }
   },
   "id": "ffeda42a3968e6ac",
   "execution_count": 692
  },
  {
   "cell_type": "code",
   "outputs": [],
   "source": [
    "import json\n",
    "data_json = df.to_json(orient='records')\n",
    "\n",
    "data_dict = json.loads(data_json)\n",
    "\n",
    "for entry in data_dict:\n",
    "    temp = entry['temp']\n",
    "    if 'night' in temp:\n",
    "        del temp['night']\n",
    "    if 'eve' in temp:\n",
    "        del temp['eve']\n",
    "    if 'morn' in temp:\n",
    "        del temp['morn']"
   ],
   "metadata": {
    "collapsed": false,
    "ExecuteTime": {
     "end_time": "2024-08-23T19:16:17.054938Z",
     "start_time": "2024-08-23T19:16:17.050043Z"
    }
   },
   "id": "fccdb32f04587b1d",
   "execution_count": 693
  },
  {
   "cell_type": "code",
   "outputs": [
    {
     "data": {
      "text/plain": "[{'dt': 1724407200,\n  'temp': {'day': 35.29, 'min': 23.27, 'max': 38.55},\n  'wind_speed': 5.38,\n  'humidity': 23,\n  'city': 'Denizli',\n  'datetime': '2024-08-23'},\n {'dt': 1724493600,\n  'temp': {'day': 33.38, 'min': 22.47, 'max': 36.77},\n  'wind_speed': 3.81,\n  'humidity': 23,\n  'city': 'Denizli',\n  'datetime': '2024-08-24'},\n {'dt': 1724580000,\n  'temp': {'day': 34.17, 'min': 20.89, 'max': 36.85},\n  'wind_speed': 3.82,\n  'humidity': 23,\n  'city': 'Denizli',\n  'datetime': '2024-08-25'},\n {'dt': 1724666400,\n  'temp': {'day': 35.33, 'min': 22.1, 'max': 36.76},\n  'wind_speed': 3.18,\n  'humidity': 24,\n  'city': 'Denizli',\n  'datetime': '2024-08-26'},\n {'dt': 1724752800,\n  'temp': {'day': 31.2, 'min': 20.24, 'max': 32.89},\n  'wind_speed': 2.46,\n  'humidity': 34,\n  'city': 'Denizli',\n  'datetime': '2024-08-27'},\n {'dt': 1724839200,\n  'temp': {'day': 30.28, 'min': 20.59, 'max': 32.77},\n  'wind_speed': 2.67,\n  'humidity': 41,\n  'city': 'Denizli',\n  'datetime': '2024-08-28'},\n {'dt': 1724925600,\n  'temp': {'day': 31.47, 'min': 22.1, 'max': 34.22},\n  'wind_speed': 4.87,\n  'humidity': 30,\n  'city': 'Denizli',\n  'datetime': '2024-08-29'},\n {'dt': 1725012000,\n  'temp': {'day': 30.33, 'min': 20.79, 'max': 33.13},\n  'wind_speed': 2.03,\n  'humidity': 33,\n  'city': 'Denizli',\n  'datetime': '2024-08-30'}]"
     },
     "execution_count": 694,
     "metadata": {},
     "output_type": "execute_result"
    }
   ],
   "source": [
    "data_dict"
   ],
   "metadata": {
    "collapsed": false,
    "ExecuteTime": {
     "end_time": "2024-08-23T19:16:22.534756Z",
     "start_time": "2024-08-23T19:16:22.527954Z"
    }
   },
   "id": "72a2a1425a6e071a",
   "execution_count": 694
  },
  {
   "cell_type": "code",
   "outputs": [
    {
     "name": "stdout",
     "output_type": "stream",
     "text": [
      "Complete. Return to the InfluxDB UI.\n"
     ]
    }
   ],
   "source": [
    "import time, json\n",
    "from influxdb_client_3 import InfluxDBClient3, Point, WritePrecision\n",
    "\n",
    "token = \"fBAUCTCV-fhFJP-5O-2OX7wCjuLdGXAL2XiLsHqD2wj1ZFkS-_uWXC9oqTE2PK6-UpAv74uennRGTJDEBKYWqA==\"\n",
    "org = \"Team\"\n",
    "host = \"https://eu-central-1-1.aws.cloud2.influxdata.com\"\n",
    "\n",
    "client = InfluxDBClient3(host=host, token=token, org=org)\n",
    "\n",
    "database=\"Test\"\n",
    "\n",
    "\n",
    "\n",
    "for entry in data_dict:\n",
    "    point = Point(\"weather\") \\\n",
    "        .tag(\"city\", entry[\"city\"]) \\\n",
    "        .time(\"_time\",entry[\"datetime\"])\\\n",
    "        .field(\"day\", entry[\"temp\"][\"day\"]) \\\n",
    "        .field(\"min\", entry[\"temp\"][\"min\"]) \\\n",
    "        .field(\"max\", entry[\"temp\"][\"max\"]) \\\n",
    "        .field(\"wind_speed\", entry[\"wind_speed\"]) \\\n",
    "        .field(\"humidity\", entry[\"humidity\"]) \\\n",
    "        .time(pd.to_datetime(entry[\"dt\"], unit='s'), WritePrecision.S)\n",
    "    \n",
    "    client.write(database=database,record=point)\n",
    "    time.sleep(1) # separate points by 1 second\n",
    "\n",
    "print(\"Complete. Return to the InfluxDB UI.\")"
   ],
   "metadata": {
    "collapsed": false,
    "ExecuteTime": {
     "end_time": "2024-08-23T19:16:47.561498Z",
     "start_time": "2024-08-23T19:16:38.481830Z"
    }
   },
   "id": "f8a2273c4f3660ac",
   "execution_count": 695
  },
  {
   "cell_type": "markdown",
   "source": [
    "# Get data from DB"
   ],
   "metadata": {
    "collapsed": false
   },
   "id": "315dc73931109c2f"
  },
  {
   "cell_type": "code",
   "outputs": [
    {
     "ename": "FlightUnavailableError",
     "evalue": "Flight returned unavailable error, with message: empty address list: . gRPC client debug context: UNKNOWN:empty address list:  {created_time:\"2024-08-23T19:38:22.7467676+00:00\", grpc_status:14}. Client context: IOError: Server never sent a data message. Detail: Internal",
     "output_type": "error",
     "traceback": [
      "\u001B[1;31m---------------------------------------------------------------------------\u001B[0m",
      "\u001B[1;31mFlightUnavailableError\u001B[0m                    Traceback (most recent call last)",
      "Cell \u001B[1;32mIn[715], line 13\u001B[0m\n\u001B[0;32m      9\u001B[0m client \u001B[38;5;241m=\u001B[39m InfluxDBClient3(host\u001B[38;5;241m=\u001B[39mhost,\n\u001B[0;32m     10\u001B[0m                          database\u001B[38;5;241m=\u001B[39m\u001B[38;5;124mf\u001B[39m\u001B[38;5;124m\"\u001B[39m\u001B[38;5;124mTest\u001B[39m\u001B[38;5;124m\"\u001B[39m,\n\u001B[0;32m     11\u001B[0m                          token\u001B[38;5;241m=\u001B[39mtoken)\n\u001B[0;32m     12\u001B[0m query \u001B[38;5;241m=\u001B[39m \u001B[38;5;124m\"\u001B[39m\u001B[38;5;124mSELECT * from weahter WHERE\u001B[39m\u001B[38;5;124m\"\u001B[39m\n\u001B[1;32m---> 13\u001B[0m pd \u001B[38;5;241m=\u001B[39m \u001B[43mclient\u001B[49m\u001B[38;5;241;43m.\u001B[39;49m\u001B[43mquery\u001B[49m\u001B[43m(\u001B[49m\u001B[43mquery\u001B[49m\u001B[38;5;241;43m=\u001B[39;49m\u001B[43mquery\u001B[49m\u001B[43m,\u001B[49m\u001B[43m \u001B[49m\u001B[43mmode\u001B[49m\u001B[38;5;241;43m=\u001B[39;49m\u001B[38;5;124;43m\"\u001B[39;49m\u001B[38;5;124;43mpandas\u001B[39;49m\u001B[38;5;124;43m\"\u001B[39;49m\u001B[43m)\u001B[49m\n\u001B[0;32m     14\u001B[0m \u001B[38;5;66;03m# Print the pandas DataFrame formatted as a Markdown table.\u001B[39;00m\n\u001B[0;32m     15\u001B[0m \u001B[38;5;28mprint\u001B[39m(pd\u001B[38;5;241m.\u001B[39mto_markdown())\n",
      "File \u001B[1;32mC:\\MFi\\weather-app\\venv\\Lib\\site-packages\\influxdb_client_3\\__init__.py:267\u001B[0m, in \u001B[0;36mInfluxDBClient3.query\u001B[1;34m(self, query, language, mode, database, **kwargs)\u001B[0m\n\u001B[0;32m    264\u001B[0m     database \u001B[38;5;241m=\u001B[39m \u001B[38;5;28mself\u001B[39m\u001B[38;5;241m.\u001B[39m_database\n\u001B[0;32m    266\u001B[0m \u001B[38;5;28;01mtry\u001B[39;00m:\n\u001B[1;32m--> 267\u001B[0m     \u001B[38;5;28;01mreturn\u001B[39;00m \u001B[38;5;28;43mself\u001B[39;49m\u001B[38;5;241;43m.\u001B[39;49m\u001B[43m_query_api\u001B[49m\u001B[38;5;241;43m.\u001B[39;49m\u001B[43mquery\u001B[49m\u001B[43m(\u001B[49m\u001B[43mquery\u001B[49m\u001B[38;5;241;43m=\u001B[39;49m\u001B[43mquery\u001B[49m\u001B[43m,\u001B[49m\u001B[43m \u001B[49m\u001B[43mlanguage\u001B[49m\u001B[38;5;241;43m=\u001B[39;49m\u001B[43mlanguage\u001B[49m\u001B[43m,\u001B[49m\u001B[43m \u001B[49m\u001B[43mmode\u001B[49m\u001B[38;5;241;43m=\u001B[39;49m\u001B[43mmode\u001B[49m\u001B[43m,\u001B[49m\u001B[43m \u001B[49m\u001B[43mdatabase\u001B[49m\u001B[38;5;241;43m=\u001B[39;49m\u001B[43mdatabase\u001B[49m\u001B[43m,\u001B[49m\u001B[43m \u001B[49m\u001B[38;5;241;43m*\u001B[39;49m\u001B[38;5;241;43m*\u001B[39;49m\u001B[43mkwargs\u001B[49m\u001B[43m)\u001B[49m\n\u001B[0;32m    268\u001B[0m \u001B[38;5;28;01mexcept\u001B[39;00m InfluxDBError \u001B[38;5;28;01mas\u001B[39;00m e:\n\u001B[0;32m    269\u001B[0m     \u001B[38;5;28;01mraise\u001B[39;00m e\n",
      "File \u001B[1;32mC:\\MFi\\weather-app\\venv\\Lib\\site-packages\\influxdb_client_3\\query\\query_api.py:97\u001B[0m, in \u001B[0;36mQueryApi.query\u001B[1;34m(self, query, language, mode, database, **kwargs)\u001B[0m\n\u001B[0;32m     95\u001B[0m     \u001B[38;5;28;01mreturn\u001B[39;00m mode_func() \u001B[38;5;28;01mif\u001B[39;00m \u001B[38;5;28mcallable\u001B[39m(mode_func) \u001B[38;5;28;01melse\u001B[39;00m mode_func\n\u001B[0;32m     96\u001B[0m \u001B[38;5;28;01mexcept\u001B[39;00m \u001B[38;5;167;01mException\u001B[39;00m \u001B[38;5;28;01mas\u001B[39;00m e:\n\u001B[1;32m---> 97\u001B[0m     \u001B[38;5;28;01mraise\u001B[39;00m e\n",
      "File \u001B[1;32mC:\\MFi\\weather-app\\venv\\Lib\\site-packages\\influxdb_client_3\\query\\query_api.py:81\u001B[0m, in \u001B[0;36mQueryApi.query\u001B[1;34m(self, query, language, mode, database, **kwargs)\u001B[0m\n\u001B[0;32m     78\u001B[0m     ticket_data[\u001B[38;5;124m\"\u001B[39m\u001B[38;5;124mparams\u001B[39m\u001B[38;5;124m\"\u001B[39m] \u001B[38;5;241m=\u001B[39m query_parameters\n\u001B[0;32m     80\u001B[0m ticket \u001B[38;5;241m=\u001B[39m Ticket(json\u001B[38;5;241m.\u001B[39mdumps(ticket_data)\u001B[38;5;241m.\u001B[39mencode(\u001B[38;5;124m'\u001B[39m\u001B[38;5;124mutf-8\u001B[39m\u001B[38;5;124m'\u001B[39m))\n\u001B[1;32m---> 81\u001B[0m flight_reader \u001B[38;5;241m=\u001B[39m \u001B[38;5;28;43mself\u001B[39;49m\u001B[38;5;241;43m.\u001B[39;49m\u001B[43m_do_get\u001B[49m\u001B[43m(\u001B[49m\u001B[43mticket\u001B[49m\u001B[43m,\u001B[49m\u001B[43m \u001B[49m\u001B[43m_options\u001B[49m\u001B[43m)\u001B[49m\n\u001B[0;32m     83\u001B[0m mode_funcs \u001B[38;5;241m=\u001B[39m {\n\u001B[0;32m     84\u001B[0m     \u001B[38;5;124m\"\u001B[39m\u001B[38;5;124mall\u001B[39m\u001B[38;5;124m\"\u001B[39m: flight_reader\u001B[38;5;241m.\u001B[39mread_all,\n\u001B[0;32m     85\u001B[0m     \u001B[38;5;124m\"\u001B[39m\u001B[38;5;124mpandas\u001B[39m\u001B[38;5;124m\"\u001B[39m: flight_reader\u001B[38;5;241m.\u001B[39mread_pandas,\n\u001B[1;32m   (...)\u001B[0m\n\u001B[0;32m     88\u001B[0m     \u001B[38;5;124m\"\u001B[39m\u001B[38;5;124mschema\u001B[39m\u001B[38;5;124m\"\u001B[39m: \u001B[38;5;28;01mlambda\u001B[39;00m: flight_reader\u001B[38;5;241m.\u001B[39mschema\n\u001B[0;32m     89\u001B[0m }\n\u001B[0;32m     90\u001B[0m \u001B[38;5;28;01mif\u001B[39;00m has_polars:\n",
      "File \u001B[1;32mC:\\MFi\\weather-app\\venv\\Lib\\site-packages\\influxdb_client_3\\query\\query_api.py:100\u001B[0m, in \u001B[0;36mQueryApi._do_get\u001B[1;34m(self, ticket, options)\u001B[0m\n\u001B[0;32m     99\u001B[0m \u001B[38;5;28;01mdef\u001B[39;00m \u001B[38;5;21m_do_get\u001B[39m(\u001B[38;5;28mself\u001B[39m, ticket: Ticket, options: FlightCallOptions \u001B[38;5;241m=\u001B[39m \u001B[38;5;28;01mNone\u001B[39;00m) \u001B[38;5;241m-\u001B[39m\u001B[38;5;241m>\u001B[39m FlightStreamReader:\n\u001B[1;32m--> 100\u001B[0m     \u001B[38;5;28;01mreturn\u001B[39;00m \u001B[38;5;28;43mself\u001B[39;49m\u001B[38;5;241;43m.\u001B[39;49m\u001B[43m_flight_client\u001B[49m\u001B[38;5;241;43m.\u001B[39;49m\u001B[43mdo_get\u001B[49m\u001B[43m(\u001B[49m\u001B[43mticket\u001B[49m\u001B[43m,\u001B[49m\u001B[43m \u001B[49m\u001B[43moptions\u001B[49m\u001B[43m)\u001B[49m\n",
      "File \u001B[1;32mC:\\MFi\\weather-app\\venv\\Lib\\site-packages\\pyarrow\\_flight.pyx:1633\u001B[0m, in \u001B[0;36mpyarrow._flight.FlightClient.do_get\u001B[1;34m()\u001B[0m\n",
      "File \u001B[1;32mC:\\MFi\\weather-app\\venv\\Lib\\site-packages\\pyarrow\\_flight.pyx:68\u001B[0m, in \u001B[0;36mpyarrow._flight.check_flight_status\u001B[1;34m()\u001B[0m\n",
      "\u001B[1;31mFlightUnavailableError\u001B[0m: Flight returned unavailable error, with message: empty address list: . gRPC client debug context: UNKNOWN:empty address list:  {created_time:\"2024-08-23T19:38:22.7467676+00:00\", grpc_status:14}. Client context: IOError: Server never sent a data message. Detail: Internal"
     ]
    }
   ],
   "source": [
    "from influxdb import InfluxDBClient\n",
    "token = \"fBAUCTCV-fhFJP-5O-2OX7wCjuLdGXAL2XiLsHqD2wj1ZFkS-_uWXC9oqTE2PK6-UpAv74uennRGTJDEBKYWqA==\"\n",
    "org = \"Team\"\n",
    "host = \"https://eu-central-1-1.aws.cloud2.influxdata.com\"\n",
    "\n",
    "\n",
    "client = InfluxDBClient3(host=host,\n",
    "                         database=f\"Test\",\n",
    "                         token=token)\n",
    "\n",
    "query = \"SELECT * from weahter WHERE\"\n",
    "\n",
    "pd = client.query(query=query, mode=\"pandas\")\n",
    "# Print the pandas DataFrame formatted as a Markdown table.\n",
    "print(pd.to_markdown())"
   ],
   "metadata": {
    "collapsed": false,
    "ExecuteTime": {
     "end_time": "2024-08-23T19:38:22.817976Z",
     "start_time": "2024-08-23T19:38:22.705452Z"
    }
   },
   "id": "2374d0d7cb3ce06d",
   "execution_count": 715
  },
  {
   "cell_type": "code",
   "outputs": [
    {
     "name": "stdout",
     "output_type": "stream",
     "text": [
      "|    | result   |   table | _start                           | _stop                            | _time                     |   _value | _field     | _measurement   | city    |\n",
      "|---:|:---------|--------:|:---------------------------------|:---------------------------------|:--------------------------|---------:|:-----------|:---------------|:--------|\n",
      "|  0 | _result  |       0 | 2024-08-22 19:41:03.294112+00:00 | 2024-08-23 19:41:03.294112+00:00 | 2024-08-23 10:00:00+00:00 |    35.29 | day        | weather        | Denizli |\n",
      "|  1 | _result  |       1 | 2024-08-22 19:41:03.294112+00:00 | 2024-08-23 19:41:03.294112+00:00 | 2024-08-23 10:00:00+00:00 |    23    | humidity   | weather        | Denizli |\n",
      "|  2 | _result  |       2 | 2024-08-22 19:41:03.294112+00:00 | 2024-08-23 19:41:03.294112+00:00 | 2024-08-23 10:00:00+00:00 |    38.55 | max        | weather        | Denizli |\n",
      "|  3 | _result  |       3 | 2024-08-22 19:41:03.294112+00:00 | 2024-08-23 19:41:03.294112+00:00 | 2024-08-23 10:00:00+00:00 |    23.27 | min        | weather        | Denizli |\n",
      "|  4 | _result  |       4 | 2024-08-22 19:41:03.294112+00:00 | 2024-08-23 19:41:03.294112+00:00 | 2024-08-23 10:00:00+00:00 |     5.38 | wind_speed | weather        | Denizli |\n"
     ]
    }
   ],
   "source": [
    "from influxdb_client import InfluxDBClient\n",
    "import pandas as pd\n",
    "\n",
    "token = \"fBAUCTCV-fhFJP-5O-2OX7wCjuLdGXAL2XiLsHqD2wj1ZFkS-_uWXC9oqTE2PK6-UpAv74uennRGTJDEBKYWqA==\"\n",
    "org = \"Team\"\n",
    "url = \"https://eu-central-1-1.aws.cloud2.influxdata.com\"\n",
    "bucket = \"Test\"\n",
    "\n",
    "client = InfluxDBClient(url=url, token=token, org=org)\n",
    "\n",
    "query = '''\n",
    "from(bucket: \"Test\")\n",
    "  |> range(start: -1d)  // Adjust the time range as needed\n",
    "  |> filter(fn: (r) => r[\"_measurement\"] == \"weather\")\n",
    "'''\n",
    "\n",
    "# Execute the query\n",
    "tables = client.query_api().query(query=query, org=org)\n",
    "\n",
    "# Convert to DataFrame\n",
    "df = pd.DataFrame([record.values for table in tables for record in table.records])\n",
    "\n",
    "# Print the DataFrame formatted as a Markdown table\n",
    "print(df.to_markdown())\n"
   ],
   "metadata": {
    "collapsed": false,
    "ExecuteTime": {
     "end_time": "2024-08-23T19:41:01.809202Z",
     "start_time": "2024-08-23T19:41:01.491130Z"
    }
   },
   "id": "b22158b32ad4d3f",
   "execution_count": 721
  },
  {
   "cell_type": "code",
   "outputs": [
    {
     "data": {
      "text/plain": "    result  table                           _start  \\\n0  _result      0 2024-08-22 19:41:03.294112+00:00   \n1  _result      1 2024-08-22 19:41:03.294112+00:00   \n2  _result      2 2024-08-22 19:41:03.294112+00:00   \n3  _result      3 2024-08-22 19:41:03.294112+00:00   \n4  _result      4 2024-08-22 19:41:03.294112+00:00   \n\n                             _stop                     _time  _value  \\\n0 2024-08-23 19:41:03.294112+00:00 2024-08-23 10:00:00+00:00   35.29   \n1 2024-08-23 19:41:03.294112+00:00 2024-08-23 10:00:00+00:00   23.00   \n2 2024-08-23 19:41:03.294112+00:00 2024-08-23 10:00:00+00:00   38.55   \n3 2024-08-23 19:41:03.294112+00:00 2024-08-23 10:00:00+00:00   23.27   \n4 2024-08-23 19:41:03.294112+00:00 2024-08-23 10:00:00+00:00    5.38   \n\n       _field _measurement     city  \n0         day      weather  Denizli  \n1    humidity      weather  Denizli  \n2         max      weather  Denizli  \n3         min      weather  Denizli  \n4  wind_speed      weather  Denizli  ",
      "text/html": "<div>\n<style scoped>\n    .dataframe tbody tr th:only-of-type {\n        vertical-align: middle;\n    }\n\n    .dataframe tbody tr th {\n        vertical-align: top;\n    }\n\n    .dataframe thead th {\n        text-align: right;\n    }\n</style>\n<table border=\"1\" class=\"dataframe\">\n  <thead>\n    <tr style=\"text-align: right;\">\n      <th></th>\n      <th>result</th>\n      <th>table</th>\n      <th>_start</th>\n      <th>_stop</th>\n      <th>_time</th>\n      <th>_value</th>\n      <th>_field</th>\n      <th>_measurement</th>\n      <th>city</th>\n    </tr>\n  </thead>\n  <tbody>\n    <tr>\n      <th>0</th>\n      <td>_result</td>\n      <td>0</td>\n      <td>2024-08-22 19:41:03.294112+00:00</td>\n      <td>2024-08-23 19:41:03.294112+00:00</td>\n      <td>2024-08-23 10:00:00+00:00</td>\n      <td>35.29</td>\n      <td>day</td>\n      <td>weather</td>\n      <td>Denizli</td>\n    </tr>\n    <tr>\n      <th>1</th>\n      <td>_result</td>\n      <td>1</td>\n      <td>2024-08-22 19:41:03.294112+00:00</td>\n      <td>2024-08-23 19:41:03.294112+00:00</td>\n      <td>2024-08-23 10:00:00+00:00</td>\n      <td>23.00</td>\n      <td>humidity</td>\n      <td>weather</td>\n      <td>Denizli</td>\n    </tr>\n    <tr>\n      <th>2</th>\n      <td>_result</td>\n      <td>2</td>\n      <td>2024-08-22 19:41:03.294112+00:00</td>\n      <td>2024-08-23 19:41:03.294112+00:00</td>\n      <td>2024-08-23 10:00:00+00:00</td>\n      <td>38.55</td>\n      <td>max</td>\n      <td>weather</td>\n      <td>Denizli</td>\n    </tr>\n    <tr>\n      <th>3</th>\n      <td>_result</td>\n      <td>3</td>\n      <td>2024-08-22 19:41:03.294112+00:00</td>\n      <td>2024-08-23 19:41:03.294112+00:00</td>\n      <td>2024-08-23 10:00:00+00:00</td>\n      <td>23.27</td>\n      <td>min</td>\n      <td>weather</td>\n      <td>Denizli</td>\n    </tr>\n    <tr>\n      <th>4</th>\n      <td>_result</td>\n      <td>4</td>\n      <td>2024-08-22 19:41:03.294112+00:00</td>\n      <td>2024-08-23 19:41:03.294112+00:00</td>\n      <td>2024-08-23 10:00:00+00:00</td>\n      <td>5.38</td>\n      <td>wind_speed</td>\n      <td>weather</td>\n      <td>Denizli</td>\n    </tr>\n  </tbody>\n</table>\n</div>"
     },
     "execution_count": 722,
     "metadata": {},
     "output_type": "execute_result"
    }
   ],
   "source": [
    "df"
   ],
   "metadata": {
    "collapsed": false,
    "ExecuteTime": {
     "end_time": "2024-08-23T19:41:02.075094Z",
     "start_time": "2024-08-23T19:41:02.064513Z"
    }
   },
   "id": "9e9cc9730813139a",
   "execution_count": 722
  },
  {
   "cell_type": "code",
   "outputs": [
    {
     "name": "stdout",
     "output_type": "stream",
     "text": [
      "Collecting tabulate\n",
      "  Obtaining dependency information for tabulate from https://files.pythonhosted.org/packages/40/44/4a5f08c96eb108af5cb50b41f76142f0afa346dfa99d5296fe7202a11854/tabulate-0.9.0-py3-none-any.whl.metadata\n",
      "  Downloading tabulate-0.9.0-py3-none-any.whl.metadata (34 kB)\n",
      "Downloading tabulate-0.9.0-py3-none-any.whl (35 kB)\n",
      "Installing collected packages: tabulate\n",
      "Successfully installed tabulate-0.9.0\n"
     ]
    },
    {
     "name": "stderr",
     "output_type": "stream",
     "text": [
      "\n",
      "[notice] A new release of pip is available: 23.2.1 -> 24.2\n",
      "[notice] To update, run: python.exe -m pip install --upgrade pip\n"
     ]
    }
   ],
   "source": [
    "#!pip install tabulate"
   ],
   "metadata": {
    "collapsed": false,
    "ExecuteTime": {
     "end_time": "2024-08-23T19:40:15.514883Z",
     "start_time": "2024-08-23T19:40:11.061696Z"
    }
   },
   "id": "3946221d43a37fc6",
   "execution_count": 718
  }
 ],
 "metadata": {
  "kernelspec": {
   "display_name": "Python 3",
   "language": "python",
   "name": "python3"
  },
  "language_info": {
   "codemirror_mode": {
    "name": "ipython",
    "version": 2
   },
   "file_extension": ".py",
   "mimetype": "text/x-python",
   "name": "python",
   "nbconvert_exporter": "python",
   "pygments_lexer": "ipython2",
   "version": "2.7.6"
  }
 },
 "nbformat": 4,
 "nbformat_minor": 5
}
