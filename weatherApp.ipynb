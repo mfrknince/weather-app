{
 "cells": [
  {
   "cell_type": "code",
   "execution_count": 82,
   "id": "initial_id",
   "metadata": {
    "collapsed": true,
    "ExecuteTime": {
     "end_time": "2024-08-23T22:29:50.866867Z",
     "start_time": "2024-08-23T22:29:50.863279Z"
    }
   },
   "outputs": [],
   "source": [
    "import requests\n",
    "import pandas as pd"
   ]
  },
  {
   "cell_type": "code",
   "outputs": [],
   "source": [
    "city = input(\"Enter City:\")"
   ],
   "metadata": {
    "collapsed": false,
    "ExecuteTime": {
     "end_time": "2024-08-23T22:29:54.597280Z",
     "start_time": "2024-08-23T22:29:50.959746Z"
    }
   },
   "id": "b8e090e9bb170e13",
   "execution_count": 83
  },
  {
   "cell_type": "code",
   "outputs": [],
   "source": [
    "api_key = '2d300cd42548efadf84eb44c352f98cf'"
   ],
   "metadata": {
    "collapsed": false,
    "ExecuteTime": {
     "end_time": "2024-08-23T22:29:54.604377Z",
     "start_time": "2024-08-23T22:29:54.599311Z"
    }
   },
   "id": "60ce5f1aa652fbed",
   "execution_count": 84
  },
  {
   "cell_type": "markdown",
   "source": [
    "# Find Coordinates by Name"
   ],
   "metadata": {
    "collapsed": false
   },
   "id": "2e6b4c5f198faafd"
  },
  {
   "cell_type": "code",
   "outputs": [],
   "source": [
    "url = f'http://api.openweathermap.org/geo/1.0/direct?q={city}&appid={api_key}'"
   ],
   "metadata": {
    "collapsed": false,
    "ExecuteTime": {
     "end_time": "2024-08-23T22:29:54.624905Z",
     "start_time": "2024-08-23T22:29:54.620829Z"
    }
   },
   "id": "5ff07fe4c99d57eb",
   "execution_count": 85
  },
  {
   "cell_type": "code",
   "outputs": [],
   "source": [
    "res = requests.get(url)\n",
    "data = res.json()"
   ],
   "metadata": {
    "collapsed": false,
    "ExecuteTime": {
     "end_time": "2024-08-23T22:29:54.873840Z",
     "start_time": "2024-08-23T22:29:54.680367Z"
    }
   },
   "id": "5dfd9e0d76813453",
   "execution_count": 86
  },
  {
   "cell_type": "code",
   "outputs": [
    {
     "data": {
      "text/plain": "[{'name': 'Denizli',\n  'local_names': {'ku': 'Denizlî',\n   'en': 'Denizli',\n   'ar': 'دنيزلي',\n   'ur': 'دنیزلی',\n   'ru': 'Денизли',\n   'hu': 'Denizli',\n   'el': 'Ντενιζλί',\n   'hi': 'डेनिज़ली',\n   'pt': 'Denizli',\n   'ja': 'デニズリ',\n   'ml': 'ഡെനിസ്ലി',\n   'tr': 'Denizli',\n   'fa': 'دنیزلی'},\n  'lat': 37.7833152,\n  'lon': 29.0844832,\n  'country': 'TR'}]"
     },
     "execution_count": 87,
     "metadata": {},
     "output_type": "execute_result"
    }
   ],
   "source": [
    "data"
   ],
   "metadata": {
    "collapsed": false,
    "ExecuteTime": {
     "end_time": "2024-08-23T22:29:54.882295Z",
     "start_time": "2024-08-23T22:29:54.875229Z"
    }
   },
   "id": "2b80df46cd407702",
   "execution_count": 87
  },
  {
   "cell_type": "code",
   "outputs": [],
   "source": [
    "city_name = data[0]['name']\n",
    "city_lat = data[0]['lat']\n",
    "city_lon = data[0]['lon']"
   ],
   "metadata": {
    "collapsed": false,
    "ExecuteTime": {
     "end_time": "2024-08-23T22:29:54.887849Z",
     "start_time": "2024-08-23T22:29:54.883870Z"
    }
   },
   "id": "d0063ec2d8db30bb",
   "execution_count": 88
  },
  {
   "cell_type": "markdown",
   "source": [
    "# Get Weather info"
   ],
   "metadata": {
    "collapsed": false
   },
   "id": "305b8d0aa7e7cbba"
  },
  {
   "cell_type": "code",
   "outputs": [],
   "source": [
    "\n",
    "url = f'https://api.openweathermap.org/data/3.0/onecall?lat={city_lat}&lon={city_lon}&units=metric&appid={api_key}'\n"
   ],
   "metadata": {
    "collapsed": false,
    "ExecuteTime": {
     "end_time": "2024-08-23T23:00:43.008405Z",
     "start_time": "2024-08-23T23:00:43.004144Z"
    }
   },
   "id": "1f259bc8b6abffd7",
   "execution_count": 110
  },
  {
   "cell_type": "code",
   "outputs": [],
   "source": [
    "\n",
    "res = requests.get(url)\n",
    "data = res.json()\n"
   ],
   "metadata": {
    "collapsed": false,
    "ExecuteTime": {
     "end_time": "2024-08-23T23:00:43.646056Z",
     "start_time": "2024-08-23T23:00:43.255215Z"
    }
   },
   "id": "788f50929f9a3b17",
   "execution_count": 111
  },
  {
   "cell_type": "code",
   "outputs": [
    {
     "data": {
      "text/plain": "{'lat': 37.7833,\n 'lon': 29.0845,\n 'timezone': 'Europe/Istanbul',\n 'timezone_offset': 10800,\n 'current': {'dt': 1724454045,\n  'sunrise': 1724470034,\n  'sunset': 1724517907,\n  'temp': 24.81,\n  'feels_like': 24.73,\n  'pressure': 1012,\n  'humidity': 53,\n  'dew_point': 14.59,\n  'uvi': 0,\n  'clouds': 17,\n  'visibility': 10000,\n  'wind_speed': 1.42,\n  'wind_deg': 349,\n  'wind_gust': 1.62,\n  'weather': [{'id': 801,\n    'main': 'Clouds',\n    'description': 'few clouds',\n    'icon': '02n'}]},\n 'minutely': [{'dt': 1724454060, 'precipitation': 0},\n  {'dt': 1724454120, 'precipitation': 0},\n  {'dt': 1724454180, 'precipitation': 0},\n  {'dt': 1724454240, 'precipitation': 0},\n  {'dt': 1724454300, 'precipitation': 0},\n  {'dt': 1724454360, 'precipitation': 0},\n  {'dt': 1724454420, 'precipitation': 0},\n  {'dt': 1724454480, 'precipitation': 0},\n  {'dt': 1724454540, 'precipitation': 0},\n  {'dt': 1724454600, 'precipitation': 0},\n  {'dt': 1724454660, 'precipitation': 0},\n  {'dt': 1724454720, 'precipitation': 0},\n  {'dt': 1724454780, 'precipitation': 0},\n  {'dt': 1724454840, 'precipitation': 0},\n  {'dt': 1724454900, 'precipitation': 0},\n  {'dt': 1724454960, 'precipitation': 0},\n  {'dt': 1724455020, 'precipitation': 0},\n  {'dt': 1724455080, 'precipitation': 0},\n  {'dt': 1724455140, 'precipitation': 0},\n  {'dt': 1724455200, 'precipitation': 0},\n  {'dt': 1724455260, 'precipitation': 0},\n  {'dt': 1724455320, 'precipitation': 0},\n  {'dt': 1724455380, 'precipitation': 0},\n  {'dt': 1724455440, 'precipitation': 0},\n  {'dt': 1724455500, 'precipitation': 0},\n  {'dt': 1724455560, 'precipitation': 0},\n  {'dt': 1724455620, 'precipitation': 0},\n  {'dt': 1724455680, 'precipitation': 0},\n  {'dt': 1724455740, 'precipitation': 0},\n  {'dt': 1724455800, 'precipitation': 0},\n  {'dt': 1724455860, 'precipitation': 0},\n  {'dt': 1724455920, 'precipitation': 0},\n  {'dt': 1724455980, 'precipitation': 0},\n  {'dt': 1724456040, 'precipitation': 0},\n  {'dt': 1724456100, 'precipitation': 0},\n  {'dt': 1724456160, 'precipitation': 0},\n  {'dt': 1724456220, 'precipitation': 0},\n  {'dt': 1724456280, 'precipitation': 0},\n  {'dt': 1724456340, 'precipitation': 0},\n  {'dt': 1724456400, 'precipitation': 0},\n  {'dt': 1724456460, 'precipitation': 0},\n  {'dt': 1724456520, 'precipitation': 0},\n  {'dt': 1724456580, 'precipitation': 0},\n  {'dt': 1724456640, 'precipitation': 0},\n  {'dt': 1724456700, 'precipitation': 0},\n  {'dt': 1724456760, 'precipitation': 0},\n  {'dt': 1724456820, 'precipitation': 0},\n  {'dt': 1724456880, 'precipitation': 0},\n  {'dt': 1724456940, 'precipitation': 0},\n  {'dt': 1724457000, 'precipitation': 0},\n  {'dt': 1724457060, 'precipitation': 0},\n  {'dt': 1724457120, 'precipitation': 0},\n  {'dt': 1724457180, 'precipitation': 0},\n  {'dt': 1724457240, 'precipitation': 0},\n  {'dt': 1724457300, 'precipitation': 0},\n  {'dt': 1724457360, 'precipitation': 0},\n  {'dt': 1724457420, 'precipitation': 0},\n  {'dt': 1724457480, 'precipitation': 0},\n  {'dt': 1724457540, 'precipitation': 0},\n  {'dt': 1724457600, 'precipitation': 0}],\n 'hourly': [{'dt': 1724454000,\n   'temp': 24.81,\n   'feels_like': 24.73,\n   'pressure': 1012,\n   'humidity': 53,\n   'dew_point': 14.59,\n   'uvi': 0,\n   'clouds': 17,\n   'visibility': 10000,\n   'wind_speed': 1.42,\n   'wind_deg': 349,\n   'wind_gust': 1.62,\n   'weather': [{'id': 801,\n     'main': 'Clouds',\n     'description': 'few clouds',\n     'icon': '02n'}],\n   'pop': 0},\n  {'dt': 1724457600,\n   'temp': 24.73,\n   'feels_like': 24.64,\n   'pressure': 1012,\n   'humidity': 53,\n   'dew_point': 14.51,\n   'uvi': 0,\n   'clouds': 16,\n   'visibility': 10000,\n   'wind_speed': 1.25,\n   'wind_deg': 344,\n   'wind_gust': 1.52,\n   'weather': [{'id': 801,\n     'main': 'Clouds',\n     'description': 'few clouds',\n     'icon': '02n'}],\n   'pop': 0},\n  {'dt': 1724461200,\n   'temp': 24.38,\n   'feels_like': 24.26,\n   'pressure': 1012,\n   'humidity': 53,\n   'dew_point': 14.19,\n   'uvi': 0,\n   'clouds': 10,\n   'visibility': 10000,\n   'wind_speed': 1.08,\n   'wind_deg': 346,\n   'wind_gust': 1.44,\n   'weather': [{'id': 800,\n     'main': 'Clear',\n     'description': 'clear sky',\n     'icon': '01n'}],\n   'pop': 0},\n  {'dt': 1724464800,\n   'temp': 23.76,\n   'feels_like': 23.6,\n   'pressure': 1013,\n   'humidity': 54,\n   'dew_point': 13.91,\n   'uvi': 0,\n   'clouds': 7,\n   'visibility': 10000,\n   'wind_speed': 0.82,\n   'wind_deg': 317,\n   'wind_gust': 1.31,\n   'weather': [{'id': 800,\n     'main': 'Clear',\n     'description': 'clear sky',\n     'icon': '01n'}],\n   'pop': 0},\n  {'dt': 1724468400,\n   'temp': 22.94,\n   'feels_like': 22.75,\n   'pressure': 1013,\n   'humidity': 56,\n   'dew_point': 13.7,\n   'uvi': 0,\n   'clouds': 3,\n   'visibility': 10000,\n   'wind_speed': 0.53,\n   'wind_deg': 345,\n   'wind_gust': 1.26,\n   'weather': [{'id': 800,\n     'main': 'Clear',\n     'description': 'clear sky',\n     'icon': '01n'}],\n   'pop': 0},\n  {'dt': 1724472000,\n   'temp': 23.2,\n   'feels_like': 22.96,\n   'pressure': 1013,\n   'humidity': 53,\n   'dew_point': 11.41,\n   'uvi': 0.11,\n   'clouds': 0,\n   'visibility': 10000,\n   'wind_speed': 0.61,\n   'wind_deg': 342,\n   'wind_gust': 1.22,\n   'weather': [{'id': 800,\n     'main': 'Clear',\n     'description': 'clear sky',\n     'icon': '01d'}],\n   'pop': 0},\n  {'dt': 1724475600,\n   'temp': 25.55,\n   'feels_like': 25.34,\n   'pressure': 1013,\n   'humidity': 45,\n   'dew_point': 11,\n   'uvi': 0.68,\n   'clouds': 0,\n   'visibility': 10000,\n   'wind_speed': 1.28,\n   'wind_deg': 346,\n   'wind_gust': 1.65,\n   'weather': [{'id': 800,\n     'main': 'Clear',\n     'description': 'clear sky',\n     'icon': '01d'}],\n   'pop': 0},\n  {'dt': 1724479200,\n   'temp': 26.87,\n   'feels_like': 26.82,\n   'pressure': 1013,\n   'humidity': 41,\n   'dew_point': 10.7,\n   'uvi': 1.96,\n   'clouds': 0,\n   'visibility': 10000,\n   'wind_speed': 1.89,\n   'wind_deg': 355,\n   'wind_gust': 2.06,\n   'weather': [{'id': 800,\n     'main': 'Clear',\n     'description': 'clear sky',\n     'icon': '01d'}],\n   'pop': 0},\n  {'dt': 1724482800,\n   'temp': 28.42,\n   'feels_like': 27.76,\n   'pressure': 1013,\n   'humidity': 36,\n   'dew_point': 10.26,\n   'uvi': 4,\n   'clouds': 0,\n   'visibility': 10000,\n   'wind_speed': 2.32,\n   'wind_deg': 355,\n   'wind_gust': 2.43,\n   'weather': [{'id': 800,\n     'main': 'Clear',\n     'description': 'clear sky',\n     'icon': '01d'}],\n   'pop': 0},\n  {'dt': 1724486400,\n   'temp': 30.18,\n   'feels_like': 29.08,\n   'pressure': 1013,\n   'humidity': 32,\n   'dew_point': 9.81,\n   'uvi': 6.19,\n   'clouds': 0,\n   'visibility': 10000,\n   'wind_speed': 2.59,\n   'wind_deg': 348,\n   'wind_gust': 2.87,\n   'weather': [{'id': 800,\n     'main': 'Clear',\n     'description': 'clear sky',\n     'icon': '01d'}],\n   'pop': 0},\n  {'dt': 1724490000,\n   'temp': 31.71,\n   'feels_like': 30.29,\n   'pressure': 1012,\n   'humidity': 28,\n   'dew_point': 9.25,\n   'uvi': 7.92,\n   'clouds': 0,\n   'visibility': 10000,\n   'wind_speed': 2.59,\n   'wind_deg': 344,\n   'wind_gust': 3.13,\n   'weather': [{'id': 800,\n     'main': 'Clear',\n     'description': 'clear sky',\n     'icon': '01d'}],\n   'pop': 0},\n  {'dt': 1724493600,\n   'temp': 33.38,\n   'feels_like': 31.59,\n   'pressure': 1011,\n   'humidity': 23,\n   'dew_point': 8.03,\n   'uvi': 8.59,\n   'clouds': 0,\n   'visibility': 10000,\n   'wind_speed': 2.38,\n   'wind_deg': 346,\n   'wind_gust': 3.32,\n   'weather': [{'id': 800,\n     'main': 'Clear',\n     'description': 'clear sky',\n     'icon': '01d'}],\n   'pop': 0},\n  {'dt': 1724497200,\n   'temp': 34.99,\n   'feels_like': 32.92,\n   'pressure': 1010,\n   'humidity': 19,\n   'dew_point': 6.45,\n   'uvi': 7.99,\n   'clouds': 0,\n   'visibility': 10000,\n   'wind_speed': 2.52,\n   'wind_deg': 355,\n   'wind_gust': 3.32,\n   'weather': [{'id': 800,\n     'main': 'Clear',\n     'description': 'clear sky',\n     'icon': '01d'}],\n   'pop': 0},\n  {'dt': 1724500800,\n   'temp': 36.08,\n   'feels_like': 33.77,\n   'pressure': 1009,\n   'humidity': 16,\n   'dew_point': 5.12,\n   'uvi': 6.37,\n   'clouds': 0,\n   'visibility': 10000,\n   'wind_speed': 2.83,\n   'wind_deg': 2,\n   'wind_gust': 3.43,\n   'weather': [{'id': 800,\n     'main': 'Clear',\n     'description': 'clear sky',\n     'icon': '01d'}],\n   'pop': 0},\n  {'dt': 1724504400,\n   'temp': 36.59,\n   'feels_like': 34.2,\n   'pressure': 1008,\n   'humidity': 15,\n   'dew_point': 4.32,\n   'uvi': 4.18,\n   'clouds': 0,\n   'visibility': 10000,\n   'wind_speed': 3.23,\n   'wind_deg': 360,\n   'wind_gust': 3.78,\n   'weather': [{'id': 800,\n     'main': 'Clear',\n     'description': 'clear sky',\n     'icon': '01d'}],\n   'pop': 0},\n  {'dt': 1724508000,\n   'temp': 36.77,\n   'feels_like': 34.27,\n   'pressure': 1008,\n   'humidity': 14,\n   'dew_point': 3.9,\n   'uvi': 2.15,\n   'clouds': 0,\n   'visibility': 10000,\n   'wind_speed': 3.81,\n   'wind_deg': 356,\n   'wind_gust': 4.06,\n   'weather': [{'id': 800,\n     'main': 'Clear',\n     'description': 'clear sky',\n     'icon': '01d'}],\n   'pop': 0},\n  {'dt': 1724511600,\n   'temp': 36.16,\n   'feels_like': 33.75,\n   'pressure': 1007,\n   'humidity': 15,\n   'dew_point': 3.9,\n   'uvi': 0.78,\n   'clouds': 0,\n   'visibility': 10000,\n   'wind_speed': 3.69,\n   'wind_deg': 354,\n   'wind_gust': 4.11,\n   'weather': [{'id': 800,\n     'main': 'Clear',\n     'description': 'clear sky',\n     'icon': '01d'}],\n   'pop': 0},\n  {'dt': 1724515200,\n   'temp': 34.57,\n   'feels_like': 32.29,\n   'pressure': 1007,\n   'humidity': 17,\n   'dew_point': 4.39,\n   'uvi': 0.16,\n   'clouds': 0,\n   'visibility': 10000,\n   'wind_speed': 2.77,\n   'wind_deg': 348,\n   'wind_gust': 3.91,\n   'weather': [{'id': 800,\n     'main': 'Clear',\n     'description': 'clear sky',\n     'icon': '01d'}],\n   'pop': 0},\n  {'dt': 1724518800,\n   'temp': 29.9,\n   'feels_like': 28.23,\n   'pressure': 1007,\n   'humidity': 22,\n   'dew_point': 4.61,\n   'uvi': 0,\n   'clouds': 0,\n   'visibility': 10000,\n   'wind_speed': 2.3,\n   'wind_deg': 342,\n   'wind_gust': 3.15,\n   'weather': [{'id': 800,\n     'main': 'Clear',\n     'description': 'clear sky',\n     'icon': '01n'}],\n   'pop': 0},\n  {'dt': 1724522400,\n   'temp': 27.52,\n   'feels_like': 26.68,\n   'pressure': 1008,\n   'humidity': 28,\n   'dew_point': 5.99,\n   'uvi': 0,\n   'clouds': 0,\n   'visibility': 10000,\n   'wind_speed': 1.57,\n   'wind_deg': 329,\n   'wind_gust': 2.72,\n   'weather': [{'id': 800,\n     'main': 'Clear',\n     'description': 'clear sky',\n     'icon': '01n'}],\n   'pop': 0},\n  {'dt': 1724526000,\n   'temp': 27.56,\n   'feels_like': 26.79,\n   'pressure': 1009,\n   'humidity': 30,\n   'dew_point': 6.71,\n   'uvi': 0,\n   'clouds': 0,\n   'visibility': 10000,\n   'wind_speed': 1.82,\n   'wind_deg': 271,\n   'wind_gust': 2.26,\n   'weather': [{'id': 800,\n     'main': 'Clear',\n     'description': 'clear sky',\n     'icon': '01n'}],\n   'pop': 0},\n  {'dt': 1724529600,\n   'temp': 27.26,\n   'feels_like': 26.63,\n   'pressure': 1009,\n   'humidity': 31,\n   'dew_point': 7.1,\n   'uvi': 0,\n   'clouds': 0,\n   'visibility': 10000,\n   'wind_speed': 2.48,\n   'wind_deg': 324,\n   'wind_gust': 2.58,\n   'weather': [{'id': 800,\n     'main': 'Clear',\n     'description': 'clear sky',\n     'icon': '01n'}],\n   'pop': 0},\n  {'dt': 1724533200,\n   'temp': 25.52,\n   'feels_like': 25.07,\n   'pressure': 1010,\n   'humidity': 36,\n   'dew_point': 7.66,\n   'uvi': 0,\n   'clouds': 0,\n   'visibility': 10000,\n   'wind_speed': 1.98,\n   'wind_deg': 328,\n   'wind_gust': 2.34,\n   'weather': [{'id': 800,\n     'main': 'Clear',\n     'description': 'clear sky',\n     'icon': '01n'}],\n   'pop': 0},\n  {'dt': 1724536800,\n   'temp': 24.29,\n   'feels_like': 23.82,\n   'pressure': 1010,\n   'humidity': 40,\n   'dew_point': 8.01,\n   'uvi': 0,\n   'clouds': 0,\n   'visibility': 10000,\n   'wind_speed': 1.22,\n   'wind_deg': 315,\n   'wind_gust': 1.87,\n   'weather': [{'id': 800,\n     'main': 'Clear',\n     'description': 'clear sky',\n     'icon': '01n'}],\n   'pop': 0},\n  {'dt': 1724540400,\n   'temp': 23.41,\n   'feels_like': 22.93,\n   'pressure': 1010,\n   'humidity': 43,\n   'dew_point': 8.16,\n   'uvi': 0,\n   'clouds': 0,\n   'visibility': 10000,\n   'wind_speed': 0.8,\n   'wind_deg': 300,\n   'wind_gust': 1.34,\n   'weather': [{'id': 800,\n     'main': 'Clear',\n     'description': 'clear sky',\n     'icon': '01n'}],\n   'pop': 0},\n  {'dt': 1724544000,\n   'temp': 22.6,\n   'feels_like': 22.06,\n   'pressure': 1009,\n   'humidity': 44,\n   'dew_point': 8.15,\n   'uvi': 0,\n   'clouds': 0,\n   'visibility': 10000,\n   'wind_speed': 0.53,\n   'wind_deg': 344,\n   'wind_gust': 1.14,\n   'weather': [{'id': 800,\n     'main': 'Clear',\n     'description': 'clear sky',\n     'icon': '01n'}],\n   'pop': 0},\n  {'dt': 1724547600,\n   'temp': 22.07,\n   'feels_like': 21.51,\n   'pressure': 1009,\n   'humidity': 45,\n   'dew_point': 7.97,\n   'uvi': 0,\n   'clouds': 0,\n   'visibility': 10000,\n   'wind_speed': 0.65,\n   'wind_deg': 356,\n   'wind_gust': 1.15,\n   'weather': [{'id': 800,\n     'main': 'Clear',\n     'description': 'clear sky',\n     'icon': '01n'}],\n   'pop': 0},\n  {'dt': 1724551200,\n   'temp': 21.42,\n   'feels_like': 20.84,\n   'pressure': 1009,\n   'humidity': 47,\n   'dew_point': 7.82,\n   'uvi': 0,\n   'clouds': 0,\n   'visibility': 10000,\n   'wind_speed': 0.44,\n   'wind_deg': 359,\n   'wind_gust': 1.1,\n   'weather': [{'id': 800,\n     'main': 'Clear',\n     'description': 'clear sky',\n     'icon': '01n'}],\n   'pop': 0},\n  {'dt': 1724554800,\n   'temp': 20.89,\n   'feels_like': 20.31,\n   'pressure': 1009,\n   'humidity': 49,\n   'dew_point': 7.9,\n   'uvi': 0,\n   'clouds': 0,\n   'visibility': 10000,\n   'wind_speed': 0.24,\n   'wind_deg': 2,\n   'wind_gust': 1.08,\n   'weather': [{'id': 800,\n     'main': 'Clear',\n     'description': 'clear sky',\n     'icon': '01n'}],\n   'pop': 0},\n  {'dt': 1724558400,\n   'temp': 21.9,\n   'feels_like': 21.37,\n   'pressure': 1009,\n   'humidity': 47,\n   'dew_point': 8.33,\n   'uvi': 0.1,\n   'clouds': 0,\n   'visibility': 10000,\n   'wind_speed': 0.33,\n   'wind_deg': 25,\n   'wind_gust': 0.96,\n   'weather': [{'id': 800,\n     'main': 'Clear',\n     'description': 'clear sky',\n     'icon': '01d'}],\n   'pop': 0},\n  {'dt': 1724562000,\n   'temp': 25.17,\n   'feels_like': 24.76,\n   'pressure': 1009,\n   'humidity': 39,\n   'dew_point': 8.41,\n   'uvi': 0.63,\n   'clouds': 0,\n   'visibility': 10000,\n   'wind_speed': 0.68,\n   'wind_deg': 21,\n   'wind_gust': 0.94,\n   'weather': [{'id': 800,\n     'main': 'Clear',\n     'description': 'clear sky',\n     'icon': '01d'}],\n   'pop': 0},\n  {'dt': 1724565600,\n   'temp': 27.11,\n   'feels_like': 26.75,\n   'pressure': 1008,\n   'humidity': 36,\n   'dew_point': 8.91,\n   'uvi': 1.81,\n   'clouds': 0,\n   'visibility': 10000,\n   'wind_speed': 1.38,\n   'wind_deg': 31,\n   'wind_gust': 1.39,\n   'weather': [{'id': 800,\n     'main': 'Clear',\n     'description': 'clear sky',\n     'icon': '01d'}],\n   'pop': 0},\n  {'dt': 1724569200,\n   'temp': 28.89,\n   'feels_like': 27.96,\n   'pressure': 1008,\n   'humidity': 33,\n   'dew_point': 9.15,\n   'uvi': 3.64,\n   'clouds': 0,\n   'visibility': 10000,\n   'wind_speed': 1.81,\n   'wind_deg': 15,\n   'wind_gust': 1.54,\n   'weather': [{'id': 800,\n     'main': 'Clear',\n     'description': 'clear sky',\n     'icon': '01d'}],\n   'pop': 0},\n  {'dt': 1724572800,\n   'temp': 30.72,\n   'feels_like': 29.36,\n   'pressure': 1008,\n   'humidity': 29,\n   'dew_point': 9.31,\n   'uvi': 5.71,\n   'clouds': 0,\n   'visibility': 10000,\n   'wind_speed': 1.8,\n   'wind_deg': 12,\n   'wind_gust': 1.62,\n   'weather': [{'id': 800,\n     'main': 'Clear',\n     'description': 'clear sky',\n     'icon': '01d'}],\n   'pop': 0},\n  {'dt': 1724576400,\n   'temp': 32.49,\n   'feels_like': 30.93,\n   'pressure': 1007,\n   'humidity': 26,\n   'dew_point': 9.21,\n   'uvi': 7.39,\n   'clouds': 0,\n   'visibility': 10000,\n   'wind_speed': 1.94,\n   'wind_deg': 2,\n   'wind_gust': 1.83,\n   'weather': [{'id': 800,\n     'main': 'Clear',\n     'description': 'clear sky',\n     'icon': '01d'}],\n   'pop': 0},\n  {'dt': 1724580000,\n   'temp': 34.17,\n   'feels_like': 32.47,\n   'pressure': 1006,\n   'humidity': 23,\n   'dew_point': 8.93,\n   'uvi': 8.05,\n   'clouds': 0,\n   'visibility': 10000,\n   'wind_speed': 2.25,\n   'wind_deg': 359,\n   'wind_gust': 2.43,\n   'weather': [{'id': 800,\n     'main': 'Clear',\n     'description': 'clear sky',\n     'icon': '01d'}],\n   'pop': 0},\n  {'dt': 1724583600,\n   'temp': 35.42,\n   'feels_like': 33.65,\n   'pressure': 1005,\n   'humidity': 21,\n   'dew_point': 8.37,\n   'uvi': 7.55,\n   'clouds': 0,\n   'visibility': 10000,\n   'wind_speed': 2.41,\n   'wind_deg': 350,\n   'wind_gust': 3.14,\n   'weather': [{'id': 800,\n     'main': 'Clear',\n     'description': 'clear sky',\n     'icon': '01d'}],\n   'pop': 0},\n  {'dt': 1724587200,\n   'temp': 36.47,\n   'feels_like': 34.59,\n   'pressure': 1005,\n   'humidity': 19,\n   'dew_point': 7.56,\n   'uvi': 5.99,\n   'clouds': 0,\n   'visibility': 10000,\n   'wind_speed': 3.04,\n   'wind_deg': 334,\n   'wind_gust': 3.86,\n   'weather': [{'id': 800,\n     'main': 'Clear',\n     'description': 'clear sky',\n     'icon': '01d'}],\n   'pop': 0},\n  {'dt': 1724590800,\n   'temp': 36.84,\n   'feels_like': 34.72,\n   'pressure': 1004,\n   'humidity': 17,\n   'dew_point': 6.57,\n   'uvi': 3.88,\n   'clouds': 0,\n   'visibility': 10000,\n   'wind_speed': 3.37,\n   'wind_deg': 329,\n   'wind_gust': 4.06,\n   'weather': [{'id': 800,\n     'main': 'Clear',\n     'description': 'clear sky',\n     'icon': '01d'}],\n   'pop': 0},\n  {'dt': 1724594400,\n   'temp': 36.85,\n   'feels_like': 34.73,\n   'pressure': 1003,\n   'humidity': 17,\n   'dew_point': 6.13,\n   'uvi': 1.99,\n   'clouds': 0,\n   'visibility': 10000,\n   'wind_speed': 3.78,\n   'wind_deg': 336,\n   'wind_gust': 3.87,\n   'weather': [{'id': 800,\n     'main': 'Clear',\n     'description': 'clear sky',\n     'icon': '01d'}],\n   'pop': 0},\n  {'dt': 1724598000,\n   'temp': 36.15,\n   'feels_like': 33.96,\n   'pressure': 1003,\n   'humidity': 17,\n   'dew_point': 5.97,\n   'uvi': 0.73,\n   'clouds': 1,\n   'visibility': 10000,\n   'wind_speed': 3.82,\n   'wind_deg': 332,\n   'wind_gust': 4.07,\n   'weather': [{'id': 800,\n     'main': 'Clear',\n     'description': 'clear sky',\n     'icon': '01d'}],\n   'pop': 0},\n  {'dt': 1724601600,\n   'temp': 34.37,\n   'feels_like': 32.26,\n   'pressure': 1003,\n   'humidity': 19,\n   'dew_point': 6.13,\n   'uvi': 0.15,\n   'clouds': 5,\n   'visibility': 10000,\n   'wind_speed': 2.39,\n   'wind_deg': 347,\n   'wind_gust': 2.32,\n   'weather': [{'id': 800,\n     'main': 'Clear',\n     'description': 'clear sky',\n     'icon': '01d'}],\n   'pop': 0},\n  {'dt': 1724605200,\n   'temp': 29.97,\n   'feels_like': 28.42,\n   'pressure': 1004,\n   'humidity': 25,\n   'dew_point': 6.27,\n   'uvi': 0,\n   'clouds': 14,\n   'visibility': 10000,\n   'wind_speed': 1.49,\n   'wind_deg': 277,\n   'wind_gust': 1.18,\n   'weather': [{'id': 801,\n     'main': 'Clouds',\n     'description': 'few clouds',\n     'icon': '02n'}],\n   'pop': 0},\n  {'dt': 1724608800,\n   'temp': 29.08,\n   'feels_like': 27.83,\n   'pressure': 1005,\n   'humidity': 28,\n   'dew_point': 6.99,\n   'uvi': 0,\n   'clouds': 15,\n   'visibility': 10000,\n   'wind_speed': 3.04,\n   'wind_deg': 222,\n   'wind_gust': 3.1,\n   'weather': [{'id': 801,\n     'main': 'Clouds',\n     'description': 'few clouds',\n     'icon': '02n'}],\n   'pop': 0},\n  {'dt': 1724612400,\n   'temp': 27.88,\n   'feels_like': 27.15,\n   'pressure': 1006,\n   'humidity': 33,\n   'dew_point': 8.42,\n   'uvi': 0,\n   'clouds': 0,\n   'visibility': 10000,\n   'wind_speed': 2.97,\n   'wind_deg': 217,\n   'wind_gust': 2.59,\n   'weather': [{'id': 800,\n     'main': 'Clear',\n     'description': 'clear sky',\n     'icon': '01n'}],\n   'pop': 0},\n  {'dt': 1724616000,\n   'temp': 26.57,\n   'feels_like': 26.57,\n   'pressure': 1006,\n   'humidity': 41,\n   'dew_point': 10.2,\n   'uvi': 0,\n   'clouds': 0,\n   'visibility': 10000,\n   'wind_speed': 2.39,\n   'wind_deg': 213,\n   'wind_gust': 2.08,\n   'weather': [{'id': 800,\n     'main': 'Clear',\n     'description': 'clear sky',\n     'icon': '01n'}],\n   'pop': 0},\n  {'dt': 1724619600,\n   'temp': 25.65,\n   'feels_like': 25.5,\n   'pressure': 1007,\n   'humidity': 47,\n   'dew_point': 11.69,\n   'uvi': 0,\n   'clouds': 0,\n   'visibility': 10000,\n   'wind_speed': 2.14,\n   'wind_deg': 197,\n   'wind_gust': 2.05,\n   'weather': [{'id': 800,\n     'main': 'Clear',\n     'description': 'clear sky',\n     'icon': '01n'}],\n   'pop': 0},\n  {'dt': 1724623200,\n   'temp': 24.96,\n   'feels_like': 24.9,\n   'pressure': 1007,\n   'humidity': 53,\n   'dew_point': 12.81,\n   'uvi': 0,\n   'clouds': 0,\n   'visibility': 10000,\n   'wind_speed': 1.93,\n   'wind_deg': 194,\n   'wind_gust': 1.99,\n   'weather': [{'id': 800,\n     'main': 'Clear',\n     'description': 'clear sky',\n     'icon': '01n'}],\n   'pop': 0}],\n 'daily': [{'dt': 1724493600,\n   'sunrise': 1724470034,\n   'sunset': 1724517907,\n   'moonrise': 1724527440,\n   'moonset': 1724489340,\n   'moon_phase': 0.68,\n   'summary': 'There will be partly cloudy until morning, then clearing',\n   'temp': {'day': 33.38,\n    'min': 22.94,\n    'max': 36.77,\n    'night': 27.26,\n    'eve': 34.57,\n    'morn': 23.2},\n   'feels_like': {'day': 31.59, 'night': 26.63, 'eve': 32.29, 'morn': 22.96},\n   'pressure': 1011,\n   'humidity': 23,\n   'dew_point': 8.03,\n   'wind_speed': 3.81,\n   'wind_deg': 356,\n   'wind_gust': 4.11,\n   'weather': [{'id': 800,\n     'main': 'Clear',\n     'description': 'clear sky',\n     'icon': '01d'}],\n   'clouds': 0,\n   'pop': 0,\n   'uvi': 8.59},\n  {'dt': 1724580000,\n   'sunrise': 1724556486,\n   'sunset': 1724604223,\n   'moonrise': 1724616000,\n   'moonset': 1724580180,\n   'moon_phase': 0.71,\n   'summary': 'Expect a day of partly cloudy with clear spells',\n   'temp': {'day': 34.17,\n    'min': 20.89,\n    'max': 36.85,\n    'night': 26.57,\n    'eve': 34.37,\n    'morn': 21.9},\n   'feels_like': {'day': 32.47, 'night': 26.57, 'eve': 32.26, 'morn': 21.37},\n   'pressure': 1006,\n   'humidity': 23,\n   'dew_point': 8.93,\n   'wind_speed': 3.82,\n   'wind_deg': 332,\n   'wind_gust': 4.07,\n   'weather': [{'id': 800,\n     'main': 'Clear',\n     'description': 'clear sky',\n     'icon': '01d'}],\n   'clouds': 0,\n   'pop': 0,\n   'uvi': 8.05},\n  {'dt': 1724666400,\n   'sunrise': 1724642937,\n   'sunset': 1724690539,\n   'moonrise': 1724704920,\n   'moonset': 1724670960,\n   'moon_phase': 0.75,\n   'summary': 'Expect a day of partly cloudy with rain',\n   'temp': {'day': 35.33,\n    'min': 22.1,\n    'max': 36.76,\n    'night': 22.6,\n    'eve': 27.7,\n    'morn': 23.22},\n   'feels_like': {'day': 34, 'night': 22.64, 'eve': 27.74, 'morn': 23.14},\n   'pressure': 1006,\n   'humidity': 24,\n   'dew_point': 9.98,\n   'wind_speed': 3.18,\n   'wind_deg': 316,\n   'wind_gust': 6.58,\n   'weather': [{'id': 500,\n     'main': 'Rain',\n     'description': 'light rain',\n     'icon': '10d'}],\n   'clouds': 0,\n   'pop': 1,\n   'rain': 0.92,\n   'uvi': 7.88},\n  {'dt': 1724752800,\n   'sunrise': 1724729388,\n   'sunset': 1724776853,\n   'moonrise': 0,\n   'moonset': 1724761500,\n   'moon_phase': 0.78,\n   'summary': 'Expect a day of partly cloudy with rain',\n   'temp': {'day': 31.2,\n    'min': 20.24,\n    'max': 32.89,\n    'night': 24.91,\n    'eve': 31.86,\n    'morn': 20.24},\n   'feels_like': {'day': 30.37, 'night': 24.97, 'eve': 30.77, 'morn': 20.15},\n   'pressure': 1009,\n   'humidity': 34,\n   'dew_point': 12.09,\n   'wind_speed': 2.46,\n   'wind_deg': 287,\n   'wind_gust': 4.03,\n   'weather': [{'id': 500,\n     'main': 'Rain',\n     'description': 'light rain',\n     'icon': '10d'}],\n   'clouds': 0,\n   'pop': 0.21,\n   'rain': 0.65,\n   'uvi': 7.84},\n  {'dt': 1724839200,\n   'sunrise': 1724815839,\n   'sunset': 1724863167,\n   'moonrise': 1724794260,\n   'moonset': 1724851500,\n   'moon_phase': 0.82,\n   'summary': 'Expect a day of partly cloudy with rain',\n   'temp': {'day': 30.28,\n    'min': 20.59,\n    'max': 32.77,\n    'night': 28.31,\n    'eve': 28.93,\n    'morn': 20.59},\n   'feels_like': {'day': 30.14, 'night': 28.34, 'eve': 28.91, 'morn': 20.77},\n   'pressure': 1011,\n   'humidity': 41,\n   'dew_point': 13.85,\n   'wind_speed': 2.67,\n   'wind_deg': 196,\n   'wind_gust': 2.6,\n   'weather': [{'id': 500,\n     'main': 'Rain',\n     'description': 'light rain',\n     'icon': '10d'}],\n   'clouds': 0,\n   'pop': 0.77,\n   'rain': 0.79,\n   'uvi': 7.83},\n  {'dt': 1724925600,\n   'sunrise': 1724902290,\n   'sunset': 1724949480,\n   'moonrise': 1724884140,\n   'moonset': 1724941020,\n   'moon_phase': 0.85,\n   'summary': 'Expect a day of partly cloudy with rain',\n   'temp': {'day': 31.47,\n    'min': 22.1,\n    'max': 34.22,\n    'night': 23.46,\n    'eve': 23.82,\n    'morn': 22.1},\n   'feels_like': {'day': 30.23, 'night': 23.35, 'eve': 23.95, 'morn': 21.83},\n   'pressure': 1010,\n   'humidity': 30,\n   'dew_point': 10.13,\n   'wind_speed': 4.87,\n   'wind_deg': 137,\n   'wind_gust': 4.87,\n   'weather': [{'id': 501,\n     'main': 'Rain',\n     'description': 'moderate rain',\n     'icon': '10d'}],\n   'clouds': 1,\n   'pop': 1,\n   'rain': 7.08,\n   'uvi': 8},\n  {'dt': 1725012000,\n   'sunrise': 1724988741,\n   'sunset': 1725035793,\n   'moonrise': 1724974200,\n   'moonset': 1725029940,\n   'moon_phase': 0.88,\n   'summary': 'You can expect clear sky in the morning, with partly cloudy in the afternoon',\n   'temp': {'day': 30.33,\n    'min': 20.79,\n    'max': 33.13,\n    'night': 28.68,\n    'eve': 32.93,\n    'morn': 20.79},\n   'feels_like': {'day': 29.32, 'night': 27.73, 'eve': 31.11, 'morn': 20.54},\n   'pressure': 1010,\n   'humidity': 33,\n   'dew_point': 10.87,\n   'wind_speed': 2.03,\n   'wind_deg': 257,\n   'wind_gust': 2.78,\n   'weather': [{'id': 800,\n     'main': 'Clear',\n     'description': 'clear sky',\n     'icon': '01d'}],\n   'clouds': 0,\n   'pop': 0,\n   'uvi': 8},\n  {'dt': 1725098400,\n   'sunrise': 1725075192,\n   'sunset': 1725122105,\n   'moonrise': 1725064500,\n   'moonset': 1725118440,\n   'moon_phase': 0.92,\n   'summary': 'Expect a day of partly cloudy with rain',\n   'temp': {'day': 30.64,\n    'min': 22.07,\n    'max': 34.28,\n    'night': 26.34,\n    'eve': 27.32,\n    'morn': 22.07},\n   'feels_like': {'day': 29.37, 'night': 26.34, 'eve': 27.34, 'morn': 21.72},\n   'pressure': 1009,\n   'humidity': 30,\n   'dew_point': 9.61,\n   'wind_speed': 4.27,\n   'wind_deg': 159,\n   'wind_gust': 5.03,\n   'weather': [{'id': 500,\n     'main': 'Rain',\n     'description': 'light rain',\n     'icon': '10d'}],\n   'clouds': 39,\n   'pop': 0.83,\n   'rain': 0.9,\n   'uvi': 8}]}"
     },
     "execution_count": 112,
     "metadata": {},
     "output_type": "execute_result"
    }
   ],
   "source": [
    "data"
   ],
   "metadata": {
    "collapsed": false,
    "ExecuteTime": {
     "end_time": "2024-08-23T23:00:43.670595Z",
     "start_time": "2024-08-23T23:00:43.648080Z"
    }
   },
   "id": "bb21939d1c1f6d52",
   "execution_count": 112
  },
  {
   "cell_type": "code",
   "outputs": [],
   "source": [
    "df = pd.DataFrame(data['daily'])"
   ],
   "metadata": {
    "collapsed": false,
    "ExecuteTime": {
     "end_time": "2024-08-23T23:00:43.804640Z",
     "start_time": "2024-08-23T23:00:43.798375Z"
    }
   },
   "id": "47071179e6cc4758",
   "execution_count": 113
  },
  {
   "cell_type": "code",
   "outputs": [],
   "source": [
    "df = df[['dt', 'temp', 'wind_speed', 'humidity']]"
   ],
   "metadata": {
    "collapsed": false,
    "ExecuteTime": {
     "end_time": "2024-08-23T23:00:44.452065Z",
     "start_time": "2024-08-23T23:00:44.446952Z"
    }
   },
   "id": "2d122da19910ab21",
   "execution_count": 114
  },
  {
   "cell_type": "code",
   "outputs": [
    {
     "name": "stdout",
     "output_type": "stream",
     "text": [
      "Total NaN values:  0  \n",
      " dt            0\n",
      "temp          0\n",
      "wind_speed    0\n",
      "humidity      0\n",
      "dtype: int64\n"
     ]
    }
   ],
   "source": [
    "print(\"Total NaN values: \",df.isna().sum().sum(),\" \\n\",df.isna().sum())"
   ],
   "metadata": {
    "collapsed": false,
    "ExecuteTime": {
     "end_time": "2024-08-23T23:00:45.040164Z",
     "start_time": "2024-08-23T23:00:45.033340Z"
    }
   },
   "id": "c77623e4996809c8",
   "execution_count": 115
  },
  {
   "cell_type": "code",
   "outputs": [
    {
     "name": "stdout",
     "output_type": "stream",
     "text": [
      "<class 'pandas.core.frame.DataFrame'>\n",
      "RangeIndex: 8 entries, 0 to 7\n",
      "Data columns (total 4 columns):\n",
      " #   Column      Non-Null Count  Dtype  \n",
      "---  ------      --------------  -----  \n",
      " 0   dt          8 non-null      int64  \n",
      " 1   temp        8 non-null      object \n",
      " 2   wind_speed  8 non-null      float64\n",
      " 3   humidity    8 non-null      int64  \n",
      "dtypes: float64(1), int64(2), object(1)\n",
      "memory usage: 388.0+ bytes\n"
     ]
    }
   ],
   "source": [
    "df.info()"
   ],
   "metadata": {
    "collapsed": false,
    "ExecuteTime": {
     "end_time": "2024-08-23T23:00:45.751951Z",
     "start_time": "2024-08-23T23:00:45.740711Z"
    }
   },
   "id": "a4fba3e7d28a02a9",
   "execution_count": 116
  },
  {
   "cell_type": "code",
   "outputs": [
    {
     "data": {
      "text/plain": "           dt                                               temp  wind_speed  \\\n0  1724493600  {'day': 33.38, 'min': 22.94, 'max': 36.77, 'ni...        3.81   \n1  1724580000  {'day': 34.17, 'min': 20.89, 'max': 36.85, 'ni...        3.82   \n2  1724666400  {'day': 35.33, 'min': 22.1, 'max': 36.76, 'nig...        3.18   \n3  1724752800  {'day': 31.2, 'min': 20.24, 'max': 32.89, 'nig...        2.46   \n4  1724839200  {'day': 30.28, 'min': 20.59, 'max': 32.77, 'ni...        2.67   \n5  1724925600  {'day': 31.47, 'min': 22.1, 'max': 34.22, 'nig...        4.87   \n6  1725012000  {'day': 30.33, 'min': 20.79, 'max': 33.13, 'ni...        2.03   \n7  1725098400  {'day': 30.64, 'min': 22.07, 'max': 34.28, 'ni...        4.27   \n\n   humidity  \n0        23  \n1        23  \n2        24  \n3        34  \n4        41  \n5        30  \n6        33  \n7        30  ",
      "text/html": "<div>\n<style scoped>\n    .dataframe tbody tr th:only-of-type {\n        vertical-align: middle;\n    }\n\n    .dataframe tbody tr th {\n        vertical-align: top;\n    }\n\n    .dataframe thead th {\n        text-align: right;\n    }\n</style>\n<table border=\"1\" class=\"dataframe\">\n  <thead>\n    <tr style=\"text-align: right;\">\n      <th></th>\n      <th>dt</th>\n      <th>temp</th>\n      <th>wind_speed</th>\n      <th>humidity</th>\n    </tr>\n  </thead>\n  <tbody>\n    <tr>\n      <th>0</th>\n      <td>1724493600</td>\n      <td>{'day': 33.38, 'min': 22.94, 'max': 36.77, 'ni...</td>\n      <td>3.81</td>\n      <td>23</td>\n    </tr>\n    <tr>\n      <th>1</th>\n      <td>1724580000</td>\n      <td>{'day': 34.17, 'min': 20.89, 'max': 36.85, 'ni...</td>\n      <td>3.82</td>\n      <td>23</td>\n    </tr>\n    <tr>\n      <th>2</th>\n      <td>1724666400</td>\n      <td>{'day': 35.33, 'min': 22.1, 'max': 36.76, 'nig...</td>\n      <td>3.18</td>\n      <td>24</td>\n    </tr>\n    <tr>\n      <th>3</th>\n      <td>1724752800</td>\n      <td>{'day': 31.2, 'min': 20.24, 'max': 32.89, 'nig...</td>\n      <td>2.46</td>\n      <td>34</td>\n    </tr>\n    <tr>\n      <th>4</th>\n      <td>1724839200</td>\n      <td>{'day': 30.28, 'min': 20.59, 'max': 32.77, 'ni...</td>\n      <td>2.67</td>\n      <td>41</td>\n    </tr>\n    <tr>\n      <th>5</th>\n      <td>1724925600</td>\n      <td>{'day': 31.47, 'min': 22.1, 'max': 34.22, 'nig...</td>\n      <td>4.87</td>\n      <td>30</td>\n    </tr>\n    <tr>\n      <th>6</th>\n      <td>1725012000</td>\n      <td>{'day': 30.33, 'min': 20.79, 'max': 33.13, 'ni...</td>\n      <td>2.03</td>\n      <td>33</td>\n    </tr>\n    <tr>\n      <th>7</th>\n      <td>1725098400</td>\n      <td>{'day': 30.64, 'min': 22.07, 'max': 34.28, 'ni...</td>\n      <td>4.27</td>\n      <td>30</td>\n    </tr>\n  </tbody>\n</table>\n</div>"
     },
     "execution_count": 117,
     "metadata": {},
     "output_type": "execute_result"
    }
   ],
   "source": [
    "df"
   ],
   "metadata": {
    "collapsed": false,
    "ExecuteTime": {
     "end_time": "2024-08-23T23:00:46.577809Z",
     "start_time": "2024-08-23T23:00:46.566258Z"
    }
   },
   "id": "e19b8dd79d0202e5",
   "execution_count": 117
  },
  {
   "cell_type": "code",
   "outputs": [],
   "source": [
    "df['city'] = city_name\n",
    "df['datetime'] = pd.to_datetime(df['dt'],unit='s')\n",
    "df['datetime'] = df['datetime'].dt.strftime('%Y-%m-%d')"
   ],
   "metadata": {
    "collapsed": false,
    "ExecuteTime": {
     "end_time": "2024-08-23T23:00:47.881074Z",
     "start_time": "2024-08-23T23:00:47.873948Z"
    }
   },
   "id": "b7b4a0cea7f78d3",
   "execution_count": 118
  },
  {
   "cell_type": "code",
   "outputs": [
    {
     "data": {
      "text/plain": "           dt                                               temp  wind_speed  \\\n0  1724493600  {'day': 33.38, 'min': 22.94, 'max': 36.77, 'ni...        3.81   \n1  1724580000  {'day': 34.17, 'min': 20.89, 'max': 36.85, 'ni...        3.82   \n2  1724666400  {'day': 35.33, 'min': 22.1, 'max': 36.76, 'nig...        3.18   \n3  1724752800  {'day': 31.2, 'min': 20.24, 'max': 32.89, 'nig...        2.46   \n4  1724839200  {'day': 30.28, 'min': 20.59, 'max': 32.77, 'ni...        2.67   \n5  1724925600  {'day': 31.47, 'min': 22.1, 'max': 34.22, 'nig...        4.87   \n6  1725012000  {'day': 30.33, 'min': 20.79, 'max': 33.13, 'ni...        2.03   \n7  1725098400  {'day': 30.64, 'min': 22.07, 'max': 34.28, 'ni...        4.27   \n\n   humidity     city    datetime  \n0        23  Denizli  2024-08-24  \n1        23  Denizli  2024-08-25  \n2        24  Denizli  2024-08-26  \n3        34  Denizli  2024-08-27  \n4        41  Denizli  2024-08-28  \n5        30  Denizli  2024-08-29  \n6        33  Denizli  2024-08-30  \n7        30  Denizli  2024-08-31  ",
      "text/html": "<div>\n<style scoped>\n    .dataframe tbody tr th:only-of-type {\n        vertical-align: middle;\n    }\n\n    .dataframe tbody tr th {\n        vertical-align: top;\n    }\n\n    .dataframe thead th {\n        text-align: right;\n    }\n</style>\n<table border=\"1\" class=\"dataframe\">\n  <thead>\n    <tr style=\"text-align: right;\">\n      <th></th>\n      <th>dt</th>\n      <th>temp</th>\n      <th>wind_speed</th>\n      <th>humidity</th>\n      <th>city</th>\n      <th>datetime</th>\n    </tr>\n  </thead>\n  <tbody>\n    <tr>\n      <th>0</th>\n      <td>1724493600</td>\n      <td>{'day': 33.38, 'min': 22.94, 'max': 36.77, 'ni...</td>\n      <td>3.81</td>\n      <td>23</td>\n      <td>Denizli</td>\n      <td>2024-08-24</td>\n    </tr>\n    <tr>\n      <th>1</th>\n      <td>1724580000</td>\n      <td>{'day': 34.17, 'min': 20.89, 'max': 36.85, 'ni...</td>\n      <td>3.82</td>\n      <td>23</td>\n      <td>Denizli</td>\n      <td>2024-08-25</td>\n    </tr>\n    <tr>\n      <th>2</th>\n      <td>1724666400</td>\n      <td>{'day': 35.33, 'min': 22.1, 'max': 36.76, 'nig...</td>\n      <td>3.18</td>\n      <td>24</td>\n      <td>Denizli</td>\n      <td>2024-08-26</td>\n    </tr>\n    <tr>\n      <th>3</th>\n      <td>1724752800</td>\n      <td>{'day': 31.2, 'min': 20.24, 'max': 32.89, 'nig...</td>\n      <td>2.46</td>\n      <td>34</td>\n      <td>Denizli</td>\n      <td>2024-08-27</td>\n    </tr>\n    <tr>\n      <th>4</th>\n      <td>1724839200</td>\n      <td>{'day': 30.28, 'min': 20.59, 'max': 32.77, 'ni...</td>\n      <td>2.67</td>\n      <td>41</td>\n      <td>Denizli</td>\n      <td>2024-08-28</td>\n    </tr>\n    <tr>\n      <th>5</th>\n      <td>1724925600</td>\n      <td>{'day': 31.47, 'min': 22.1, 'max': 34.22, 'nig...</td>\n      <td>4.87</td>\n      <td>30</td>\n      <td>Denizli</td>\n      <td>2024-08-29</td>\n    </tr>\n    <tr>\n      <th>6</th>\n      <td>1725012000</td>\n      <td>{'day': 30.33, 'min': 20.79, 'max': 33.13, 'ni...</td>\n      <td>2.03</td>\n      <td>33</td>\n      <td>Denizli</td>\n      <td>2024-08-30</td>\n    </tr>\n    <tr>\n      <th>7</th>\n      <td>1725098400</td>\n      <td>{'day': 30.64, 'min': 22.07, 'max': 34.28, 'ni...</td>\n      <td>4.27</td>\n      <td>30</td>\n      <td>Denizli</td>\n      <td>2024-08-31</td>\n    </tr>\n  </tbody>\n</table>\n</div>"
     },
     "execution_count": 119,
     "metadata": {},
     "output_type": "execute_result"
    }
   ],
   "source": [
    "df"
   ],
   "metadata": {
    "collapsed": false,
    "ExecuteTime": {
     "end_time": "2024-08-23T23:00:51.003702Z",
     "start_time": "2024-08-23T23:00:50.990452Z"
    }
   },
   "id": "7386065cfff064a2",
   "execution_count": 119
  },
  {
   "cell_type": "markdown",
   "source": [
    "# Upload to influxDB"
   ],
   "metadata": {
    "collapsed": false
   },
   "id": "61467ddee9178ad"
  },
  {
   "cell_type": "code",
   "outputs": [],
   "source": [],
   "metadata": {
    "collapsed": false,
    "ExecuteTime": {
     "end_time": "2024-08-23T23:00:55.438686Z",
     "start_time": "2024-08-23T23:00:55.435407Z"
    }
   },
   "id": "22efdb9bc24ed15c",
   "execution_count": 119
  },
  {
   "cell_type": "code",
   "outputs": [],
   "source": [
    "import json\n",
    "data_json = df.to_json(orient='records')\n",
    "\n",
    "data_dict = json.loads(data_json)\n",
    "\n",
    "data = {\n",
    "    \"city\": [],\n",
    "    \"day\": [],\n",
    "    \"humidity\": [],\n",
    "    \"max\": [],\n",
    "    \"min\": [],\n",
    "    \"time\": [],\n",
    "    \"wind_speed\": []\n",
    "}\n",
    "\n",
    "for entry in data_dict:\n",
    "    data[\"city\"].append(entry['city'])\n",
    "    data[\"day\"].append(entry['temp']['day'])\n",
    "    data[\"humidity\"].append(entry['humidity'])\n",
    "    data[\"max\"].append(entry['temp']['max'])\n",
    "    data[\"min\"].append(entry['temp']['min'])\n",
    "    data[\"time\"].append(f\"{entry['datetime']}T10:00:00Z\")  #\n",
    "    data[\"wind_speed\"].append(entry['wind_speed'])"
   ],
   "metadata": {
    "collapsed": false,
    "ExecuteTime": {
     "end_time": "2024-08-23T23:00:55.928153Z",
     "start_time": "2024-08-23T23:00:55.921385Z"
    }
   },
   "id": "cda0c2a811b71492",
   "execution_count": 120
  },
  {
   "cell_type": "code",
   "outputs": [
    {
     "data": {
      "text/plain": "{'city': ['Denizli',\n  'Denizli',\n  'Denizli',\n  'Denizli',\n  'Denizli',\n  'Denizli',\n  'Denizli',\n  'Denizli'],\n 'day': [33.38, 34.17, 35.33, 31.2, 30.28, 31.47, 30.33, 30.64],\n 'humidity': [23, 23, 24, 34, 41, 30, 33, 30],\n 'max': [36.77, 36.85, 36.76, 32.89, 32.77, 34.22, 33.13, 34.28],\n 'min': [22.94, 20.89, 22.1, 20.24, 20.59, 22.1, 20.79, 22.07],\n 'time': ['2024-08-24T10:00:00Z',\n  '2024-08-25T10:00:00Z',\n  '2024-08-26T10:00:00Z',\n  '2024-08-27T10:00:00Z',\n  '2024-08-28T10:00:00Z',\n  '2024-08-29T10:00:00Z',\n  '2024-08-30T10:00:00Z',\n  '2024-08-31T10:00:00Z'],\n 'wind_speed': [3.81, 3.82, 3.18, 2.46, 2.67, 4.87, 2.03, 4.27]}"
     },
     "execution_count": 121,
     "metadata": {},
     "output_type": "execute_result"
    }
   ],
   "source": [
    "data"
   ],
   "metadata": {
    "collapsed": false,
    "ExecuteTime": {
     "end_time": "2024-08-23T23:01:00.595466Z",
     "start_time": "2024-08-23T23:01:00.589175Z"
    }
   },
   "id": "34703334c8c4ac2c",
   "execution_count": 121
  },
  {
   "cell_type": "code",
   "outputs": [],
   "source": [
    "#TOKEN = A1VtmcwEllTbfPTCk2Qs0ZLXi4FxmYOgG5bZ6hXTsBdop24595FV7Ih9gutr4GLkNPYE46_F2Id2r2CRcjhGuQ==\n",
    "#TOKENCENG = fBAUCTCV-fhFJP-5O-2OX7wCjuLdGXAL2XiLsHqD2wj1ZFkS-_uWXC9oqTE2PK6-UpAv74uennRGTJDEBKYWqA=="
   ],
   "metadata": {
    "collapsed": false,
    "ExecuteTime": {
     "end_time": "2024-08-23T22:29:55.463494Z",
     "start_time": "2024-08-23T22:29:55.458933Z"
    }
   },
   "id": "ffeda42a3968e6ac",
   "execution_count": 100
  },
  {
   "cell_type": "code",
   "outputs": [],
   "source": [
    "from influxdb_client import InfluxDBClient, Point, WriteOptions\n",
    "\n",
    "token = \"fBAUCTCV-fhFJP-5O-2OX7wCjuLdGXAL2XiLsHqD2wj1ZFkS-_uWXC9oqTE2PK6-UpAv74uennRGTJDEBKYWqA==\"\n",
    "org = \"Team\"\n",
    "host = \"https://eu-central-1-1.aws.cloud2.influxdata.com\"\n",
    "bucket = \"Test\" \n",
    "\n",
    "client = InfluxDBClient(url=url, token=token, org=org)\n",
    "write_api = client.write_api(write_options=WriteOptions(batch_size=1_000, flush_interval=10_000))\n",
    "\n",
    "\n",
    "df = pd.DataFrame(data)\n",
    "\n",
    "\n",
    "for index, row in df.iterrows():\n",
    "    point = Point(\"weather_data\") \\\n",
    "        .tag(\"city\", row[\"city\"]) \\\n",
    "        .field(\"day\", row[\"day\"]) \\\n",
    "        .field(\"humidity\", row[\"humidity\"]) \\\n",
    "        .field(\"max\", row[\"max\"]) \\\n",
    "        .field(\"min\", row[\"min\"]) \\\n",
    "        .field(\"wind_speed\", row[\"wind_speed\"]) \\\n",
    "        .time(row[\"time\"])\n",
    "    write_api.write(bucket=bucket, org=org, record=point)\n",
    "\n",
    "\n",
    "client.close()\n",
    "\n"
   ],
   "metadata": {
    "collapsed": false,
    "ExecuteTime": {
     "end_time": "2024-08-23T22:29:55.477840Z",
     "start_time": "2024-08-23T22:29:55.465026Z"
    }
   },
   "id": "839c69923d603944",
   "execution_count": 101
  },
  {
   "cell_type": "markdown",
   "source": [
    "# Get data from DB"
   ],
   "metadata": {
    "collapsed": false
   },
   "id": "315dc73931109c2f"
  },
  {
   "cell_type": "code",
   "outputs": [
    {
     "name": "stdout",
     "output_type": "stream",
     "text": [
      "field                      time    day  humidity    max    min  wind_speed\n",
      "0     2024-08-23 10:00:00+00:00  23.85      82.0  23.97  23.31        7.80\n",
      "1     2024-08-24 10:00:00+00:00  24.14      77.0  24.34  23.61        8.55\n",
      "2     2024-08-25 10:00:00+00:00  24.06      72.0  24.15  23.48        6.08\n",
      "3     2024-08-26 10:00:00+00:00  23.42      72.0  23.51  22.85        5.91\n",
      "4     2024-08-27 10:00:00+00:00  23.43      73.0  23.59  23.24        5.72\n",
      "5     2024-08-28 10:00:00+00:00  23.34      75.0  23.77  23.03        5.84\n",
      "6     2024-08-29 10:00:00+00:00  23.16      72.0  23.28  22.65        4.66\n",
      "7     2024-08-30 10:00:00+00:00  22.96      68.0  23.24  22.65        4.22\n"
     ]
    }
   ],
   "source": [
    "from influxdb_client import InfluxDBClient\n",
    "import pandas as pd\n",
    "\n",
    "\n",
    "url = \"https://eu-central-1-1.aws.cloud2.influxdata.com\"\n",
    "token = \"fBAUCTCV-fhFJP-5O-2OX7wCjuLdGXAL2XiLsHqD2wj1ZFkS-_uWXC9oqTE2PK6-UpAv74uennRGTJDEBKYWqA==\"\n",
    "org = \"Team\"\n",
    "bucket = \"Test\"\n",
    "\n",
    "client = InfluxDBClient(url=url, token=token, org=org)\n",
    "query_api = client.query_api()\n",
    "\n",
    "\n",
    "query = \"\"\"\n",
    "from(bucket: \"Test\")\n",
    "  |> range(start: 2024-08-01T00:00:00Z, stop: 2024-08-31T23:59:59Z)\n",
    "  |> filter(fn: (r) => r[\"_measurement\"] == \"weather_data\")\n",
    "\"\"\"\n",
    "\n",
    "try:\n",
    "    result = query_api.query(org=org, query=query)\n",
    "    \n",
    "    # Sonuçları işleme\n",
    "    records = []\n",
    "    for table in result:\n",
    "        for record in table.records:\n",
    "            records.append({\n",
    "                \"time\": record.get_time(),\n",
    "                \"measurement\": record.get_measurement(),\n",
    "                \"field\": record.get_field(),\n",
    "                \"value\": record.get_value()\n",
    "            })\n",
    "\n",
    "    df = pd.DataFrame(records)\n",
    "    \n",
    "    # Zaman değerini datetime formatına çevir\n",
    "    df['time'] = pd.to_datetime(df['time'])\n",
    "\n",
    "    # Pivot işlemi\n",
    "    pivot_df = df.pivot_table(index='time', columns='field', values='value', aggfunc='mean').reset_index()\n",
    "    \n",
    "    print(pivot_df)\n",
    "\n",
    "except Exception as e:\n",
    "    print(f\"Bir hata oluştu: {e}\")\n",
    "\n",
    "finally:\n",
    "    client.close()\n"
   ],
   "metadata": {
    "collapsed": false,
    "ExecuteTime": {
     "end_time": "2024-08-23T22:59:45.122242Z",
     "start_time": "2024-08-23T22:59:44.667388Z"
    }
   },
   "id": "cf5307857151bb55",
   "execution_count": 104
  },
  {
   "cell_type": "code",
   "outputs": [
    {
     "data": {
      "text/plain": "field                      time    day  humidity    max    min  wind_speed\n0     2024-08-23 10:00:00+00:00  23.85      82.0  23.97  23.31        7.80\n1     2024-08-24 10:00:00+00:00  24.14      77.0  24.34  23.61        8.55\n2     2024-08-25 10:00:00+00:00  24.06      72.0  24.15  23.48        6.08\n3     2024-08-26 10:00:00+00:00  23.42      72.0  23.51  22.85        5.91\n4     2024-08-27 10:00:00+00:00  23.43      73.0  23.59  23.24        5.72\n5     2024-08-28 10:00:00+00:00  23.34      75.0  23.77  23.03        5.84\n6     2024-08-29 10:00:00+00:00  23.16      72.0  23.28  22.65        4.66\n7     2024-08-30 10:00:00+00:00  22.96      68.0  23.24  22.65        4.22",
      "text/html": "<div>\n<style scoped>\n    .dataframe tbody tr th:only-of-type {\n        vertical-align: middle;\n    }\n\n    .dataframe tbody tr th {\n        vertical-align: top;\n    }\n\n    .dataframe thead th {\n        text-align: right;\n    }\n</style>\n<table border=\"1\" class=\"dataframe\">\n  <thead>\n    <tr style=\"text-align: right;\">\n      <th>field</th>\n      <th>time</th>\n      <th>day</th>\n      <th>humidity</th>\n      <th>max</th>\n      <th>min</th>\n      <th>wind_speed</th>\n    </tr>\n  </thead>\n  <tbody>\n    <tr>\n      <th>0</th>\n      <td>2024-08-23 10:00:00+00:00</td>\n      <td>23.85</td>\n      <td>82.0</td>\n      <td>23.97</td>\n      <td>23.31</td>\n      <td>7.80</td>\n    </tr>\n    <tr>\n      <th>1</th>\n      <td>2024-08-24 10:00:00+00:00</td>\n      <td>24.14</td>\n      <td>77.0</td>\n      <td>24.34</td>\n      <td>23.61</td>\n      <td>8.55</td>\n    </tr>\n    <tr>\n      <th>2</th>\n      <td>2024-08-25 10:00:00+00:00</td>\n      <td>24.06</td>\n      <td>72.0</td>\n      <td>24.15</td>\n      <td>23.48</td>\n      <td>6.08</td>\n    </tr>\n    <tr>\n      <th>3</th>\n      <td>2024-08-26 10:00:00+00:00</td>\n      <td>23.42</td>\n      <td>72.0</td>\n      <td>23.51</td>\n      <td>22.85</td>\n      <td>5.91</td>\n    </tr>\n    <tr>\n      <th>4</th>\n      <td>2024-08-27 10:00:00+00:00</td>\n      <td>23.43</td>\n      <td>73.0</td>\n      <td>23.59</td>\n      <td>23.24</td>\n      <td>5.72</td>\n    </tr>\n    <tr>\n      <th>5</th>\n      <td>2024-08-28 10:00:00+00:00</td>\n      <td>23.34</td>\n      <td>75.0</td>\n      <td>23.77</td>\n      <td>23.03</td>\n      <td>5.84</td>\n    </tr>\n    <tr>\n      <th>6</th>\n      <td>2024-08-29 10:00:00+00:00</td>\n      <td>23.16</td>\n      <td>72.0</td>\n      <td>23.28</td>\n      <td>22.65</td>\n      <td>4.66</td>\n    </tr>\n    <tr>\n      <th>7</th>\n      <td>2024-08-30 10:00:00+00:00</td>\n      <td>22.96</td>\n      <td>68.0</td>\n      <td>23.24</td>\n      <td>22.65</td>\n      <td>4.22</td>\n    </tr>\n  </tbody>\n</table>\n</div>"
     },
     "execution_count": 105,
     "metadata": {},
     "output_type": "execute_result"
    }
   ],
   "source": [
    "pivot_df"
   ],
   "metadata": {
    "collapsed": false,
    "ExecuteTime": {
     "end_time": "2024-08-23T22:59:46.169182Z",
     "start_time": "2024-08-23T22:59:46.153641Z"
    }
   },
   "id": "ef3d373795a249da",
   "execution_count": 105
  },
  {
   "cell_type": "code",
   "outputs": [],
   "source": [],
   "metadata": {
    "collapsed": false
   },
   "id": "81cda0cac5026437"
  }
 ],
 "metadata": {
  "kernelspec": {
   "display_name": "Python 3",
   "language": "python",
   "name": "python3"
  },
  "language_info": {
   "codemirror_mode": {
    "name": "ipython",
    "version": 2
   },
   "file_extension": ".py",
   "mimetype": "text/x-python",
   "name": "python",
   "nbconvert_exporter": "python",
   "pygments_lexer": "ipython2",
   "version": "2.7.6"
  }
 },
 "nbformat": 4,
 "nbformat_minor": 5
}
